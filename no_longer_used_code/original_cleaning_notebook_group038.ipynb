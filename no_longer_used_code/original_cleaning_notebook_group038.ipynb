{
  "nbformat": 4,
  "nbformat_minor": 0,
  "metadata": {
    "colab": {
      "name": "Cleaning.ipynb",
      "provenance": [],
      "collapsed_sections": [],
      "toc_visible": true,
      "include_colab_link": true
    },
    "kernelspec": {
      "name": "python3",
      "display_name": "Python 3"
    },
    "language_info": {
      "name": "python"
    }
  },
  "cells": [
    {
      "cell_type": "markdown",
      "metadata": {
        "id": "view-in-github",
        "colab_type": "text"
      },
      "source": [
        "<a href=\"https://colab.research.google.com/github/COGS108/group038_sp21/blob/main/Cleaning.ipynb\" target=\"_parent\"><img src=\"https://colab.research.google.com/assets/colab-badge.svg\" alt=\"Open In Colab\"/></a>"
      ]
    },
    {
      "cell_type": "code",
      "metadata": {
        "id": "lbqzLmvOPcDc"
      },
      "source": [
        "#copied and pasted over from DataCheckpoint_group038.ipynb on 5/5/21 at 6:20pm\n",
        "#Added in webscraping of CA legislature code on 5/6/21 at 3:00pm -Andrew"
      ],
      "execution_count": null,
      "outputs": []
    },
    {
      "cell_type": "markdown",
      "metadata": {
        "id": "ai-NcoGEAxpZ"
      },
      "source": [
        "\n",
        "\n",
        "# Setup"
      ]
    },
    {
      "cell_type": "code",
      "metadata": {
        "id": "lJNyPPheA572"
      },
      "source": [
        "#importing basic programs\n",
        "import pandas as pd\n",
        "import seaborn as sns\n",
        "import matplotlib.pyplot as plt\n",
        "import numpy as np\n",
        "\n",
        "from bs4 import BeautifulSoup # Beautiful Soup library used for web scraping\n",
        "import requests # this is needed to communicate with the html file"
      ],
      "execution_count": null,
      "outputs": []
    },
    {
      "cell_type": "markdown",
      "metadata": {
        "id": "pCP8D8isA1mw"
      },
      "source": [
        "# Data Cleaning"
      ]
    },
    {
      "cell_type": "code",
      "metadata": {
        "id": "gvP3LxSC6Kaj"
      },
      "source": [
        "#reading in dataframes\n",
        "df_vocab = pd.read_csv('https://raw.githubusercontent.com/lupedeanda/test_repo/main/vocab.csv')\n",
        "df_codes = pd.read_csv('https://raw.githubusercontent.com/lupedeanda/test_repo/main/codes.csv')\n",
        "df_bills = pd.read_csv('https://raw.githubusercontent.com/lupedeanda/test_repo/main/bills.csv')\n",
        "df_shootings = pd.read_csv('https://raw.githubusercontent.com/lupedeanda/test_repo/main/shootings.csv')\n"
      ],
      "execution_count": null,
      "outputs": []
    },
    {
      "cell_type": "code",
      "metadata": {
        "id": "m-JEZX7rACMk",
        "colab": {
          "base_uri": "https://localhost:8080/",
          "height": 80
        },
        "outputId": "48980f43-0cb9-448f-b0ff-7685aef490ae"
      },
      "source": [
        "#only have 2 columns and what we have currently seems to be as usable/clean as we can make it\n",
        "df_vocab.head(1)"
      ],
      "execution_count": null,
      "outputs": [
        {
          "output_type": "execute_result",
          "data": {
            "text/html": [
              "<div>\n",
              "<style scoped>\n",
              "    .dataframe tbody tr th:only-of-type {\n",
              "        vertical-align: middle;\n",
              "    }\n",
              "\n",
              "    .dataframe tbody tr th {\n",
              "        vertical-align: top;\n",
              "    }\n",
              "\n",
              "    .dataframe thead th {\n",
              "        text-align: right;\n",
              "    }\n",
              "</style>\n",
              "<table border=\"1\" class=\"dataframe\">\n",
              "  <thead>\n",
              "    <tr style=\"text-align: right;\">\n",
              "      <th></th>\n",
              "      <th>Word</th>\n",
              "      <th>Definition</th>\n",
              "    </tr>\n",
              "  </thead>\n",
              "  <tbody>\n",
              "    <tr>\n",
              "      <th>0</th>\n",
              "      <td>Corroborate</td>\n",
              "      <td>To give support to a theory or finding</td>\n",
              "    </tr>\n",
              "  </tbody>\n",
              "</table>\n",
              "</div>"
            ],
            "text/plain": [
              "          Word                              Definition\n",
              "0  Corroborate  To give support to a theory or finding"
            ]
          },
          "metadata": {
            "tags": []
          },
          "execution_count": 4
        }
      ]
    },
    {
      "cell_type": "code",
      "metadata": {
        "colab": {
          "base_uri": "https://localhost:8080/",
          "height": 80
        },
        "id": "1lSc1cZ4uW2J",
        "outputId": "afae01a1-e2d0-4b4d-ca32-96fa7e3fd3a6"
      },
      "source": [
        "#same as above\n",
        "#only have 2 columns and what we have currently seems to be as usable/clean as we can make it\n",
        "df_codes.head(1)"
      ],
      "execution_count": null,
      "outputs": [
        {
          "output_type": "execute_result",
          "data": {
            "text/html": [
              "<div>\n",
              "<style scoped>\n",
              "    .dataframe tbody tr th:only-of-type {\n",
              "        vertical-align: middle;\n",
              "    }\n",
              "\n",
              "    .dataframe tbody tr th {\n",
              "        vertical-align: top;\n",
              "    }\n",
              "\n",
              "    .dataframe thead th {\n",
              "        text-align: right;\n",
              "    }\n",
              "</style>\n",
              "<table border=\"1\" class=\"dataframe\">\n",
              "  <thead>\n",
              "    <tr style=\"text-align: right;\">\n",
              "      <th></th>\n",
              "      <th>Code</th>\n",
              "      <th>Description</th>\n",
              "    </tr>\n",
              "  </thead>\n",
              "  <tbody>\n",
              "    <tr>\n",
              "      <th>0</th>\n",
              "      <td>10-35</td>\n",
              "      <td>Confidential information or open window</td>\n",
              "    </tr>\n",
              "  </tbody>\n",
              "</table>\n",
              "</div>"
            ],
            "text/plain": [
              "    Code                              Description\n",
              "0  10-35  Confidential information or open window"
            ]
          },
          "metadata": {
            "tags": []
          },
          "execution_count": 5
        }
      ]
    },
    {
      "cell_type": "code",
      "metadata": {
        "colab": {
          "base_uri": "https://localhost:8080/",
          "height": 80
        },
        "id": "CLCRoa8guZZP",
        "outputId": "52497392-420a-4d81-cdb6-c8b18b8a239f"
      },
      "source": [
        "### this is a tentative dataset while we attempt to build a webscraper to collect all of the available data\n",
        "#dataset as is is pretty concise and usable\n",
        "#was created by government officials with uniformity in mind so there isn't much we need to fix\n",
        "df_bills.head(1)"
      ],
      "execution_count": null,
      "outputs": [
        {
          "output_type": "execute_result",
          "data": {
            "text/html": [
              "<div>\n",
              "<style scoped>\n",
              "    .dataframe tbody tr th:only-of-type {\n",
              "        vertical-align: middle;\n",
              "    }\n",
              "\n",
              "    .dataframe tbody tr th {\n",
              "        vertical-align: top;\n",
              "    }\n",
              "\n",
              "    .dataframe thead th {\n",
              "        text-align: right;\n",
              "    }\n",
              "</style>\n",
              "<table border=\"1\" class=\"dataframe\">\n",
              "  <thead>\n",
              "    <tr style=\"text-align: right;\">\n",
              "      <th></th>\n",
              "      <th>Measure</th>\n",
              "      <th>Session Year</th>\n",
              "      <th>Subject</th>\n",
              "      <th>Author</th>\n",
              "      <th>Status</th>\n",
              "    </tr>\n",
              "  </thead>\n",
              "  <tbody>\n",
              "    <tr>\n",
              "      <th>0</th>\n",
              "      <td>AB-1</td>\n",
              "      <td>2009 - 2010</td>\n",
              "      <td>Teachers: program of professional growth: conf...</td>\n",
              "      <td>Monning</td>\n",
              "      <td>Vetoed</td>\n",
              "    </tr>\n",
              "  </tbody>\n",
              "</table>\n",
              "</div>"
            ],
            "text/plain": [
              "  Measure Session Year  ...   Author  Status\n",
              "0    AB-1  2009 - 2010  ...  Monning  Vetoed\n",
              "\n",
              "[1 rows x 5 columns]"
            ]
          },
          "metadata": {
            "tags": []
          },
          "execution_count": 6
        }
      ]
    },
    {
      "cell_type": "code",
      "metadata": {
        "id": "3XMz8pqT5FHb"
      },
      "source": [
        "#dropping names of victims for privacy reasons\n",
        "df_shootings = df_shootings.drop(labels='name',axis=1)\n",
        "\n",
        "#dropping columns we dont need to answer our question \n",
        "df_shootings = df_shootings.drop(labels=['latitude','longitude','is_geocoding_exact','signs_of_mental_illness','threat_level','flee','body_camera'],axis=1)\n"
      ],
      "execution_count": null,
      "outputs": []
    },
    {
      "cell_type": "code",
      "metadata": {
        "colab": {
          "base_uri": "https://localhost:8080/",
          "height": 142
        },
        "id": "kRVVD1ogcAUE",
        "outputId": "93855377-fbd6-4ca0-91ae-80a5d2ea9eb6"
      },
      "source": [
        "#narrowing down data to only include CA\n",
        "df_shootings = df_shootings[df_shootings['state']=='CA']\n",
        "\n",
        "#converting to datetime and creating month and year columns\n",
        "df_shootings.loc[:,'date'] = pd.to_datetime(df_shootings['date'])\n",
        "df_shootings['month'] = df_shootings['date'].dt.month\n",
        "df_shootings['year'] = df_shootings['date'].dt.year\n",
        "df_shootings['day'] = df_shootings['date'].dt.day\n",
        "\n",
        "#creating separate dataframe for maniplution-KA\n",
        "shootings = df_shootings\n",
        "df_shootings.head(3)"
      ],
      "execution_count": null,
      "outputs": [
        {
          "output_type": "execute_result",
          "data": {
            "text/html": [
              "<div>\n",
              "<style scoped>\n",
              "    .dataframe tbody tr th:only-of-type {\n",
              "        vertical-align: middle;\n",
              "    }\n",
              "\n",
              "    .dataframe tbody tr th {\n",
              "        vertical-align: top;\n",
              "    }\n",
              "\n",
              "    .dataframe thead th {\n",
              "        text-align: right;\n",
              "    }\n",
              "</style>\n",
              "<table border=\"1\" class=\"dataframe\">\n",
              "  <thead>\n",
              "    <tr style=\"text-align: right;\">\n",
              "      <th></th>\n",
              "      <th>id</th>\n",
              "      <th>date</th>\n",
              "      <th>manner_of_death</th>\n",
              "      <th>armed</th>\n",
              "      <th>age</th>\n",
              "      <th>gender</th>\n",
              "      <th>race</th>\n",
              "      <th>city</th>\n",
              "      <th>state</th>\n",
              "      <th>month</th>\n",
              "      <th>year</th>\n",
              "      <th>day</th>\n",
              "    </tr>\n",
              "  </thead>\n",
              "  <tbody>\n",
              "    <tr>\n",
              "      <th>3</th>\n",
              "      <td>8</td>\n",
              "      <td>2015-01-04</td>\n",
              "      <td>shot</td>\n",
              "      <td>toy weapon</td>\n",
              "      <td>32.0</td>\n",
              "      <td>M</td>\n",
              "      <td>W</td>\n",
              "      <td>San Francisco</td>\n",
              "      <td>CA</td>\n",
              "      <td>1</td>\n",
              "      <td>2015</td>\n",
              "      <td>4</td>\n",
              "    </tr>\n",
              "    <tr>\n",
              "      <th>10</th>\n",
              "      <td>19</td>\n",
              "      <td>2015-01-06</td>\n",
              "      <td>shot and Tasered</td>\n",
              "      <td>knife</td>\n",
              "      <td>25.0</td>\n",
              "      <td>M</td>\n",
              "      <td>W</td>\n",
              "      <td>Stockton</td>\n",
              "      <td>CA</td>\n",
              "      <td>1</td>\n",
              "      <td>2015</td>\n",
              "      <td>6</td>\n",
              "    </tr>\n",
              "    <tr>\n",
              "      <th>22</th>\n",
              "      <td>43</td>\n",
              "      <td>2015-01-11</td>\n",
              "      <td>shot</td>\n",
              "      <td>gun</td>\n",
              "      <td>23.0</td>\n",
              "      <td>M</td>\n",
              "      <td>H</td>\n",
              "      <td>South Gate</td>\n",
              "      <td>CA</td>\n",
              "      <td>1</td>\n",
              "      <td>2015</td>\n",
              "      <td>11</td>\n",
              "    </tr>\n",
              "  </tbody>\n",
              "</table>\n",
              "</div>"
            ],
            "text/plain": [
              "    id       date   manner_of_death       armed  ...  state month  year day\n",
              "3    8 2015-01-04              shot  toy weapon  ...     CA     1  2015   4\n",
              "10  19 2015-01-06  shot and Tasered       knife  ...     CA     1  2015   6\n",
              "22  43 2015-01-11              shot         gun  ...     CA     1  2015  11\n",
              "\n",
              "[3 rows x 12 columns]"
            ]
          },
          "metadata": {
            "tags": []
          },
          "execution_count": 8
        }
      ]
    },
    {
      "cell_type": "code",
      "metadata": {
        "id": "s_W5o9NRxTt2"
      },
      "source": [
        "#dataframes of shootings sorted by year \n",
        "shootings_2015 = df_shootings[df_shootings['year']==2015]\n",
        "shootings_2016 = df_shootings[df_shootings['year']==2016]\n",
        "shootings_2017 = df_shootings[df_shootings['year']==2017]\n",
        "shootings_2018 = df_shootings[df_shootings['year']==2018]\n",
        "shootings_2019 = df_shootings[df_shootings['year']==2019]\n",
        "shootings_2020 = df_shootings[df_shootings['year']==2020]\n",
        "shootings_2021 = df_shootings[df_shootings['year']==2021]\n",
        "\n",
        "#dataframes of shootings per month regardless of year\n",
        "shootings_jan_all = df_shootings[df_shootings['month']==1]\n",
        "shootings_feb_all = df_shootings[df_shootings['month']==2]\n",
        "shootings_mar_all = df_shootings[df_shootings['month']==3]\n",
        "shootings_apr_all = df_shootings[df_shootings['month']==4]\n",
        "shootings_may_all = df_shootings[df_shootings['month']==5]\n",
        "shootings_jun_all = df_shootings[df_shootings['month']==6]\n",
        "shootings_jul_all = df_shootings[df_shootings['month']==7]\n",
        "shootings_aug_all = df_shootings[df_shootings['month']==8]\n",
        "shootings_sep_all = df_shootings[df_shootings['month']==9]\n",
        "shootings_oct_all = df_shootings[df_shootings['month']==10]\n",
        "shootings_nov_all = df_shootings[df_shootings['month']==11]\n",
        "shootings_dec_all = df_shootings[df_shootings['month']==12]"
      ],
      "execution_count": null,
      "outputs": []
    },
    {
      "cell_type": "code",
      "metadata": {
        "id": "zIRGDogYr0Rr",
        "colab": {
          "base_uri": "https://localhost:8080/",
          "height": 385
        },
        "outputId": "a0ac758e-7c00-48af-ea1f-0369fc32e27f"
      },
      "source": [
        "#to access a specific month of a specific year use: \n",
        "#variable_name = shootings_xxxx[shootings_xxxx['month' == y]] where xxxx is year as an integer and y is the month as an integer\n",
        "#ex:\n",
        "jan_2020 = shootings_2020[shootings_2020['month']==1]\n",
        "jan_2020"
      ],
      "execution_count": null,
      "outputs": [
        {
          "output_type": "execute_result",
          "data": {
            "text/html": [
              "<div>\n",
              "<style scoped>\n",
              "    .dataframe tbody tr th:only-of-type {\n",
              "        vertical-align: middle;\n",
              "    }\n",
              "\n",
              "    .dataframe tbody tr th {\n",
              "        vertical-align: top;\n",
              "    }\n",
              "\n",
              "    .dataframe thead th {\n",
              "        text-align: right;\n",
              "    }\n",
              "</style>\n",
              "<table border=\"1\" class=\"dataframe\">\n",
              "  <thead>\n",
              "    <tr style=\"text-align: right;\">\n",
              "      <th></th>\n",
              "      <th>id</th>\n",
              "      <th>date</th>\n",
              "      <th>manner_of_death</th>\n",
              "      <th>armed</th>\n",
              "      <th>age</th>\n",
              "      <th>gender</th>\n",
              "      <th>race</th>\n",
              "      <th>city</th>\n",
              "      <th>state</th>\n",
              "      <th>month</th>\n",
              "      <th>year</th>\n",
              "      <th>day</th>\n",
              "    </tr>\n",
              "  </thead>\n",
              "  <tbody>\n",
              "    <tr>\n",
              "      <th>4931</th>\n",
              "      <td>5342</td>\n",
              "      <td>2020-01-01</td>\n",
              "      <td>shot and Tasered</td>\n",
              "      <td>toy weapon</td>\n",
              "      <td>25.0</td>\n",
              "      <td>M</td>\n",
              "      <td>W</td>\n",
              "      <td>Grass Valley</td>\n",
              "      <td>CA</td>\n",
              "      <td>1</td>\n",
              "      <td>2020</td>\n",
              "      <td>1</td>\n",
              "    </tr>\n",
              "    <tr>\n",
              "      <th>4935</th>\n",
              "      <td>5350</td>\n",
              "      <td>2020-01-02</td>\n",
              "      <td>shot</td>\n",
              "      <td>gun</td>\n",
              "      <td>41.0</td>\n",
              "      <td>M</td>\n",
              "      <td>W</td>\n",
              "      <td>Murrieta</td>\n",
              "      <td>CA</td>\n",
              "      <td>1</td>\n",
              "      <td>2020</td>\n",
              "      <td>2</td>\n",
              "    </tr>\n",
              "    <tr>\n",
              "      <th>4952</th>\n",
              "      <td>5498</td>\n",
              "      <td>2020-01-08</td>\n",
              "      <td>shot</td>\n",
              "      <td>gun</td>\n",
              "      <td>27.0</td>\n",
              "      <td>M</td>\n",
              "      <td>NaN</td>\n",
              "      <td>Nipton</td>\n",
              "      <td>CA</td>\n",
              "      <td>1</td>\n",
              "      <td>2020</td>\n",
              "      <td>8</td>\n",
              "    </tr>\n",
              "    <tr>\n",
              "      <th>4958</th>\n",
              "      <td>5365</td>\n",
              "      <td>2020-01-10</td>\n",
              "      <td>shot</td>\n",
              "      <td>vehicle</td>\n",
              "      <td>24.0</td>\n",
              "      <td>M</td>\n",
              "      <td>H</td>\n",
              "      <td>Muscoy</td>\n",
              "      <td>CA</td>\n",
              "      <td>1</td>\n",
              "      <td>2020</td>\n",
              "      <td>10</td>\n",
              "    </tr>\n",
              "    <tr>\n",
              "      <th>4963</th>\n",
              "      <td>5367</td>\n",
              "      <td>2020-01-12</td>\n",
              "      <td>shot</td>\n",
              "      <td>toy weapon</td>\n",
              "      <td>31.0</td>\n",
              "      <td>M</td>\n",
              "      <td>H</td>\n",
              "      <td>Los Angeles</td>\n",
              "      <td>CA</td>\n",
              "      <td>1</td>\n",
              "      <td>2020</td>\n",
              "      <td>12</td>\n",
              "    </tr>\n",
              "    <tr>\n",
              "      <th>4980</th>\n",
              "      <td>5389</td>\n",
              "      <td>2020-01-20</td>\n",
              "      <td>shot</td>\n",
              "      <td>gun</td>\n",
              "      <td>31.0</td>\n",
              "      <td>M</td>\n",
              "      <td>H</td>\n",
              "      <td>Fountain Valley</td>\n",
              "      <td>CA</td>\n",
              "      <td>1</td>\n",
              "      <td>2020</td>\n",
              "      <td>20</td>\n",
              "    </tr>\n",
              "    <tr>\n",
              "      <th>4998</th>\n",
              "      <td>5428</td>\n",
              "      <td>2020-01-24</td>\n",
              "      <td>shot</td>\n",
              "      <td>gun</td>\n",
              "      <td>31.0</td>\n",
              "      <td>M</td>\n",
              "      <td>H</td>\n",
              "      <td>Oak Park</td>\n",
              "      <td>CA</td>\n",
              "      <td>1</td>\n",
              "      <td>2020</td>\n",
              "      <td>24</td>\n",
              "    </tr>\n",
              "  </tbody>\n",
              "</table>\n",
              "</div>"
            ],
            "text/plain": [
              "        id       date   manner_of_death       armed  ...  state month  year day\n",
              "4931  5342 2020-01-01  shot and Tasered  toy weapon  ...     CA     1  2020   1\n",
              "4935  5350 2020-01-02              shot         gun  ...     CA     1  2020   2\n",
              "4952  5498 2020-01-08              shot         gun  ...     CA     1  2020   8\n",
              "4958  5365 2020-01-10              shot     vehicle  ...     CA     1  2020  10\n",
              "4963  5367 2020-01-12              shot  toy weapon  ...     CA     1  2020  12\n",
              "4980  5389 2020-01-20              shot         gun  ...     CA     1  2020  20\n",
              "4998  5428 2020-01-24              shot         gun  ...     CA     1  2020  24\n",
              "\n",
              "[7 rows x 12 columns]"
            ]
          },
          "metadata": {
            "tags": []
          },
          "execution_count": 10
        }
      ]
    },
    {
      "cell_type": "code",
      "metadata": {
        "id": "NwxvRqQzNqeq"
      },
      "source": [
        ""
      ],
      "execution_count": null,
      "outputs": []
    },
    {
      "cell_type": "code",
      "metadata": {
        "colab": {
          "base_uri": "https://localhost:8080/",
          "height": 481
        },
        "id": "InZMe3U--5hX",
        "outputId": "98bac86b-756c-4ccf-c842-b4a4f839b561"
      },
      "source": [
        "\n",
        "#get separeate dataframe containing amount of shooting for every month -ka\n",
        "shootings = shootings.drop(labels =['manner_of_death','armed','age', 'gender','race','city','state','month','year','day','id'] ,axis=1)\n",
        "shootings = shootings.groupby([shootings['date'].dt.year,shootings['date'].dt.month]).agg({'count'})\n",
        "\n",
        "shootings\n",
        "\n"
      ],
      "execution_count": null,
      "outputs": [
        {
          "output_type": "execute_result",
          "data": {
            "text/html": [
              "<div>\n",
              "<style scoped>\n",
              "    .dataframe tbody tr th:only-of-type {\n",
              "        vertical-align: middle;\n",
              "    }\n",
              "\n",
              "    .dataframe tbody tr th {\n",
              "        vertical-align: top;\n",
              "    }\n",
              "\n",
              "    .dataframe thead tr th {\n",
              "        text-align: left;\n",
              "    }\n",
              "\n",
              "    .dataframe thead tr:last-of-type th {\n",
              "        text-align: right;\n",
              "    }\n",
              "</style>\n",
              "<table border=\"1\" class=\"dataframe\">\n",
              "  <thead>\n",
              "    <tr>\n",
              "      <th></th>\n",
              "      <th></th>\n",
              "      <th>date</th>\n",
              "    </tr>\n",
              "    <tr>\n",
              "      <th></th>\n",
              "      <th></th>\n",
              "      <th>count</th>\n",
              "    </tr>\n",
              "    <tr>\n",
              "      <th>date</th>\n",
              "      <th>date</th>\n",
              "      <th></th>\n",
              "    </tr>\n",
              "  </thead>\n",
              "  <tbody>\n",
              "    <tr>\n",
              "      <th rowspan=\"5\" valign=\"top\">2015</th>\n",
              "      <th>1</th>\n",
              "      <td>9</td>\n",
              "    </tr>\n",
              "    <tr>\n",
              "      <th>2</th>\n",
              "      <td>9</td>\n",
              "    </tr>\n",
              "    <tr>\n",
              "      <th>3</th>\n",
              "      <td>22</td>\n",
              "    </tr>\n",
              "    <tr>\n",
              "      <th>4</th>\n",
              "      <td>17</td>\n",
              "    </tr>\n",
              "    <tr>\n",
              "      <th>5</th>\n",
              "      <td>8</td>\n",
              "    </tr>\n",
              "    <tr>\n",
              "      <th>...</th>\n",
              "      <th>...</th>\n",
              "      <td>...</td>\n",
              "    </tr>\n",
              "    <tr>\n",
              "      <th>2020</th>\n",
              "      <th>12</th>\n",
              "      <td>10</td>\n",
              "    </tr>\n",
              "    <tr>\n",
              "      <th rowspan=\"4\" valign=\"top\">2021</th>\n",
              "      <th>1</th>\n",
              "      <td>13</td>\n",
              "    </tr>\n",
              "    <tr>\n",
              "      <th>2</th>\n",
              "      <td>7</td>\n",
              "    </tr>\n",
              "    <tr>\n",
              "      <th>3</th>\n",
              "      <td>11</td>\n",
              "    </tr>\n",
              "    <tr>\n",
              "      <th>4</th>\n",
              "      <td>10</td>\n",
              "    </tr>\n",
              "  </tbody>\n",
              "</table>\n",
              "<p>76 rows × 1 columns</p>\n",
              "</div>"
            ],
            "text/plain": [
              "           date\n",
              "          count\n",
              "date date      \n",
              "2015 1        9\n",
              "     2        9\n",
              "     3       22\n",
              "     4       17\n",
              "     5        8\n",
              "...         ...\n",
              "2020 12      10\n",
              "2021 1       13\n",
              "     2        7\n",
              "     3       11\n",
              "     4       10\n",
              "\n",
              "[76 rows x 1 columns]"
            ]
          },
          "metadata": {
            "tags": []
          },
          "execution_count": 11
        }
      ]
    },
    {
      "cell_type": "code",
      "metadata": {
        "colab": {
          "base_uri": "https://localhost:8080/",
          "height": 296
        },
        "id": "V9-MiplxJwXG",
        "outputId": "dd803edc-5e05-48c6-95a3-ae12f99768d1"
      },
      "source": [
        "#graphing the amount of shootings per month -ka for future graphs\n",
        "shootings.columns = ['count']\n",
        "sns.lineplot(x='date',y='count' ,data=shootings )"
      ],
      "execution_count": null,
      "outputs": [
        {
          "output_type": "execute_result",
          "data": {
            "text/plain": [
              "<matplotlib.axes._subplots.AxesSubplot at 0x7fbe39b97b50>"
            ]
          },
          "metadata": {
            "tags": []
          },
          "execution_count": 12
        },
        {
          "output_type": "display_data",
          "data": {
            "image/png": "[encoded data removed]",
            "text/plain": [
              "<Figure size 432x288 with 1 Axes>"
            ]
          },
          "metadata": {
            "tags": [],
            "needs_background": "light"
          }
        }
      ]
    },
    {
      "cell_type": "markdown",
      "metadata": {
        "id": "iUzgLU-cM0tw"
      },
      "source": [
        "##Cleaning The New Bills Dataframe -Andrew [Updated 05-22-2021]\n",
        "* Importing\n",
        "* Trimming neccessary strings\n",
        "* Removing NaNs (if needed)\n",
        "* Removing Unneeded Columns\n",
        "* Changing Dating to non string\n",
        "* Other stuff"
      ]
    },
    {
      "cell_type": "code",
      "metadata": {
        "colab": {
          "base_uri": "https://localhost:8080/",
          "height": 442
        },
        "id": "_btEw23YNK4H",
        "outputId": "7b252667-1422-4f35-ed6b-1eeaac774491"
      },
      "source": [
        "#Writing all of the dataframes into memory to be combined into one\n",
        "raw_2009_2010 = pd.read_csv(\"bills2009_2010.csv\")\n",
        "raw_2011_2012 = pd.read_csv(\"bills2011_2012.csv\")\n",
        "raw_2013_2014 = pd.read_csv(\"bills2013_2014.csv\")\n",
        "raw_2015_2016 = pd.read_csv(\"bills2015_2016.csv\")\n",
        "raw_2017_2018 = pd.read_csv(\"bills2017_2018.csv\")\n",
        "raw_2019_2020 = pd.read_csv(\"bills2019_2020.csv\")\n",
        "raw_2021_2022 = pd.read_csv(\"bills2021_2022.csv\")\n",
        "\n",
        "#%%\n",
        "\n",
        "#Creating finished dataframe starting with first set of data\n",
        "Full_Raw_DataFrame = raw_2009_2010.copy()\n",
        "#Doing the rest of the data\n",
        "df_bills = df_bills.append(raw_2011_2012)\n",
        "df_bills = df_bills.append(raw_2013_2014)\n",
        "df_bills = df_bills.append(raw_2015_2016)\n",
        "df_bills = df_bills.append(raw_2017_2018)\n",
        "df_bills = df_bills.append(raw_2019_2020)\n",
        "df_bills = df_bills.append(raw_2021_2022)\n",
        "\n",
        "df_bills = df_bills.reset_index(drop=True)\n",
        "\n",
        "\n",
        "#%%\n",
        "\n",
        "#Dropping nans due to only 2 of them existing\n",
        "df_bills.dropna(subset=['status_date'], inplace = True)\n",
        "df_bills.dropna(subset=['last_action_date'], inplace = True)\n",
        "df_bills = df_bills.reset_index(drop=True) #Resetting index as loop uses it\n",
        "\n",
        "index=0 #Index counter\n",
        "\n",
        "for row in df_bills['status_date']:\n",
        "    row= row.replace('-','',)\n",
        "    df_bills.at[index,'status_date'] = row\n",
        "#Rewrites the row under the 'Status' column so that the new string is there\n",
        "    index += 1\n",
        "index=0\n",
        "for row in df_bills['last_action_date']:\n",
        "    row= row.replace('-','',)\n",
        "    df_bills.at[index,'last_action_date'] = row\n",
        "#Rewrites the row under the 'Status' column so that the new string is there\n",
        "    index += 1"
      ],
      "execution_count": null,
      "outputs": [
        {
          "output_type": "stream",
          "text": [
            "Mounted at /content/drive\n"
          ],
          "name": "stdout"
        },
        {
          "output_type": "error",
          "ename": "FileNotFoundError",
          "evalue": "ignored",
          "traceback": [
            "\u001b[0;31m---------------------------------------------------------------------------\u001b[0m",
            "\u001b[0;31mFileNotFoundError\u001b[0m                         Traceback (most recent call last)",
            "\u001b[0;32m<ipython-input-302-8cacb3e51478>\u001b[0m in \u001b[0;36m<module>\u001b[0;34m()\u001b[0m\n\u001b[1;32m      2\u001b[0m \u001b[0mdrive\u001b[0m\u001b[0;34m.\u001b[0m\u001b[0mmount\u001b[0m\u001b[0;34m(\u001b[0m\u001b[0;34m'/content/drive'\u001b[0m\u001b[0;34m)\u001b[0m\u001b[0;34m\u001b[0m\u001b[0;34m\u001b[0m\u001b[0m\n\u001b[1;32m      3\u001b[0m \u001b[0;34m\u001b[0m\u001b[0m\n\u001b[0;32m----> 4\u001b[0;31m \u001b[0mCA_Bills_2009_2021\u001b[0m \u001b[0;34m=\u001b[0m \u001b[0mpd\u001b[0m\u001b[0;34m.\u001b[0m\u001b[0mread_csv\u001b[0m\u001b[0;34m(\u001b[0m\u001b[0;34m\"Bills_Dataframe_2009_2021.csv\"\u001b[0m\u001b[0;34m)\u001b[0m\u001b[0;34m\u001b[0m\u001b[0;34m\u001b[0m\u001b[0m\n\u001b[0m\u001b[1;32m      5\u001b[0m \u001b[0mCA_Bills_2009_2021\u001b[0m\u001b[0;34m.\u001b[0m\u001b[0mhead\u001b[0m\u001b[0;34m(\u001b[0m\u001b[0;36m5\u001b[0m\u001b[0;34m)\u001b[0m\u001b[0;34m\u001b[0m\u001b[0;34m\u001b[0m\u001b[0m\n",
            "\u001b[0;32m/usr/local/lib/python3.7/dist-packages/pandas/io/parsers.py\u001b[0m in \u001b[0;36mread_csv\u001b[0;34m(filepath_or_buffer, sep, delimiter, header, names, index_col, usecols, squeeze, prefix, mangle_dupe_cols, dtype, engine, converters, true_values, false_values, skipinitialspace, skiprows, skipfooter, nrows, na_values, keep_default_na, na_filter, verbose, skip_blank_lines, parse_dates, infer_datetime_format, keep_date_col, date_parser, dayfirst, cache_dates, iterator, chunksize, compression, thousands, decimal, lineterminator, quotechar, quoting, doublequote, escapechar, comment, encoding, dialect, error_bad_lines, warn_bad_lines, delim_whitespace, low_memory, memory_map, float_precision)\u001b[0m\n\u001b[1;32m    686\u001b[0m     )\n\u001b[1;32m    687\u001b[0m \u001b[0;34m\u001b[0m\u001b[0m\n\u001b[0;32m--> 688\u001b[0;31m     \u001b[0;32mreturn\u001b[0m \u001b[0m_read\u001b[0m\u001b[0;34m(\u001b[0m\u001b[0mfilepath_or_buffer\u001b[0m\u001b[0;34m,\u001b[0m \u001b[0mkwds\u001b[0m\u001b[0;34m)\u001b[0m\u001b[0;34m\u001b[0m\u001b[0;34m\u001b[0m\u001b[0m\n\u001b[0m\u001b[1;32m    689\u001b[0m \u001b[0;34m\u001b[0m\u001b[0m\n\u001b[1;32m    690\u001b[0m \u001b[0;34m\u001b[0m\u001b[0m\n",
            "\u001b[0;32m/usr/local/lib/python3.7/dist-packages/pandas/io/parsers.py\u001b[0m in \u001b[0;36m_read\u001b[0;34m(filepath_or_buffer, kwds)\u001b[0m\n\u001b[1;32m    452\u001b[0m \u001b[0;34m\u001b[0m\u001b[0m\n\u001b[1;32m    453\u001b[0m     \u001b[0;31m# Create the parser.\u001b[0m\u001b[0;34m\u001b[0m\u001b[0;34m\u001b[0m\u001b[0;34m\u001b[0m\u001b[0m\n\u001b[0;32m--> 454\u001b[0;31m     \u001b[0mparser\u001b[0m \u001b[0;34m=\u001b[0m \u001b[0mTextFileReader\u001b[0m\u001b[0;34m(\u001b[0m\u001b[0mfp_or_buf\u001b[0m\u001b[0;34m,\u001b[0m \u001b[0;34m**\u001b[0m\u001b[0mkwds\u001b[0m\u001b[0;34m)\u001b[0m\u001b[0;34m\u001b[0m\u001b[0;34m\u001b[0m\u001b[0m\n\u001b[0m\u001b[1;32m    455\u001b[0m \u001b[0;34m\u001b[0m\u001b[0m\n\u001b[1;32m    456\u001b[0m     \u001b[0;32mif\u001b[0m \u001b[0mchunksize\u001b[0m \u001b[0;32mor\u001b[0m \u001b[0miterator\u001b[0m\u001b[0;34m:\u001b[0m\u001b[0;34m\u001b[0m\u001b[0;34m\u001b[0m\u001b[0m\n",
            "\u001b[0;32m/usr/local/lib/python3.7/dist-packages/pandas/io/parsers.py\u001b[0m in \u001b[0;36m__init__\u001b[0;34m(self, f, engine, **kwds)\u001b[0m\n\u001b[1;32m    946\u001b[0m             \u001b[0mself\u001b[0m\u001b[0;34m.\u001b[0m\u001b[0moptions\u001b[0m\u001b[0;34m[\u001b[0m\u001b[0;34m\"has_index_names\"\u001b[0m\u001b[0;34m]\u001b[0m \u001b[0;34m=\u001b[0m \u001b[0mkwds\u001b[0m\u001b[0;34m[\u001b[0m\u001b[0;34m\"has_index_names\"\u001b[0m\u001b[0;34m]\u001b[0m\u001b[0;34m\u001b[0m\u001b[0;34m\u001b[0m\u001b[0m\n\u001b[1;32m    947\u001b[0m \u001b[0;34m\u001b[0m\u001b[0m\n\u001b[0;32m--> 948\u001b[0;31m         \u001b[0mself\u001b[0m\u001b[0;34m.\u001b[0m\u001b[0m_make_engine\u001b[0m\u001b[0;34m(\u001b[0m\u001b[0mself\u001b[0m\u001b[0;34m.\u001b[0m\u001b[0mengine\u001b[0m\u001b[0;34m)\u001b[0m\u001b[0;34m\u001b[0m\u001b[0;34m\u001b[0m\u001b[0m\n\u001b[0m\u001b[1;32m    949\u001b[0m \u001b[0;34m\u001b[0m\u001b[0m\n\u001b[1;32m    950\u001b[0m     \u001b[0;32mdef\u001b[0m \u001b[0mclose\u001b[0m\u001b[0;34m(\u001b[0m\u001b[0mself\u001b[0m\u001b[0;34m)\u001b[0m\u001b[0;34m:\u001b[0m\u001b[0;34m\u001b[0m\u001b[0;34m\u001b[0m\u001b[0m\n",
            "\u001b[0;32m/usr/local/lib/python3.7/dist-packages/pandas/io/parsers.py\u001b[0m in \u001b[0;36m_make_engine\u001b[0;34m(self, engine)\u001b[0m\n\u001b[1;32m   1178\u001b[0m     \u001b[0;32mdef\u001b[0m \u001b[0m_make_engine\u001b[0m\u001b[0;34m(\u001b[0m\u001b[0mself\u001b[0m\u001b[0;34m,\u001b[0m \u001b[0mengine\u001b[0m\u001b[0;34m=\u001b[0m\u001b[0;34m\"c\"\u001b[0m\u001b[0;34m)\u001b[0m\u001b[0;34m:\u001b[0m\u001b[0;34m\u001b[0m\u001b[0;34m\u001b[0m\u001b[0m\n\u001b[1;32m   1179\u001b[0m         \u001b[0;32mif\u001b[0m \u001b[0mengine\u001b[0m \u001b[0;34m==\u001b[0m \u001b[0;34m\"c\"\u001b[0m\u001b[0;34m:\u001b[0m\u001b[0;34m\u001b[0m\u001b[0;34m\u001b[0m\u001b[0m\n\u001b[0;32m-> 1180\u001b[0;31m             \u001b[0mself\u001b[0m\u001b[0;34m.\u001b[0m\u001b[0m_engine\u001b[0m \u001b[0;34m=\u001b[0m \u001b[0mCParserWrapper\u001b[0m\u001b[0;34m(\u001b[0m\u001b[0mself\u001b[0m\u001b[0;34m.\u001b[0m\u001b[0mf\u001b[0m\u001b[0;34m,\u001b[0m \u001b[0;34m**\u001b[0m\u001b[0mself\u001b[0m\u001b[0;34m.\u001b[0m\u001b[0moptions\u001b[0m\u001b[0;34m)\u001b[0m\u001b[0;34m\u001b[0m\u001b[0;34m\u001b[0m\u001b[0m\n\u001b[0m\u001b[1;32m   1181\u001b[0m         \u001b[0;32melse\u001b[0m\u001b[0;34m:\u001b[0m\u001b[0;34m\u001b[0m\u001b[0;34m\u001b[0m\u001b[0m\n\u001b[1;32m   1182\u001b[0m             \u001b[0;32mif\u001b[0m \u001b[0mengine\u001b[0m \u001b[0;34m==\u001b[0m \u001b[0;34m\"python\"\u001b[0m\u001b[0;34m:\u001b[0m\u001b[0;34m\u001b[0m\u001b[0;34m\u001b[0m\u001b[0m\n",
            "\u001b[0;32m/usr/local/lib/python3.7/dist-packages/pandas/io/parsers.py\u001b[0m in \u001b[0;36m__init__\u001b[0;34m(self, src, **kwds)\u001b[0m\n\u001b[1;32m   2008\u001b[0m         \u001b[0mkwds\u001b[0m\u001b[0;34m[\u001b[0m\u001b[0;34m\"usecols\"\u001b[0m\u001b[0;34m]\u001b[0m \u001b[0;34m=\u001b[0m \u001b[0mself\u001b[0m\u001b[0;34m.\u001b[0m\u001b[0musecols\u001b[0m\u001b[0;34m\u001b[0m\u001b[0;34m\u001b[0m\u001b[0m\n\u001b[1;32m   2009\u001b[0m \u001b[0;34m\u001b[0m\u001b[0m\n\u001b[0;32m-> 2010\u001b[0;31m         \u001b[0mself\u001b[0m\u001b[0;34m.\u001b[0m\u001b[0m_reader\u001b[0m \u001b[0;34m=\u001b[0m \u001b[0mparsers\u001b[0m\u001b[0;34m.\u001b[0m\u001b[0mTextReader\u001b[0m\u001b[0;34m(\u001b[0m\u001b[0msrc\u001b[0m\u001b[0;34m,\u001b[0m \u001b[0;34m**\u001b[0m\u001b[0mkwds\u001b[0m\u001b[0;34m)\u001b[0m\u001b[0;34m\u001b[0m\u001b[0;34m\u001b[0m\u001b[0m\n\u001b[0m\u001b[1;32m   2011\u001b[0m         \u001b[0mself\u001b[0m\u001b[0;34m.\u001b[0m\u001b[0munnamed_cols\u001b[0m \u001b[0;34m=\u001b[0m \u001b[0mself\u001b[0m\u001b[0;34m.\u001b[0m\u001b[0m_reader\u001b[0m\u001b[0;34m.\u001b[0m\u001b[0munnamed_cols\u001b[0m\u001b[0;34m\u001b[0m\u001b[0;34m\u001b[0m\u001b[0m\n\u001b[1;32m   2012\u001b[0m \u001b[0;34m\u001b[0m\u001b[0m\n",
            "\u001b[0;32mpandas/_libs/parsers.pyx\u001b[0m in \u001b[0;36mpandas._libs.parsers.TextReader.__cinit__\u001b[0;34m()\u001b[0m\n",
            "\u001b[0;32mpandas/_libs/parsers.pyx\u001b[0m in \u001b[0;36mpandas._libs.parsers.TextReader._setup_parser_source\u001b[0;34m()\u001b[0m\n",
            "\u001b[0;31mFileNotFoundError\u001b[0m: [Errno 2] No such file or directory: 'Bills_Dataframe_2009_2021.csv'"
          ]
        }
      ]
    },
    {
      "cell_type": "markdown",
      "metadata": {
        "id": "IVZoqCdJkrua"
      },
      "source": [
        "## Cleaning and forming of words to pull bills from CA Legislature\n",
        "* Using df_codes (manual, might return with ntlk to automate) and df_vocab (by code)"
      ]
    },
    {
      "cell_type": "code",
      "metadata": {
        "colab": {
          "base_uri": "https://localhost:8080/"
        },
        "id": "LLi3vmrSk7kq",
        "outputId": "b1bf92c8-3c73-463a-b7d5-602592d8b7f8"
      },
      "source": [
        "#Took unique words from each code\n",
        "final_list_of_words = ['confidential', 'squad', 'vicinity', 'identity', 'dispatching',\n",
        "                     'misdemeanor', 'warrant', 'negative', 'fight', 'officer', 'duty',\n",
        "                     'reckless', 'operation', 'pursuit', 'emergency', 'units', 'service',\n",
        "                     'ambush', 'condition', 'patient', 'case', 'intoxicated', 'urgent',\n",
        "                     'subject', 'traffic', 'complaint', 'standby', 'welfare', 'drugs',\n",
        "                     'influence', 'gun', 'caution', 'auto', 'accident', 'reporting'] #Will most likely return using ntlk and removing stopwords\n",
        "\n",
        "df_vocab = pd.read_csv('https://raw.githubusercontent.com/lupedeanda/test_repo/main/vocab.csv')\n",
        "#Reloading just in case\n",
        "for word in df_vocab['Word']: #Looping through each word in the column\n",
        "    word = word.lower() #Making all strings lowercase\n",
        "    final_list_of_words.append(word) #Adding to the final list\n",
        "final_list_of_words = set(final_list_of_words) #Sorting alphabetically \n",
        "\n",
        "final_list_of_words"
      ],
      "execution_count": null,
      "outputs": [
        {
          "output_type": "execute_result",
          "data": {
            "text/plain": [
              "{'abscond',\n",
              " 'accident',\n",
              " 'adjourn',\n",
              " 'admonish',\n",
              " 'ambush',\n",
              " 'apprehend',\n",
              " 'arraign',\n",
              " 'arson',\n",
              " 'auto',\n",
              " 'bail',\n",
              " 'barricade',\n",
              " 'brandish',\n",
              " 'case',\n",
              " 'caution',\n",
              " 'collusion',\n",
              " 'complaint',\n",
              " 'condition',\n",
              " 'confidential',\n",
              " 'contusion',\n",
              " 'coroner',\n",
              " 'corroborate',\n",
              " 'culprit',\n",
              " 'custody',\n",
              " 'deinquent',\n",
              " 'dispatching',\n",
              " 'drugs',\n",
              " 'duty',\n",
              " 'embezzel',\n",
              " 'emergency',\n",
              " 'exonerate',\n",
              " 'expropriation',\n",
              " 'extortion',\n",
              " 'fight',\n",
              " 'forgery',\n",
              " 'gun',\n",
              " 'identity',\n",
              " 'impeach',\n",
              " 'incarceration',\n",
              " 'indictment',\n",
              " 'influence',\n",
              " 'inquest',\n",
              " 'intoxicated',\n",
              " 'laceration',\n",
              " 'larceny',\n",
              " 'libel',\n",
              " 'lien',\n",
              " 'litigation',\n",
              " 'lynch',\n",
              " 'manslaughter',\n",
              " 'misdemeanor',\n",
              " 'moratorium',\n",
              " 'murder',\n",
              " 'negative',\n",
              " 'officer',\n",
              " 'operation',\n",
              " 'patient',\n",
              " 'perjury',\n",
              " 'prosecution',\n",
              " 'pursuit',\n",
              " 'reckless',\n",
              " 'reporting',\n",
              " 'reprimand',\n",
              " 'reprobate',\n",
              " 'sabotage',\n",
              " 'sedition',\n",
              " 'sequester',\n",
              " 'service',\n",
              " 'siege',\n",
              " 'slander',\n",
              " 'squad',\n",
              " 'standby',\n",
              " 'subdue',\n",
              " 'subject',\n",
              " 'suborn',\n",
              " 'subpoena',\n",
              " 'summons',\n",
              " 'surveillance',\n",
              " 'traffic',\n",
              " 'units',\n",
              " 'urgent',\n",
              " 'vagrancy',\n",
              " 'vicinity',\n",
              " 'warrant',\n",
              " 'welfare'}"
            ]
          },
          "metadata": {
            "tags": []
          },
          "execution_count": 13
        }
      ]
    },
    {
      "cell_type": "markdown",
      "metadata": {
        "id": "0qBKoMklBDnp"
      },
      "source": [
        "##Removing any Non-Law Enforcement Bills\n",
        "* Based off the term data we received\n",
        "* Can be used with other list of terms, that is what we might change"
      ]
    },
    {
      "cell_type": "code",
      "metadata": {
        "id": "9I6Bh1EolDld",
        "colab": {
          "base_uri": "https://localhost:8080/",
          "height": 596
        },
        "outputId": "d50ddf21-bb7f-4258-9cae-ddcd0bb3ee4a"
      },
      "source": [
        "#Assuming the bills dataset remains df_bills\n",
        "\n",
        "index=0 #Using an index to track changes by row\n",
        "keepcheck = False #Used to keep or remove rows based on the content within the string\n",
        "for row in df_bills['title']: #Looping by row (by title)\n",
        "    row = str(row).lower() #lowercase all of the string\n",
        "    rowcheck = row.split() #Splitting the string into multiple words\n",
        "    for string in rowcheck: #Looping through each string in the list of strings\n",
        "        string = string.replace(':','',) #Replacing : , . to empty characters\n",
        "        string = string.replace('.','',)\n",
        "        string = string.replace(',','',)\n",
        "        for term in final_list_of_words: #Checking each term in the made vocab list\n",
        "            if term == string: #Cross referencing word with term\n",
        "                keepcheck=True #Keepcheck if the term is equal (if not then it'll mark the row to be dropped)\n",
        "\n",
        "    if keepcheck == False: #If the row is still marked to be dropped\n",
        "        row = '|' #False String to be removed (no other strings/rows under title use |)\n",
        "        df_bills.at[index,'title'] = row #Replacing the title using the index with the new string\n",
        "    keepcheck = False #Resetting the keepcheck in case it was marked as true\n",
        "\n",
        "    index += 1\n",
        "\n",
        "df_bills = df_bills[~df_bills['title'].isin(['|'])]\n",
        "df_bills = Full_Raw_DataFrame.reset_index(drop=True) #Resetting index\n",
        "df_bills.head(20)"
      ],
      "execution_count": null,
      "outputs": [
        {
          "output_type": "error",
          "ename": "KeyError",
          "evalue": "ignored",
          "traceback": [
            "\u001b[0;31m---------------------------------------------------------------------------\u001b[0m",
            "\u001b[0;31mKeyError\u001b[0m                                  Traceback (most recent call last)",
            "\u001b[0;32m/usr/local/lib/python3.7/dist-packages/pandas/core/indexes/base.py\u001b[0m in \u001b[0;36mget_loc\u001b[0;34m(self, key, method, tolerance)\u001b[0m\n\u001b[1;32m   2897\u001b[0m             \u001b[0;32mtry\u001b[0m\u001b[0;34m:\u001b[0m\u001b[0;34m\u001b[0m\u001b[0;34m\u001b[0m\u001b[0m\n\u001b[0;32m-> 2898\u001b[0;31m                 \u001b[0;32mreturn\u001b[0m \u001b[0mself\u001b[0m\u001b[0;34m.\u001b[0m\u001b[0m_engine\u001b[0m\u001b[0;34m.\u001b[0m\u001b[0mget_loc\u001b[0m\u001b[0;34m(\u001b[0m\u001b[0mcasted_key\u001b[0m\u001b[0;34m)\u001b[0m\u001b[0;34m\u001b[0m\u001b[0;34m\u001b[0m\u001b[0m\n\u001b[0m\u001b[1;32m   2899\u001b[0m             \u001b[0;32mexcept\u001b[0m \u001b[0mKeyError\u001b[0m \u001b[0;32mas\u001b[0m \u001b[0merr\u001b[0m\u001b[0;34m:\u001b[0m\u001b[0;34m\u001b[0m\u001b[0;34m\u001b[0m\u001b[0m\n",
            "\u001b[0;32mpandas/_libs/index.pyx\u001b[0m in \u001b[0;36mpandas._libs.index.IndexEngine.get_loc\u001b[0;34m()\u001b[0m\n",
            "\u001b[0;32mpandas/_libs/index.pyx\u001b[0m in \u001b[0;36mpandas._libs.index.IndexEngine.get_loc\u001b[0;34m()\u001b[0m\n",
            "\u001b[0;32mpandas/_libs/hashtable_class_helper.pxi\u001b[0m in \u001b[0;36mpandas._libs.hashtable.PyObjectHashTable.get_item\u001b[0;34m()\u001b[0m\n",
            "\u001b[0;32mpandas/_libs/hashtable_class_helper.pxi\u001b[0m in \u001b[0;36mpandas._libs.hashtable.PyObjectHashTable.get_item\u001b[0;34m()\u001b[0m\n",
            "\u001b[0;31mKeyError\u001b[0m: 'title'",
            "\nThe above exception was the direct cause of the following exception:\n",
            "\u001b[0;31mKeyError\u001b[0m                                  Traceback (most recent call last)",
            "\u001b[0;32m<ipython-input-15-ff9de2264695>\u001b[0m in \u001b[0;36m<module>\u001b[0;34m()\u001b[0m\n\u001b[1;32m      3\u001b[0m \u001b[0mindex\u001b[0m\u001b[0;34m=\u001b[0m\u001b[0;36m0\u001b[0m \u001b[0;31m#Using an index to track changes by row\u001b[0m\u001b[0;34m\u001b[0m\u001b[0;34m\u001b[0m\u001b[0m\n\u001b[1;32m      4\u001b[0m \u001b[0mkeepcheck\u001b[0m \u001b[0;34m=\u001b[0m \u001b[0;32mFalse\u001b[0m \u001b[0;31m#Used to keep or remove rows based on the content within the string\u001b[0m\u001b[0;34m\u001b[0m\u001b[0;34m\u001b[0m\u001b[0m\n\u001b[0;32m----> 5\u001b[0;31m \u001b[0;32mfor\u001b[0m \u001b[0mrow\u001b[0m \u001b[0;32min\u001b[0m \u001b[0mdf_bills\u001b[0m\u001b[0;34m[\u001b[0m\u001b[0;34m'title'\u001b[0m\u001b[0;34m]\u001b[0m\u001b[0;34m:\u001b[0m \u001b[0;31m#Looping by row (by title)\u001b[0m\u001b[0;34m\u001b[0m\u001b[0;34m\u001b[0m\u001b[0m\n\u001b[0m\u001b[1;32m      6\u001b[0m     \u001b[0mrow\u001b[0m \u001b[0;34m=\u001b[0m \u001b[0mrow\u001b[0m\u001b[0;34m.\u001b[0m\u001b[0mlower\u001b[0m\u001b[0;34m(\u001b[0m\u001b[0;34m)\u001b[0m \u001b[0;31m#lowercase all of the string\u001b[0m\u001b[0;34m\u001b[0m\u001b[0;34m\u001b[0m\u001b[0m\n\u001b[1;32m      7\u001b[0m     \u001b[0mrowcheck\u001b[0m \u001b[0;34m=\u001b[0m \u001b[0mrow\u001b[0m\u001b[0;34m.\u001b[0m\u001b[0msplit\u001b[0m\u001b[0;34m(\u001b[0m\u001b[0;34m)\u001b[0m \u001b[0;31m#Splitting the string into multiple words\u001b[0m\u001b[0;34m\u001b[0m\u001b[0;34m\u001b[0m\u001b[0m\n",
            "\u001b[0;32m/usr/local/lib/python3.7/dist-packages/pandas/core/frame.py\u001b[0m in \u001b[0;36m__getitem__\u001b[0;34m(self, key)\u001b[0m\n\u001b[1;32m   2904\u001b[0m             \u001b[0;32mif\u001b[0m \u001b[0mself\u001b[0m\u001b[0;34m.\u001b[0m\u001b[0mcolumns\u001b[0m\u001b[0;34m.\u001b[0m\u001b[0mnlevels\u001b[0m \u001b[0;34m>\u001b[0m \u001b[0;36m1\u001b[0m\u001b[0;34m:\u001b[0m\u001b[0;34m\u001b[0m\u001b[0;34m\u001b[0m\u001b[0m\n\u001b[1;32m   2905\u001b[0m                 \u001b[0;32mreturn\u001b[0m \u001b[0mself\u001b[0m\u001b[0;34m.\u001b[0m\u001b[0m_getitem_multilevel\u001b[0m\u001b[0;34m(\u001b[0m\u001b[0mkey\u001b[0m\u001b[0;34m)\u001b[0m\u001b[0;34m\u001b[0m\u001b[0;34m\u001b[0m\u001b[0m\n\u001b[0;32m-> 2906\u001b[0;31m             \u001b[0mindexer\u001b[0m \u001b[0;34m=\u001b[0m \u001b[0mself\u001b[0m\u001b[0;34m.\u001b[0m\u001b[0mcolumns\u001b[0m\u001b[0;34m.\u001b[0m\u001b[0mget_loc\u001b[0m\u001b[0;34m(\u001b[0m\u001b[0mkey\u001b[0m\u001b[0;34m)\u001b[0m\u001b[0;34m\u001b[0m\u001b[0;34m\u001b[0m\u001b[0m\n\u001b[0m\u001b[1;32m   2907\u001b[0m             \u001b[0;32mif\u001b[0m \u001b[0mis_integer\u001b[0m\u001b[0;34m(\u001b[0m\u001b[0mindexer\u001b[0m\u001b[0;34m)\u001b[0m\u001b[0;34m:\u001b[0m\u001b[0;34m\u001b[0m\u001b[0;34m\u001b[0m\u001b[0m\n\u001b[1;32m   2908\u001b[0m                 \u001b[0mindexer\u001b[0m \u001b[0;34m=\u001b[0m \u001b[0;34m[\u001b[0m\u001b[0mindexer\u001b[0m\u001b[0;34m]\u001b[0m\u001b[0;34m\u001b[0m\u001b[0;34m\u001b[0m\u001b[0m\n",
            "\u001b[0;32m/usr/local/lib/python3.7/dist-packages/pandas/core/indexes/base.py\u001b[0m in \u001b[0;36mget_loc\u001b[0;34m(self, key, method, tolerance)\u001b[0m\n\u001b[1;32m   2898\u001b[0m                 \u001b[0;32mreturn\u001b[0m \u001b[0mself\u001b[0m\u001b[0;34m.\u001b[0m\u001b[0m_engine\u001b[0m\u001b[0;34m.\u001b[0m\u001b[0mget_loc\u001b[0m\u001b[0;34m(\u001b[0m\u001b[0mcasted_key\u001b[0m\u001b[0;34m)\u001b[0m\u001b[0;34m\u001b[0m\u001b[0;34m\u001b[0m\u001b[0m\n\u001b[1;32m   2899\u001b[0m             \u001b[0;32mexcept\u001b[0m \u001b[0mKeyError\u001b[0m \u001b[0;32mas\u001b[0m \u001b[0merr\u001b[0m\u001b[0;34m:\u001b[0m\u001b[0;34m\u001b[0m\u001b[0;34m\u001b[0m\u001b[0m\n\u001b[0;32m-> 2900\u001b[0;31m                 \u001b[0;32mraise\u001b[0m \u001b[0mKeyError\u001b[0m\u001b[0;34m(\u001b[0m\u001b[0mkey\u001b[0m\u001b[0;34m)\u001b[0m \u001b[0;32mfrom\u001b[0m \u001b[0merr\u001b[0m\u001b[0;34m\u001b[0m\u001b[0;34m\u001b[0m\u001b[0m\n\u001b[0m\u001b[1;32m   2901\u001b[0m \u001b[0;34m\u001b[0m\u001b[0m\n\u001b[1;32m   2902\u001b[0m         \u001b[0;32mif\u001b[0m \u001b[0mtolerance\u001b[0m \u001b[0;32mis\u001b[0m \u001b[0;32mnot\u001b[0m \u001b[0;32mNone\u001b[0m\u001b[0;34m:\u001b[0m\u001b[0;34m\u001b[0m\u001b[0;34m\u001b[0m\u001b[0m\n",
            "\u001b[0;31mKeyError\u001b[0m: 'title'"
          ]
        }
      ]
    },
    {
      "cell_type": "markdown",
      "metadata": {
        "id": "Gu_QeI6k3Dv1"
      },
      "source": [
        "### Webscraping of Bills from CA Legislature (Still In Progress) [Inserted By Andrew] [Updated 05-22-2021] -NO LONGER USED\n",
        "* Through the use of Beautiful Soup (with REQUESTS)\n",
        "* https://leginfo.legislature.ca.gov/faces/advance/advance.xhtml\n",
        "* This is the initial rough scraping process, a cleaned method will be posted below these blocks\n",
        "* Finding the right table id to pull from the html and assign to a dataframe for cleaning/wrangling"
      ]
    },
    {
      "cell_type": "code",
      "metadata": {
        "id": "C_y7SCAo3Eo9"
      },
      "source": [
        "url = 'https://leginfo.legislature.ca.gov/faces/advance/advance.xhtml'\n",
        "#Writing the url of the website to a url variable"
      ],
      "execution_count": null,
      "outputs": []
    },
    {
      "cell_type": "code",
      "metadata": {
        "id": "6FXKGN7C3KCf"
      },
      "source": [
        "response = requests.get(url) #Getting the response from the url to see if it works out"
      ],
      "execution_count": null,
      "outputs": []
    },
    {
      "cell_type": "code",
      "metadata": {
        "id": "n1BZc7fp3MkT",
        "colab": {
          "base_uri": "https://localhost:8080/"
        },
        "outputId": "109b04ee-3639-437f-ffc4-38b05e3de00f"
      },
      "source": [
        "response #Response = 200 which is a success"
      ],
      "execution_count": null,
      "outputs": [
        {
          "output_type": "execute_result",
          "data": {
            "text/plain": [
              "<Response [200]>"
            ]
          },
          "metadata": {
            "tags": []
          },
          "execution_count": 294
        }
      ]
    },
    {
      "cell_type": "code",
      "metadata": {
        "id": "qhUMpOKT3PJW"
      },
      "source": [
        "soup = BeautifulSoup(response.content, 'html.parser') #Parsing through the html to see what is inside\n",
        "#soup  \n",
        "#The searches cannot be saved as individual htmls, so most likely it is saved within the search webpage and requires user input (which can most likely be simulated/inputted)"
      ],
      "execution_count": null,
      "outputs": []
    },
    {
      "cell_type": "code",
      "metadata": {
        "id": "zKFEjxhR3R1S"
      },
      "source": [
        "tempdata = soup.find_all(class_ = 'j_idt517:bill_returned') #Subsections seems like the section that requires input of the years of bills"
      ],
      "execution_count": null,
      "outputs": []
    },
    {
      "cell_type": "code",
      "metadata": {
        "id": "l3qSZXFt3Ud7",
        "colab": {
          "base_uri": "https://localhost:8080/"
        },
        "outputId": "ab703e6d-8f93-4ebe-a027-9e6c3e86e696"
      },
      "source": [
        "tempdata\n",
        "#No dice, looked it up and it seems like my worries were confirmed, the site requires a submitted input to return the results we want\n",
        "#Researching how to scrape this rn"
      ],
      "execution_count": null,
      "outputs": [
        {
          "output_type": "execute_result",
          "data": {
            "text/plain": [
              "[]"
            ]
          },
          "metadata": {
            "tags": []
          },
          "execution_count": 297
        }
      ]
    },
    {
      "cell_type": "markdown",
      "metadata": {
        "id": "xrM4YemV3brx"
      },
      "source": [
        "#### Webscraping of Bills from CA Legislature Pt. II [Updated 05-22-2021] -NO LONGER USED\n",
        "* Through the use of Beautiful Soup (with POST)\n",
        "* https://leginfo.legislature.ca.gov/faces/advance/advance.xhtml\n",
        "* This is my second attempt at scraping but through the post method, seems a lot tougher but should get us the tables we need\n",
        "* Getting instructions through here: http://jonathansoma.com/lede/foundations/classes/friday%20sessions/advanced-scraping-form-submissions-completed/"
      ]
    },
    {
      "cell_type": "code",
      "metadata": {
        "id": "QsNdP0pU3aEC"
      },
      "source": [
        "#Url Set\n",
        "#post_params = {'allSessionYearsCheckBox': 'On', 'assemblyOriginCheckBox': 'on', 'senateOriginCheckBox': 'on', 'allSessionCheckBox': 'on', 'executeSearchBtnHidden': 'Search'} #These are the parameters that are \"sent\" in order to have the specific results posted\n",
        "#Post parameters are inputted in as a dictionary, but they look a bit different when viewing through web inspector\n",
        "#It's actually really difficult to find the exact parameters so it'll take some trial and error\n",
        "\n",
        "post_params = {'j_idt128':'j_idt128', 'allSessionYearsCheckBox':'on', 'j_idt134:0:sessionYearsCheckBox':'on', \n",
        "               'j_idt134:1:sessionYearsCheckBox':'on', 'j_idt134:2:sessionYearsCheckBox':'on', 'j_idt134:3:sessionYearsCheckBox':'on',\n",
        "               'j_idt134:4:sessionYearsCheckBox':'on', 'j_idt134:5:sessionYearsCheckBox':'on', 'j_idt134:6:sessionYearsCheckBox':'on',\n",
        "                'j_idt134:7:sessionYearsCheckBox':'on', 'j_idt134:8:sessionYearsCheckBox':'on', 'j_idt134:9:sessionYearsCheckBox':'on',\n",
        "                'j_idt134:10:sessionYearsCheckBox':'on', 'j_idt134:11:sessionYearsCheckBox':'on', 'assemblyOriginCheckBox':'on', 'senateOriginCheckBox':'on',\n",
        "               'allSessionCheckBox':'on', 'j_idt153:0:sessionCheckBox':'on', 'j_idt153:1:sessionCheckBox':'on', 'j_idt153:2:sessionCheckBox':'on',\n",
        "                'j_idt153:3:sessionCheckBox':'on', 'j_idt153:4:sessionCheckBox':'on', 'j_idt153:5:sessionCheckBox':'on', 'j_idt153:6:sessionCheckBox':'on',\n",
        "                'j_idt153:7:sessionCheckBox':'on', 'j_idt153:8:sessionCheckBox':'on', 'j_idt153:9:sessionCheckBox':'on', 'executeSearchBtnHidden':'Search'}\n",
        "response = requests.post(url, data=post_params) #Redoing the requests (receving and saving information after sending request) this time with the post parameters included\n",
        "soup = BeautifulSoup(response.content, 'html.parser') #Creating the new \"soup\", html parsed using Beautiful Soup"
      ],
      "execution_count": null,
      "outputs": []
    },
    {
      "cell_type": "code",
      "metadata": {
        "id": "2tkRPYOX3f_H",
        "colab": {
          "base_uri": "https://localhost:8080/",
          "height": 171
        },
        "outputId": "f4113385-4c32-4a64-b139-3c7a51f4e811"
      },
      "source": [
        "soup.prettify() #Checking results (going to be a lot of trial and error and will take me some time)\n",
        "\n",
        "#Update 1: Geting there, seems to be missing a few more parameters causing the search to fail and results from the request to be cancelled\n",
        "#Update 2: Hoping to get a meeting with David for next monday. Will keep trying this over the week/weekend"
      ],
      "execution_count": null,
      "outputs": [
        {
          "output_type": "execute_result",
          "data": {
            "application/vnd.google.colaboratory.intrinsic+json": {
              "type": "string"
            },
            "text/plain": [
              "'<?xml version=\\'1.0\\' encoding=\\'UTF-8\\' ?>\\n<!DOCTYPE html>\\n<html lang=\"en\" xml:lang=\"en\" xmlns=\"http://www.w3.org/1999/xhtml\">\\n <head id=\"j_idt2\">\\n  <meta content=\"text/html; charset=utf-8\" http-equiv=\"Content-Type\"/>\\n  <meta content=\"IE=edge,chrome=1\" http-equiv=\"X-UA-Compatible\"/>\\n  <!--&lt;meta http-equiv=\"refresh\" content=\";url=faces/home.xhtml\"/&gt;-->\\n  <link href=\"/resources/css/leginfo_master.css\" media=\"screen,print\" rel=\"stylesheet\" type=\"text/css\"/>\\n  <!--&lt;link rel=\"stylesheet\" type=\"text/css\" href=\"./resources/css/leginfo_mobile.css\" media=\"screen and (-webkit-min-device-pixel-ratio: 1.1) and (max-device-width: 990px)\" /&gt;\\n    &lt;link rel=\"stylesheet\" type=\"text/css\" href=\"./resources/css/leginfo_mobile.css\" media=\"screen and (min-device-width: 481px)and (max-device-width: 640px)and (-webkit-max-device-pixel-ratio: 1)\" /&gt;-->\\n  <link href=\"/resources/css/leginfo_mobile.css\" media=\"screen and (orientation: portrait) and (max-device-width: 767px),screen and (orientation: landscape) and (max-device-height: 750px)\" rel=\"stylesheet\" type=\"text/css\"/>\\n  <!--&lt;link rel=\"stylesheet\" type=\"text/css\" href=\"./resources/css/leginfo_mobile_low_res.css\" media=\"screen and (max-device-width: 480px)and (-webkit-max-device-pixel-ratio: 1)\" /&gt;-->\\n  <link href=\"/resources/css/leginfo_print.css\" media=\"print\" rel=\"stylesheet\" type=\"text/css\"/>\\n  <link href=\"/resources/css/leginfo_codes.css\" media=\"screen,print\" rel=\"stylesheet\" type=\"text/css\"/>\\n  <title>\\n   Advanced Search\\n  </title>\\n  <link href=\"favicon.ico\" rel=\"shortcut icon\" type=\"image/x-icon\"/>\\n  <style>\\n   /* Hide page by default*/\\n      html { display : none; }\\n  </style>\\n  <script type=\"text/javascript\">\\n   //<![CDATA[\\n\\n      if (self==top) {\\n        // Show the page\\n        document.documentElement.style.display=\\'block\\';\\n      } else {\\n        // Inside a frame. Replace the frame.\\n        var parentUrl=document.referrer;\\n        var num=-1;\\n        if (parentUrl!==\\'\\') {\\n\\n          num=parseInt(parentUrl.indexOf(\\'calchannel.granicus.com\\'));\\n\\n          if (!(num>=0)) {\\n            window.top.location.replace(window.location);\\n            top.location=self.location;\\n          }\\n        }\\n      }\\n      // ]]>\\n  </script>\\n  <style>\\n   /* Hide page by default*/\\n      html { display : inline; }\\n  </style>\\n  <script src=\"/faces/javax.faces.resource/jsf.js?ln=javax.faces\" type=\"text/javascript\">\\n  </script>\\n </head>\\n <body>\\n  <span id=\"j_idt7\">\\n   <script language=\"javascript\" type=\"text/javascript\">\\n    //<![CDATA[\\nfunction faceletsDebug(URL) {day = new Date();id = day.getTime();eval(\"page\" + id + \" = window.open(URL, \\'\" + id + \"\\', \\'toolbar=0,scrollbars=1,location=0,statusbar=0,menubar=0,resizable=1,width=800,height=600,left = 240,top = 212\\');\"); };(function() { if (typeof jsfFaceletsDebug === \\'undefined\\') { var jsfFaceletsDebug = false; } if (!jsfFaceletsDebug) {var faceletsOrigKeyup = document.onkeyup;document.onkeyup = function(e) { if (window.event) e = window.event; if (String.fromCharCode(e.keyCode) == \\'D\\' & e.shiftKey & e.ctrlKey) faceletsDebug(\\'/faces/advance/advance.xhtml?facelets.ui.DebugOutput=1621604785122\\'); jsfFaceletsDebug = true; if (faceletsOrigKeyup) faceletsOrigKeyup(e); };\\n}})();//]]>\\n   </script>\\n  </span>\\n  <html xmlns=\"http://www.w3.org/1999/xhtml\">\\n   <script language=\"JavaScript\">\\n    function changePlaceHolder() {\\n            var x = document.getElementById(\"billheaderinit_form:quick_search_select_id\");\\n            var input = document.getElementById(\"billheaderinit_form:searchall\");\\n            \\n            if (x !== null) {\\n                for (i = 0; i < x.options.length; i++) {\\n                    if (x.options[i].selected) {\\n                        if (x.options[i].value === \\'billKeyword\\') {\\n                            input.placeholder = \"Search phrase\";\\n                        } else {\\n                            input.placeholder = \"AB1 or ab 1 or ABX1-1\";\\n                        }\\n                    }\\n                }\\n            }\\n        }\\n   </script>\\n   <body onload=\"changePlaceHolder()\">\\n    <form action=\"/faces/advance/advance.xhtml\" enctype=\"application/x-www-form-urlencoded\" id=\"billheaderinit_form\" method=\"post\" name=\"billheaderinit_form\">\\n     <input name=\"billheaderinit_form\" type=\"hidden\" value=\"billheaderinit_form\"/>\\n     <!--&lt;div class=\"skip textright\"&gt;&lt;/div&gt;-->\\n     <!-- END: skip textright div -->\\n     <div id=\"banner\">\\n      <div class=\"horznavigation textright\" id=\"system\">\\n       <ul>\\n        <li>\\n         <a href=\"#content_anchor\">\\n          skip to content\\n         </a>\\n        </li>\\n        <li>\\n         <a href=\"#\" id=\"billheaderinit_form:nav_bar_link_home\" onclick=\"mojarra.jsfcljs(document.getElementById(\\'billheaderinit_form\\'),{\\'billheaderinit_form:nav_bar_link_home\\':\\'billheaderinit_form:nav_bar_link_home\\'},\\'\\');return false\">\\n          home\\n         </a>\\n        </li>\\n        <li>\\n         <a href=\"#\" id=\"billheaderinit_form:nav_bar_link_accessibility\" onclick=\"mojarra.jsfcljs(document.getElementById(\\'billheaderinit_form\\'),{\\'billheaderinit_form:nav_bar_link_accessibility\\':\\'billheaderinit_form:nav_bar_link_accessibility\\'},\\'\\');return false\">\\n          accessibility\\n         </a>\\n        </li>\\n        <li>\\n         <a href=\"#\" id=\"billheaderinit_form:nav_bar_link_faq\" onclick=\"mojarra.jsfcljs(document.getElementById(\\'billheaderinit_form\\'),{\\'billheaderinit_form:nav_bar_link_faq\\':\\'billheaderinit_form:nav_bar_link_faq\\'},\\'\\');return false\">\\n          FAQ\\n         </a>\\n        </li>\\n        <li>\\n         <a href=\"#\" id=\"billheaderinit_form:nav_bar_link_feedback\" onclick=\"mojarra.jsfcljs(document.getElementById(\\'billheaderinit_form\\'),{\\'billheaderinit_form:nav_bar_link_feedback\\':\\'billheaderinit_form:nav_bar_link_feedback\\'},\\'\\');return false\">\\n          feedback\\n         </a>\\n        </li>\\n        <li>\\n         <a href=\"#\" id=\"billheaderinit_form:nav_bar_link_sitemap\" onclick=\"mojarra.jsfcljs(document.getElementById(\\'billheaderinit_form\\'),{\\'billheaderinit_form:nav_bar_link_sitemap\\':\\'billheaderinit_form:nav_bar_link_sitemap\\'},\\'\\');return false\">\\n          sitemap\\n         </a>\\n        </li>\\n        <!--  &lt;li&gt; &lt;h:link outcome=\"loginClient\" rendered=\"true\"&gt;\\n                                  &lt;h:outputText value=\"login\"/&gt;\\n                                  &lt;f:param name=\"destPage\" value=\"home.xhtml\"&gt;&lt;/f:param&gt;\\n                              &lt;/h:link&gt;\\n                        &lt;/li&gt;-->\\n        <li>\\n         <a href=\"#\" onclick=\"mojarra.jsfcljs(document.getElementById(\\'billheaderinit_form\\'),{\\'billheaderinit_form:j_idt20\\':\\'billheaderinit_form:j_idt20\\',\\'destPage\\':\\'home.xhtml\\'},\\'\\');return false\">\\n          login\\n         </a>\\n        </li>\\n        <li>\\n         <span style=\"visibility:hidden;\">\\n          x\\n         </span>\\n        </li>\\n        <!-- invisible span removes IE horiz window scroll bar -->\\n        <!--&lt;li&gt;&lt;h:commandLink id=\"nav_bar_link_espanol\" action=\"{profile_Backing.changeLocaleToES}\"&gt;&lt;h:outputText value=\"{profile_Backing.language}\"/&gt;&lt;/h:commandLink&gt;&lt;/li&gt;-->\\n       </ul>\\n      </div>\\n      <!-- END: system div -->\\n      <!-- BEGIN quick search -->\\n      <div id=\"logo\">\\n       <a href=\"#\" id=\"billheaderinit_form:header_img\" onclick=\"mojarra.jsfcljs(document.getElementById(\\'billheaderinit_form\\'),{\\'billheaderinit_form:header_img\\':\\'billheaderinit_form:header_img\\'},\\'\\');return false\">\\n        <img alt=\"Legislative Information header image: click to go to the home page\" id=\"capitol\" src=\"/resources/images/header_img.png\"/>\\n       </a>\\n      </div>\\n      <!-- END: logo div -->\\n      <div id=\"logo_mobile\">\\n       <img alt=\"Legislative Information header image\" id=\"capitol_mobile1\" src=\"/resources/images/header_img_mobile_01.png\"/>\\n       <a href=\"#\" id=\"billheaderinit_form:header_img_mobile2\" onclick=\"mojarra.jsfcljs(document.getElementById(\\'billheaderinit_form\\'),{\\'billheaderinit_form:header_img_mobile2\\':\\'billheaderinit_form:header_img_mobile2\\'},\\'\\');return false\">\\n        <img alt=\"home image: click to go to the home page\" id=\"capitol_mobile2\" src=\"/resources/images/header_img_mobile_02.png\"/>\\n       </a>\\n       <a href=\"#\" id=\"billheaderinit_form:header_img_mobile25\" onclick=\"mojarra.jsfcljs(document.getElementById(\\'billheaderinit_form\\'),{\\'billheaderinit_form:header_img_mobile25\\':\\'billheaderinit_form:header_img_mobile25\\'},\\'\\');return false\">\\n        <img alt=\"Bill Search image: click to go to the bill search page\" id=\"capitol_mobile25\" src=\"/resources/images/header_img_mobile_025.png\"/>\\n       </a>\\n       <a href=\"\" onclick=\"history.back();                   return false;\">\\n        <img alt=\"back button image: click to go to previous page\" id=\"capitol_mobile3\" src=\"/resources/images/header_img_mobile_03.png\"/>\\n       </a>\\n       <br/>\\n       <img alt=\"Legislative Information text image\" id=\"capitol_mobile4\" src=\"/resources/images/header_img_mobile_04.png\"/>\\n      </div>\\n      <div id=\"billheaderinit_form:quick_search_div\">\\n       <div id=\"quick_search\">\\n        <div id=\"quick_search_text\">\\n         <img alt=\"magnifying glass image\" id=\"quick_search_mag_glass\" src=\"/resources/images/mag_glass.png\"/>\\n         <label for=\"billheaderinit_form:quick_search_select_id\">\\n          Quick Search:\\n         </label>\\n        </div>\\n        <div id=\"quick_search_form\">\\n         <select id=\"billheaderinit_form:quick_search_select_id\" name=\"billheaderinit_form:quick_search_select_id\" onchange=\"changePlaceHolder()\" size=\"1\">\\n          <option value=\"billNumber\">\\n           Bill Number\\n          </option>\\n          <option value=\"billKeyword\">\\n           Bill Keyword\\n          </option>\\n         </select>\\n         <!-- &lt;select id=\"quick_search_select_id\" &gt;\\n                             &lt;option value=\"billNumber\"&gt;Bill Number&lt;/option&gt;\\n                             &lt;option value=\"billKeyword\"&gt;Bill Keyword&lt;/option&gt;\\n                             &lt;option value=\"billCode\"&gt;Code&lt;/option&gt;\\n                             &lt;/select&gt;-->\\n         <input aria-label=\"Bill number / Keyword\" id=\"billheaderinit_form:searchall\" maxlength=\"2048\" name=\"billheaderinit_form:searchall\" onkeypress=\"if (event.keyCode == 13) {                                        document.getElementById(\\'billheaderinit_form:quick_search_submit\\').click();                                        return false;                                    }                                    ;                                    return true;\" placeholder=\"AB1 or ab 1 or ABX1-1\" size=\"13\" type=\"text\"/>\\n         <input class=\"quick_search_submit\" id=\"billheaderinit_form:quick_search_submit\" name=\"billheaderinit_form:quick_search_submit\" onmouseout=\"this.className = \\'quick_search_submit\\'\" onmouseover=\"this.className = \\'quick_search_submit_hover\\'\" type=\"submit\" value=\"go\"/>\\n        </div>\\n       </div>\\n       <!-- END  quick search -->\\n      </div>\\n     </div>\\n     <!-- END: banner div -->\\n     <!-- End Header -->\\n     <!-- End Header -->\\n     <!-- Begin Navigation -->\\n     <html xmlns=\"http://www.w3.org/1999/xhtml\">\\n      <link href=\"/resources/css/navigation.css\" media=\"screen,print\" rel=\"stylesheet\" type=\"text/css\"/>\\n      <link href=\"/resources/css/leginfo_mobile.css\" media=\"screen and (orientation: portrait) and (max-device-width: 767px),screen and (orientation: landscape) and (max-device-height: 750px)\" rel=\"stylesheet\" type=\"text/css\"/>\\n      <!-- Start Navigation -->\\n      <div id=\"tabs\">\\n       <ul>\\n        <!-- CSS Tabs -->\\n        <li>\\n         <a class=\"nav_not_selected\" href=\"#\" id=\"billheaderinit_form:home_link\" onclick=\"mojarra.jsfcljs(document.getElementById(\\'billheaderinit_form\\'),{\\'billheaderinit_form:home_link\\':\\'billheaderinit_form:home_link\\'},\\'\\');return false\">\\n          <span class=\"nav_text\">\\n           Home\\n          </span>\\n         </a>\\n        </li>\\n        <li>\\n         <a class=\"nav_selected\" href=\"#\" id=\"billheaderinit_form:bill_info_link\" onclick=\"mojarra.jsfcljs(document.getElementById(\\'billheaderinit_form\\'),{\\'billheaderinit_form:bill_info_link\\':\\'billheaderinit_form:bill_info_link\\'},\\'\\');return false\">\\n          <span class=\"nav_text\">\\n           Bill Information\\n          </span>\\n         </a>\\n        </li>\\n        <li>\\n         <a class=\"nav_not_selected\" href=\"#\" id=\"billheaderinit_form:codes_info_link\" onclick=\"mojarra.jsfcljs(document.getElementById(\\'billheaderinit_form\\'),{\\'billheaderinit_form:codes_info_link\\':\\'billheaderinit_form:codes_info_link\\'},\\'\\');return false\">\\n          <span class=\"nav_text\">\\n           California Law\\n          </span>\\n         </a>\\n        </li>\\n        <li>\\n         <a class=\"nav_not_selected\" href=\"#\" id=\"billheaderinit_form:pubs_info_link\" onclick=\"mojarra.jsfcljs(document.getElementById(\\'billheaderinit_form\\'),{\\'billheaderinit_form:pubs_info_link\\':\\'billheaderinit_form:pubs_info_link\\'},\\'\\');return false\">\\n          <span class=\"nav_text\">\\n           Publications\\n          </span>\\n         </a>\\n        </li>\\n        <li>\\n         <a class=\"nav_not_selected\" href=\"#\" id=\"billheaderinit_form:resources_link\" onclick=\"mojarra.jsfcljs(document.getElementById(\\'billheaderinit_form\\'),{\\'billheaderinit_form:resources_link\\':\\'billheaderinit_form:resources_link\\'},\\'\\');return false\">\\n          <span class=\"nav_text\">\\n           Other Resources\\n          </span>\\n         </a>\\n        </li>\\n        <li>\\n         <a class=\"nav_not_selected\" href=\"#\" id=\"billheaderinit_form:my_bills_link\" onclick=\"mojarra.jsfcljs(document.getElementById(\\'billheaderinit_form\\'),{\\'billheaderinit_form:my_bills_link\\':\\'billheaderinit_form:my_bills_link\\'},\\'\\');return false\">\\n          <span class=\"nav_text\">\\n           My Subscriptions\\n          </span>\\n         </a>\\n        </li>\\n        <li>\\n         <a class=\"nav_not_selected\" href=\"#\" id=\"billheaderinit_form:my_favs_link\" onclick=\"mojarra.jsfcljs(document.getElementById(\\'billheaderinit_form\\'),{\\'billheaderinit_form:my_favs_link\\':\\'billheaderinit_form:my_favs_link\\'},\\'\\');return false\">\\n          <span class=\"nav_text\">\\n           My Favorites\\n          </span>\\n         </a>\\n        </li>\\n       </ul>\\n      </div>\\n      <!-- End Navigation -->\\n     </html>\\n     <input autocomplete=\"off\" id=\"j_id1:javax.faces.ViewState:0\" name=\"javax.faces.ViewState\" type=\"hidden\" value=\"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\"/>\\n    </form>\\n    <a id=\"content_anchor\" name=\"content_anchor\">\\n    </a>\\n   </body>\\n  </html>\\n  <div id=\"content_main\">\\n   <script src=\"/resources/scripts/jquery-3.2.1.js\">\\n   </script>\\n   <script src=\"/resources/scripts/jquery-3.2.1.min.js\">\\n   </script>\\n   <script src=\"/resources/scripts/jquery-ui.js\">\\n   </script>\\n   <!-- Main content -->\\n   <div class=\"column centercolumntwo\" id=\"centercolumn\">\\n    <form action=\"/faces/advance/advance.xhtml\" enctype=\"application/x-www-form-urlencoded\" id=\"j_idt61\" method=\"post\" name=\"j_idt61\">\\n     <input name=\"j_idt61\" type=\"hidden\" value=\"j_idt61\"/>\\n     <!-- BEGIN: breadcrumb -->\\n     <div class=\"horznavigation\" id=\"breadcrumbs\">\\n      <ul>\\n       <li>\\n        <a href=\"/faces/billSearchClient.xhtml\">\\n         Bill Information\\n        </a>\\n        &gt;&gt;\\n       </li>\\n       <li>\\n        <a class=\"tab_link\" href=\"#\" id=\"j_idt61:breadcrumb_advance_search\" onclick=\"mojarra.jsfcljs(document.getElementById(\\'j_idt61\\'),{\\'j_idt61:breadcrumb_advance_search\\':\\'j_idt61:breadcrumb_advance_search\\'},\\'\\');return false\">\\n         <span class=\"float_left\" style=\"font-size: 1.09em;\">\\n          Advanced Search\\n         </span>\\n         <div class=\"arrow_right\">\\n          &gt;&gt;\\n         </div>\\n        </a>\\n        &gt;&gt;\\n       </li>\\n       <li>\\n        <span style=\"font-size: 1.09em;\">\\n         Session\\n        </span>\\n       </li>\\n      </ul>\\n     </div>\\n     <input autocomplete=\"off\" id=\"j_id1:javax.faces.ViewState:1\" name=\"javax.faces.ViewState\" type=\"hidden\" value=\"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\"/>\\n    </form>\\n    <!-- END: breadcrumb -->\\n    <html lang=\"en\" xml:lang=\"en\" xmlns=\"http://www.w3.org/1999/xhtml\">\\n     <form action=\"/faces/advance/advance.xhtml\" enctype=\"application/x-www-form-urlencoded\" id=\"j_idt84\" method=\"post\" name=\"j_idt84\">\\n      <input name=\"j_idt84\" type=\"hidden\" value=\"j_idt84\"/>\\n      <div id=\"tab_panel\" style=\"margin-top: 3em;\">\\n       <span class=\"tab_simple_start tab_not_selected\">\\n        <a class=\"tab_link\" href=\"#\" id=\"j_idt84:nav_bar_top_search\" onclick=\"mojarra.jsfcljs(document.getElementById(\\'j_idt84\\'),{\\'j_idt84:nav_bar_top_search\\':\\'j_idt84:nav_bar_top_search\\'},\\'\\');return false\">\\n         <span class=\"float_left\">\\n          Bill Search\\n         </span>\\n         <div class=\"arrow_right\">\\n          &gt;&gt;\\n         </div>\\n        </a>\\n       </span>\\n       <span class=\"tab_simple tab_not_selected\">\\n        <a class=\"tab_link\" href=\"#\" id=\"j_idt84:nav_bar_top_text_search\" onclick=\"mojarra.jsfcljs(document.getElementById(\\'j_idt84\\'),{\\'j_idt84:nav_bar_top_text_search\\':\\'j_idt84:nav_bar_top_text_search\\'},\\'\\');return false\">\\n         <span class=\"float_left\">\\n          Text Search\\n         </span>\\n         <div class=\"arrow_right\">\\n          &gt;&gt;\\n         </div>\\n        </a>\\n       </span>\\n       <span class=\"tab_simple tab_selected\">\\n        <a class=\"tab_link\" href=\"#\" id=\"j_idt84:nav_bar_top_advance_search\" onclick=\"mojarra.jsfcljs(document.getElementById(\\'j_idt84\\'),{\\'j_idt84:nav_bar_top_advance_search\\':\\'j_idt84:nav_bar_top_advance_search\\'},\\'\\');return false\">\\n         <span class=\"float_left\">\\n          Advanced Search\\n         </span>\\n         <div class=\"arrow_right\">\\n          &gt;&gt;\\n         </div>\\n        </a>\\n       </span>\\n      </div>\\n      <input autocomplete=\"off\" id=\"j_id1:javax.faces.ViewState:2\" name=\"javax.faces.ViewState\" type=\"hidden\" value=\"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\"/>\\n     </form>\\n    </html>\\n    <div class=\"tab_content\" style=\"font-size: 100% ;\">\\n     <!-- BEGIN: Search Criteria Panel -->\\n     <div id=\"bill_form_adv\" style=\"margin:0 0 0 0; width: 90% \">\\n      <html xmlns=\"http://www.w3.org/1999/xhtml\">\\n       <body>\\n        <form action=\"/faces/advance/advance.xhtml\" enctype=\"application/x-www-form-urlencoded\" id=\"advanceSearchTopNavBarId\" method=\"post\" name=\"advanceSearchTopNavBarId\">\\n         <input name=\"advanceSearchTopNavBarId\" type=\"hidden\" value=\"advanceSearchTopNavBarId\"/>\\n         <div id=\"tab_adv_panel\">\\n          <span class=\"tab_simple_start tab_selected\">\\n           <a class=\"tab_link\" href=\"#\" id=\"nav_bar_top_session\" onclick=\"mojarra.jsfcljs(document.getElementById(\\'advanceSearchTopNavBarId\\'),{\\'nav_bar_top_session\\':\\'nav_bar_top_session\\'},\\'\\');return false\">\\n            <span class=\"float_left\">\\n             Session\\n            </span>\\n            <div class=\"arrow_right\">\\n             &gt;&gt;\\n            </div>\\n           </a>\\n          </span>\\n          <span class=\"tab_simple_start tab_not_selected\">\\n           <div class=\"arrow_right\">\\n           </div>\\n           <a class=\"tab_link\" href=\"#\" id=\"nav_bar_top_measure\" onclick=\"mojarra.jsfcljs(document.getElementById(\\'advanceSearchTopNavBarId\\'),{\\'nav_bar_top_measure\\':\\'nav_bar_top_measure\\'},\\'\\');return false\">\\n            <span class=\"float_left\">\\n             Measures\\n            </span>\\n            <div class=\"arrow_right\">\\n             &gt;&gt;\\n            </div>\\n           </a>\\n          </span>\\n          <span class=\"tab_simple_start tab_not_selected\">\\n           <a class=\"tab_link\" href=\"#\" id=\"nav_bar_top_author\" onclick=\"mojarra.jsfcljs(document.getElementById(\\'advanceSearchTopNavBarId\\'),{\\'nav_bar_top_author\\':\\'nav_bar_top_author\\'},\\'\\');return false\">\\n            <span class=\"float_left\">\\n             Author\\n            </span>\\n            <div class=\"arrow_right\">\\n             &gt;&gt;\\n            </div>\\n           </a>\\n          </span>\\n          <span class=\"tab_simple_start tab_not_selected\">\\n           <a class=\"tab_link\" href=\"#\" id=\"nav_bar_top_dates\" onclick=\"mojarra.jsfcljs(document.getElementById(\\'advanceSearchTopNavBarId\\'),{\\'nav_bar_top_dates\\':\\'nav_bar_top_dates\\'},\\'\\');return false\">\\n            <span class=\"float_left\">\\n             Dates\\n            </span>\\n            <div class=\"arrow_right\">\\n             &gt;&gt;\\n            </div>\\n           </a>\\n          </span>\\n          <span class=\"tab_simple_start tab_not_selected\">\\n           <a class=\"tab_link\" href=\"#\" id=\"nav_bar_top_flags\" onclick=\"mojarra.jsfcljs(document.getElementById(\\'advanceSearchTopNavBarId\\'),{\\'nav_bar_top_flags\\':\\'nav_bar_top_flags\\'},\\'\\');return false\">\\n            <span class=\"float_left\">\\n             Flags\\n            </span>\\n            <div class=\"arrow_right\">\\n             &gt;&gt;\\n            </div>\\n           </a>\\n          </span>\\n          <span class=\"tab_simple_start tab_not_selected\">\\n           <a class=\"tab_link\" href=\"#\" id=\"nav_bar_top_locations\" onclick=\"mojarra.jsfcljs(document.getElementById(\\'advanceSearchTopNavBarId\\'),{\\'nav_bar_top_locations\\':\\'nav_bar_top_locations\\'},\\'\\');return false\">\\n            <span class=\"float_left\">\\n             Location\\n            </span>\\n            <div class=\"arrow_right\">\\n             &gt;&gt;\\n            </div>\\n           </a>\\n          </span>\\n         </div>\\n         <input autocomplete=\"off\" id=\"j_id1:javax.faces.ViewState:3\" name=\"javax.faces.ViewState\" type=\"hidden\" value=\"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\"/>\\n        </form>\\n       </body>\\n      </html>\\n     </div>\\n     <html xmlns=\"http://www.w3.org/1999/xhtml\">\\n      <!-- Main content -->\\n      <head id=\"j_idt125\">\\n       <script type=\"text/javascript\">\\n        function getComponent(id)\\n            {\\n                var obj = document.getElementById(id);\\n                return obj;\\n            }\\n\\n            function doSubmit(buttonId) {\\n\\n                if (getComponent(buttonId) !== null) {\\n                    getComponent(buttonId).click();\\n                }\\n            }\\n            $(document).ready(function () {\\n                $(\"#executeSearchBtn\").click(function () {\\n                    $(\"#executeSearchBtn\").attr(\"disabled\", true);\\n                    $(\"#clearBtnSessionTab\").attr(\"disabled\", true);\\n                    $(\"#executeSearchBtnHidden\").click();\\n                    return false;\\n                });\\n            });\\n       </script>\\n       <!--src=\"/resources/scripts/common.js\"&gt;&lt;/script&gt;-->\\n      </head>\\n      <div style=\"font-size: 100%; \">\\n       <!--&lt;div  style=\"margin:10px 0 55px 5px; width: 70em; background-color: yellow;\"&gt;-->\\n       <form action=\"/faces/advance/advance.xhtml\" enctype=\"application/x-www-form-urlencoded\" id=\"j_idt128\" method=\"post\" name=\"j_idt128\">\\n        <input name=\"j_idt128\" type=\"hidden\" value=\"j_idt128\"/>\\n        <div class=\"column\">\\n         <div class=\"sub_sections\" style=\"width: 40em; margin-left: 5em;FONT-SIZE: 1em;\">\\n          Session Years\\n          <input id=\"allSessionYearsCheckBox\" name=\"allSessionYearsCheckBox\" onclick=\"doSubmit(\\'allSesssionYearSubmit\\');\" style=\"margin-left:5em;\" type=\"checkbox\"/>\\n          <label for=\"allSessionYearsCheckBox\">\\n           All\\n          </label>\\n         </div>\\n         <input checked=\"checked\" id=\"j_idt134:0:sessionYearsCheckBox\" name=\"j_idt134:0:sessionYearsCheckBox\" onclick=\"doSubmit(\\'advSearchSubmit\\');\" style=\"margin-right:0; margin-top: 0.3em; margin-left: 7em; \" type=\"checkbox\"/>\\n         <label for=\"j_idt134:0:sessionYearsCheckBox\" style=\"margin-right:0; margin-left:2em; \">\\n          2021 - 2022 [Current Session]\\n         </label>\\n         <br/>\\n         <input id=\"j_idt134:1:sessionYearsCheckBox\" name=\"j_idt134:1:sessionYearsCheckBox\" onclick=\"doSubmit(\\'advSearchSubmit\\');\" style=\"margin-right:0; margin-top: 0.3em; margin-left: 7em; \" type=\"checkbox\"/>\\n         <label for=\"j_idt134:1:sessionYearsCheckBox\" style=\"margin-right:0; margin-left:2em; \">\\n          2019 - 2020\\n         </label>\\n         <br/>\\n         <input id=\"j_idt134:2:sessionYearsCheckBox\" name=\"j_idt134:2:sessionYearsCheckBox\" onclick=\"doSubmit(\\'advSearchSubmit\\');\" style=\"margin-right:0; margin-top: 0.3em; margin-left: 7em; \" type=\"checkbox\"/>\\n         <label for=\"j_idt134:2:sessionYearsCheckBox\" style=\"margin-right:0; margin-left:2em; \">\\n          2017 - 2018\\n         </label>\\n         <br/>\\n         <input id=\"j_idt134:3:sessionYearsCheckBox\" name=\"j_idt134:3:sessionYearsCheckBox\" onclick=\"doSubmit(\\'advSearchSubmit\\');\" style=\"margin-right:0; margin-top: 0.3em; margin-left: 7em; \" type=\"checkbox\"/>\\n         <label for=\"j_idt134:3:sessionYearsCheckBox\" style=\"margin-right:0; margin-left:2em; \">\\n          2015 - 2016\\n         </label>\\n         <br/>\\n         <input id=\"j_idt134:4:sessionYearsCheckBox\" name=\"j_idt134:4:sessionYearsCheckBox\" onclick=\"doSubmit(\\'advSearchSubmit\\');\" style=\"margin-right:0; margin-top: 0.3em; margin-left: 7em; \" type=\"checkbox\"/>\\n         <label for=\"j_idt134:4:sessionYearsCheckBox\" style=\"margin-right:0; margin-left:2em; \">\\n          2013 - 2014\\n         </label>\\n         <br/>\\n         <input id=\"j_idt134:5:sessionYearsCheckBox\" name=\"j_idt134:5:sessionYearsCheckBox\" onclick=\"doSubmit(\\'advSearchSubmit\\');\" style=\"margin-right:0; margin-top: 0.3em; margin-left: 7em; \" type=\"checkbox\"/>\\n         <label for=\"j_idt134:5:sessionYearsCheckBox\" style=\"margin-right:0; margin-left:2em; \">\\n          2011 - 2012\\n         </label>\\n         <br/>\\n         <input id=\"j_idt134:6:sessionYearsCheckBox\" name=\"j_idt134:6:sessionYearsCheckBox\" onclick=\"doSubmit(\\'advSearchSubmit\\');\" style=\"margin-right:0; margin-top: 0.3em; margin-left: 7em; \" type=\"checkbox\"/>\\n         <label for=\"j_idt134:6:sessionYearsCheckBox\" style=\"margin-right:0; margin-left:2em; \">\\n          2009 - 2010\\n         </label>\\n         <br/>\\n         <input id=\"j_idt134:7:sessionYearsCheckBox\" name=\"j_idt134:7:sessionYearsCheckBox\" onclick=\"doSubmit(\\'advSearchSubmit\\');\" style=\"margin-right:0; margin-top: 0.3em; margin-left: 7em; \" type=\"checkbox\"/>\\n         <label for=\"j_idt134:7:sessionYearsCheckBox\" style=\"margin-right:0; margin-left:2em; \">\\n          2007 - 2008\\n         </label>\\n         <br/>\\n         <input id=\"j_idt134:8:sessionYearsCheckBox\" name=\"j_idt134:8:sessionYearsCheckBox\" onclick=\"doSubmit(\\'advSearchSubmit\\');\" style=\"margin-right:0; margin-top: 0.3em; margin-left: 7em; \" type=\"checkbox\"/>\\n         <label for=\"j_idt134:8:sessionYearsCheckBox\" style=\"margin-right:0; margin-left:2em; \">\\n          2005 - 2006\\n         </label>\\n         <br/>\\n         <input id=\"j_idt134:9:sessionYearsCheckBox\" name=\"j_idt134:9:sessionYearsCheckBox\" onclick=\"doSubmit(\\'advSearchSubmit\\');\" style=\"margin-right:0; margin-top: 0.3em; margin-left: 7em; \" type=\"checkbox\"/>\\n         <label for=\"j_idt134:9:sessionYearsCheckBox\" style=\"margin-right:0; margin-left:2em; \">\\n          2003 - 2004\\n         </label>\\n         <br/>\\n         <input id=\"j_idt134:10:sessionYearsCheckBox\" name=\"j_idt134:10:sessionYearsCheckBox\" onclick=\"doSubmit(\\'advSearchSubmit\\');\" style=\"margin-right:0; margin-top: 0.3em; margin-left: 7em; \" type=\"checkbox\"/>\\n         <label for=\"j_idt134:10:sessionYearsCheckBox\" style=\"margin-right:0; margin-left:2em; \">\\n          2001 - 2002\\n         </label>\\n         <br/>\\n         <input id=\"j_idt134:11:sessionYearsCheckBox\" name=\"j_idt134:11:sessionYearsCheckBox\" onclick=\"doSubmit(\\'advSearchSubmit\\');\" style=\"margin-right:0; margin-top: 0.3em; margin-left: 7em; \" type=\"checkbox\"/>\\n         <label for=\"j_idt134:11:sessionYearsCheckBox\" style=\"margin-right:0; margin-left:2em; \">\\n          1999 - 2000\\n         </label>\\n         <br/>\\n         <input id=\"advSearchSubmit\" name=\"advSearchSubmit\" style=\"display:none\" type=\"submit\" value=\"session year select hidden button\"/>\\n         <input id=\"allSesssionYearSubmit\" name=\"allSesssionYearSubmit\" style=\"display:none\" type=\"submit\" value=\"all session year submit hidden button\"/>\\n         <input id=\"allSesssionSubmit\" name=\"allSesssionSubmit\" style=\"display:none\" type=\"submit\" value=\"all session  select clidked hidden button\"/>\\n        </div>\\n        <div class=\"column\">\\n        </div>\\n        <div class=\"column\">\\n         <div class=\"sub_sections\" style=\"width: 35em; FONT-SIZE: 1em;\">\\n          House\\n         </div>\\n         <input checked=\"checked\" id=\"assemblyOriginCheckBox\" name=\"assemblyOriginCheckBox\" onclick=\"doSubmit(\\'advSearchHouseSubmit\\');\" style=\"margin-top: 1em; \" type=\"checkbox\"/>\\n         <label for=\"assemblyOriginCheckBox\">\\n          Assembly\\n         </label>\\n         <br/>\\n         <input checked=\"checked\" id=\"senateOriginCheckBox\" name=\"senateOriginCheckBox\" onclick=\"doSubmit(\\'advSearchHouseSubmit\\');\" type=\"checkbox\"/>\\n         <label for=\"senateOriginCheckBox\">\\n          Senate\\n         </label>\\n         <input id=\"advSearchHouseSubmit\" name=\"advSearchHouseSubmit\" style=\"display:none\" type=\"submit\" value=\"update House hidden button\"/>\\n        </div>\\n        <div class=\"column\">\\n        </div>\\n        <div class=\"column\">\\n         <div class=\"sub_sections\" style=\"width: 40em; FONT-SIZE: 1em;\">\\n          Session Type\\n          <input checked=\"checked\" id=\"allSessionCheckBox\" name=\"allSessionCheckBox\" onclick=\"doSubmit(\\'allSesssionSubmit\\');\" type=\"checkbox\"/>\\n          <label for=\"allSessionCheckBox\">\\n           All\\n          </label>\\n          <br/>\\n         </div>\\n         <div class=\"column\" style=\"margin-top: 1em;\">\\n          <input checked=\"checked\" id=\"j_idt153:0:sessionCheckBox\" name=\"j_idt153:0:sessionCheckBox\" onchange=\"doSubmit(\\'tabSessionUpdator\\');\" type=\"checkbox\"/>\\n          <label for=\"j_idt153:0:sessionCheckBox\">\\n           Regular\\n          </label>\\n          <br/>\\n         </div>\\n        </div>\\n        <div style=\"clear:both;\">\\n        </div>\\n        <br/>\\n        <div class=\"horznavigation textcenter\" style=\"text-align: center; margin-bottom: 1em; \">\\n         <input id=\"executeSearchBtn\" name=\"executeSearchBtn\" style=\"width: 135px\" type=\"submit\" value=\"Search\"/>\\n         <input id=\"executeSearchBtnHidden\" name=\"executeSearchBtnHidden\" style=\"display:none;\" type=\"submit\" value=\"Search\"/>\\n         <input id=\"clearBtnSessionTab\" name=\"clearBtnSessionTab\" style=\"width: 135px;margin-left: 3em;\" type=\"submit\" value=\"Clear\"/>\\n        </div>\\n        <input id=\"tabSessionUpdator\" name=\"tabSessionUpdator\" style=\"display:none\" type=\"submit\" value=\"session updator hidden button\"/>\\n        <input autocomplete=\"off\" id=\"j_id1:javax.faces.ViewState:4\" name=\"javax.faces.ViewState\" type=\"hidden\" value=\"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\"/>\\n       </form>\\n       <!--&lt;/div&gt;-->\\n      </div>\\n     </html>\\n     <div style=\"clear:both;\">\\n     </div>\\n     <br/>\\n     <br/>\\n    </div>\\n   </div>\\n  </div>\\n </body>\\n</html>'"
            ]
          },
          "metadata": {
            "tags": []
          },
          "execution_count": 299
        }
      ]
    },
    {
      "cell_type": "code",
      "metadata": {
        "id": "c-hjbBtEkDbm",
        "colab": {
          "base_uri": "https://localhost:8080/"
        },
        "outputId": "33e5ec91-5299-415b-dfe6-4e63475dab88"
      },
      "source": [
        "BS_bill_data = soup.find_all(id= 'j_idt517:bill_results')\n",
        "BS_bill_data"
      ],
      "execution_count": null,
      "outputs": [
        {
          "output_type": "execute_result",
          "data": {
            "text/plain": [
              "[]"
            ]
          },
          "metadata": {
            "tags": []
          },
          "execution_count": 300
        }
      ]
    },
    {
      "cell_type": "code",
      "metadata": {
        "id": "GY5RRPAfwa7C"
      },
      "source": [
        "#Doing a bit more offline I'll import the finished one below"
      ],
      "execution_count": null,
      "outputs": []
    },
    {
      "cell_type": "code",
      "metadata": {
        "id": "NraslgU5N42R"
      },
      "source": [
        ""
      ],
      "execution_count": null,
      "outputs": []
    },
    {
      "cell_type": "markdown",
      "metadata": {
        "id": "YZHg2HC7P5ag"
      },
      "source": [
        "##Visualization Scratch Paper\n",
        "* Any Visualization stuff can be in this section"
      ]
    },
    {
      "cell_type": "code",
      "metadata": {
        "id": "Z2Pvi-n2QBGN",
        "colab": {
          "base_uri": "https://localhost:8080/",
          "height": 296
        },
        "outputId": "dd7d1e9e-635b-4581-ef03-06a8a9c5ec41"
      },
      "source": [
        "#relevant data to plot\n",
        "#number of shootings per year\n",
        "#number of shootings per month in CA\n",
        "#possible approaches \n",
        "  # sns.lmplot(x='date', y= '', data=df_shootings, fit_reg=True, height=?,aspect=?, x_jitter=?, y_jitter=?)\n",
        "#sns.lineplot(x='year', y='age', data=df_shootings)\n",
        "sns.scatterplot(data=df_shootings, x='date', y='age') \n",
        "  # sns.scatterplot()\n",
        "\n"
      ],
      "execution_count": null,
      "outputs": [
        {
          "output_type": "execute_result",
          "data": {
            "text/plain": [
              "<matplotlib.axes._subplots.AxesSubplot at 0x7fb810913310>"
            ]
          },
          "metadata": {
            "tags": []
          },
          "execution_count": 303
        },
        {
          "output_type": "display_data",
          "data": {
            "image/png": "[encoded data removed]",
            "text/plain": [
              "<Figure size 432x288 with 1 Axes>"
            ]
          },
          "metadata": {
            "tags": [],
            "needs_background": "light"
          }
        }
      ]
    },
    {
      "cell_type": "code",
      "metadata": {
        "id": "Ke5egsG3WagS",
        "colab": {
          "base_uri": "https://localhost:8080/",
          "height": 296
        },
        "outputId": "1733c4b7-34cd-46c5-c51d-f3090b797830"
      },
      "source": [
        "sns.histplot(df_shootings['age'], bins=10, kde=True)"
      ],
      "execution_count": null,
      "outputs": [
        {
          "output_type": "execute_result",
          "data": {
            "text/plain": [
              "<matplotlib.axes._subplots.AxesSubplot at 0x7fb80fff2fd0>"
            ]
          },
          "metadata": {
            "tags": []
          },
          "execution_count": 304
        },
        {
          "output_type": "display_data",
          "data": {
            "image/png": "[encoded data removed]",
            "text/plain": [
              "<Figure size 432x288 with 1 Axes>"
            ]
          },
          "metadata": {
            "tags": [],
            "needs_background": "light"
          }
        }
      ]
    },
    {
      "cell_type": "code",
      "metadata": {
        "id": "warmf0W4GCEU",
        "colab": {
          "base_uri": "https://localhost:8080/",
          "height": 421
        },
        "outputId": "d3a85123-79a4-4ecf-d30a-7389531d89db"
      },
      "source": [
        "#visualization for shootings in California for every year (something happend with my original graph so aI am redoing ti)-Nick\n",
        "#making the plot much bigger to see\n",
        "plt.figure(figsize= (10,6))\n",
        "cpshooty= sns.countplot(x= df_shootings['year'], data= df_shootings, palette= 'pastel' ).set(title= 'Number of CA Shootings per Year')\n",
        "#increasing the y-axis\n",
        "plt.ylim(0, 250)\n",
        "cpshooty"
      ],
      "execution_count": null,
      "outputs": [
        {
          "output_type": "execute_result",
          "data": {
            "text/plain": [
              "[Text(0.5, 1.0, 'Number of CA Shootings per Year')]"
            ]
          },
          "metadata": {
            "tags": []
          },
          "execution_count": 305
        },
        {
          "output_type": "display_data",
          "data": {
            "image/png": "[encoded data removed]",
            "text/plain": [
              "<Figure size 720x432 with 1 Axes>"
            ]
          },
          "metadata": {
            "tags": [],
            "needs_background": "light"
          }
        }
      ]
    },
    {
      "cell_type": "code",
      "metadata": {
        "id": "ijxx9RINOK_9"
      },
      "source": [
        "#Was looking online and wanted to use a swarm plot to track how each month of recorded shootings each year ranked against each other.\n",
        "#plt.figure(figsize= (10,6))\n",
        "#sns.lineplot(x= df_shootings['month'], data= df_shootings, hue= df_shootings['year'] )\n",
        "#one thing that I am noticing is when the graph is generated for the linke plot, the x axis is recognizing the months for their (1, 2, 3 etc. values) instead of January, Feb, March etc.\n",
        "#will try to work on this and change it tommorw so df for the shootings can look better as well as the graph\n"
      ],
      "execution_count": null,
      "outputs": []
    },
    {
      "cell_type": "code",
      "metadata": {
        "id": "mjYJkO-asT-_",
        "colab": {
          "base_uri": "https://localhost:8080/"
        },
        "outputId": "1a377df5-fccc-40f3-b9c2-7b3318cecf18"
      },
      "source": [
        "#first, checking to see what data type df_shootings['month'] is\n",
        "monthdt= df_shootings['month'].unique()\n",
        "monthdt"
      ],
      "execution_count": null,
      "outputs": [
        {
          "output_type": "execute_result",
          "data": {
            "text/plain": [
              "array([ 1,  2,  3,  4,  5,  6,  7,  8,  9, 10, 11, 12])"
            ]
          },
          "metadata": {
            "tags": []
          },
          "execution_count": 307
        }
      ]
    },
    {
      "cell_type": "markdown",
      "metadata": {
        "id": "_F1jrXjSv2Rk"
      },
      "source": [
        "So it seems that the objects in the list are all seen as numbers. I can create a definition to take all the nubmers and replace them as strings. I can then convert those numerical strings to the actual names of the months to make the line plot make more sense."
      ]
    },
    {
      "cell_type": "code",
      "metadata": {
        "id": "EoE4zrZvsReY"
      },
      "source": [
        "#adjusting the df shooting dataset for the months so I can change the number values to strings of the months\n",
        "def num2month(num):\n",
        "  #converting string to an actualstring\n",
        "  string= str(num)\n",
        "\n",
        "  #taking all of the numbered strings and replacing them with the names of the months.\n",
        "  if '1' in string:\n",
        "    output= 'January'\n",
        "  elif '2' in string:\n",
        "    output= 'February'\n",
        "  elif '3' in string:\n",
        "    output= 'March'\n",
        "  elif '4' in string:\n",
        "    output= 'April'\n",
        "  elif '5' in string:\n",
        "    output= 'May'\n",
        "  elif '6' in string:\n",
        "    output= 'June'\n",
        "  elif '7' in string:\n",
        "    output= 'July'\n",
        "  elif '8' in string:\n",
        "    output= 'August'\n",
        "  elif '9' in string:\n",
        "    output= 'September'\n",
        "  elif '10' in string:\n",
        "    output= 'October'\n",
        "  elif '11' in string:\n",
        "    output= 'November'\n",
        "  elif '12' in string:\n",
        "    output= 'December'\n",
        "\n",
        "  return output "
      ],
      "execution_count": null,
      "outputs": []
    },
    {
      "cell_type": "code",
      "metadata": {
        "id": "L3TfatzdBTt7",
        "colab": {
          "base_uri": "https://localhost:8080/"
        },
        "outputId": "c24e0f93-ea28-4922-c4c4-f5ea8ea3265f"
      },
      "source": [
        "#applying my definition to the new \n",
        "#df_shootings['month']= df_shootings['month'].apply(num2month)\n",
        "#df_shootings['month'].head\n",
        "\n",
        "#checking the sum for one specific month\n",
        "sumjan= sum(df_shootings['month']== 'January')\n",
        "sumjan\n"
      ],
      "execution_count": null,
      "outputs": [
        {
          "output_type": "execute_result",
          "data": {
            "text/plain": [
              "0"
            ]
          },
          "metadata": {
            "tags": []
          },
          "execution_count": 309
        }
      ]
    },
    {
      "cell_type": "code",
      "metadata": {
        "id": "pgX3p0jG3RfO",
        "colab": {
          "base_uri": "https://localhost:8080/",
          "height": 405
        },
        "outputId": "88c52200-960c-402c-abbc-c9204e0007e7"
      },
      "source": [
        "#ok so it seems that I changed all the values from numbers to strings. Lets see if I can generate a line plot now\n",
        "plt.figure(figsize= (10,6))\n",
        "sns.lineplot(x= df_shootings['month'], y= sum(df_shootings['month']== 'January'), data= df_shootings, hue= df_shootings['year'] )"
      ],
      "execution_count": null,
      "outputs": [
        {
          "output_type": "execute_result",
          "data": {
            "text/plain": [
              "<matplotlib.axes._subplots.AxesSubplot at 0x7fbad1a7b8d0>"
            ]
          },
          "metadata": {
            "tags": []
          },
          "execution_count": 25
        },
        {
          "output_type": "display_data",
          "data": {
            "image/png": "[encoded data removed]",
            "text/plain": [
              "<Figure size 720x432 with 1 Axes>"
            ]
          },
          "metadata": {
            "tags": [],
            "needs_background": "light"
          }
        }
      ]
    },
    {
      "cell_type": "code",
      "metadata": {
        "id": "c2R5mN23RlHh"
      },
      "source": [
        "#Copying df_shootings and replacing datetime with integer date (Year,Month,Day)\n",
        "df_shootings_test = df_shootings.copy()"
      ],
      "execution_count": null,
      "outputs": []
    },
    {
      "cell_type": "code",
      "metadata": {
        "id": "FA1CWJg7YEgT"
      },
      "source": [
        "df_shootings_test.dropna(subset=['date'], inplace = True)\n",
        "df_shootings_test = df_shootings_test.reset_index(drop=True) #Resetting index as loop uses it\n",
        "\n",
        "index=0 #Index counter\n",
        "\n",
        "for row in df_shootings_test['date']:\n",
        "    row = str(row).replace('-','',)\n",
        "    row = row[0:8:1]\n",
        "    df_shootings_test.at[index,'date'] = row\n",
        "#Rewrites the row under the 'Status' column so that the new string is there\n",
        "    index += 1"
      ],
      "execution_count": null,
      "outputs": []
    },
    {
      "cell_type": "code",
      "metadata": {
        "colab": {
          "base_uri": "https://localhost:8080/",
          "height": 424
        },
        "id": "L0mbgM1xZRMv",
        "outputId": "61eb5902-b37d-49e2-9223-3bd45374856e"
      },
      "source": [
        "df_shootings_test"
      ],
      "execution_count": null,
      "outputs": [
        {
          "output_type": "execute_result",
          "data": {
            "text/html": [
              "<div>\n",
              "<style scoped>\n",
              "    .dataframe tbody tr th:only-of-type {\n",
              "        vertical-align: middle;\n",
              "    }\n",
              "\n",
              "    .dataframe tbody tr th {\n",
              "        vertical-align: top;\n",
              "    }\n",
              "\n",
              "    .dataframe thead th {\n",
              "        text-align: right;\n",
              "    }\n",
              "</style>\n",
              "<table border=\"1\" class=\"dataframe\">\n",
              "  <thead>\n",
              "    <tr style=\"text-align: right;\">\n",
              "      <th></th>\n",
              "      <th>id</th>\n",
              "      <th>date</th>\n",
              "      <th>manner_of_death</th>\n",
              "      <th>armed</th>\n",
              "      <th>age</th>\n",
              "      <th>gender</th>\n",
              "      <th>race</th>\n",
              "      <th>city</th>\n",
              "      <th>state</th>\n",
              "      <th>month</th>\n",
              "      <th>year</th>\n",
              "      <th>day</th>\n",
              "    </tr>\n",
              "  </thead>\n",
              "  <tbody>\n",
              "    <tr>\n",
              "      <th>0</th>\n",
              "      <td>8</td>\n",
              "      <td>20150104</td>\n",
              "      <td>shot</td>\n",
              "      <td>toy weapon</td>\n",
              "      <td>32.0</td>\n",
              "      <td>M</td>\n",
              "      <td>W</td>\n",
              "      <td>San Francisco</td>\n",
              "      <td>CA</td>\n",
              "      <td>1</td>\n",
              "      <td>2015</td>\n",
              "      <td>4</td>\n",
              "    </tr>\n",
              "    <tr>\n",
              "      <th>1</th>\n",
              "      <td>19</td>\n",
              "      <td>20150106</td>\n",
              "      <td>shot and Tasered</td>\n",
              "      <td>knife</td>\n",
              "      <td>25.0</td>\n",
              "      <td>M</td>\n",
              "      <td>W</td>\n",
              "      <td>Stockton</td>\n",
              "      <td>CA</td>\n",
              "      <td>1</td>\n",
              "      <td>2015</td>\n",
              "      <td>6</td>\n",
              "    </tr>\n",
              "    <tr>\n",
              "      <th>2</th>\n",
              "      <td>43</td>\n",
              "      <td>20150111</td>\n",
              "      <td>shot</td>\n",
              "      <td>gun</td>\n",
              "      <td>23.0</td>\n",
              "      <td>M</td>\n",
              "      <td>H</td>\n",
              "      <td>South Gate</td>\n",
              "      <td>CA</td>\n",
              "      <td>1</td>\n",
              "      <td>2015</td>\n",
              "      <td>11</td>\n",
              "    </tr>\n",
              "    <tr>\n",
              "      <th>3</th>\n",
              "      <td>63</td>\n",
              "      <td>20150115</td>\n",
              "      <td>shot</td>\n",
              "      <td>knife</td>\n",
              "      <td>36.0</td>\n",
              "      <td>M</td>\n",
              "      <td>H</td>\n",
              "      <td>Fairfield</td>\n",
              "      <td>CA</td>\n",
              "      <td>1</td>\n",
              "      <td>2015</td>\n",
              "      <td>15</td>\n",
              "    </tr>\n",
              "    <tr>\n",
              "      <th>4</th>\n",
              "      <td>68</td>\n",
              "      <td>20150116</td>\n",
              "      <td>shot and Tasered</td>\n",
              "      <td>knife</td>\n",
              "      <td>48.0</td>\n",
              "      <td>M</td>\n",
              "      <td>O</td>\n",
              "      <td>Fremont</td>\n",
              "      <td>CA</td>\n",
              "      <td>1</td>\n",
              "      <td>2015</td>\n",
              "      <td>16</td>\n",
              "    </tr>\n",
              "    <tr>\n",
              "      <th>...</th>\n",
              "      <td>...</td>\n",
              "      <td>...</td>\n",
              "      <td>...</td>\n",
              "      <td>...</td>\n",
              "      <td>...</td>\n",
              "      <td>...</td>\n",
              "      <td>...</td>\n",
              "      <td>...</td>\n",
              "      <td>...</td>\n",
              "      <td>...</td>\n",
              "      <td>...</td>\n",
              "      <td>...</td>\n",
              "    </tr>\n",
              "    <tr>\n",
              "      <th>922</th>\n",
              "      <td>6772</td>\n",
              "      <td>20210409</td>\n",
              "      <td>shot</td>\n",
              "      <td>tire iron</td>\n",
              "      <td>NaN</td>\n",
              "      <td>M</td>\n",
              "      <td>NaN</td>\n",
              "      <td>Whitewater</td>\n",
              "      <td>CA</td>\n",
              "      <td>4</td>\n",
              "      <td>2021</td>\n",
              "      <td>9</td>\n",
              "    </tr>\n",
              "    <tr>\n",
              "      <th>923</th>\n",
              "      <td>6769</td>\n",
              "      <td>20210410</td>\n",
              "      <td>shot</td>\n",
              "      <td>gun</td>\n",
              "      <td>48.0</td>\n",
              "      <td>M</td>\n",
              "      <td>NaN</td>\n",
              "      <td>San Fernando</td>\n",
              "      <td>CA</td>\n",
              "      <td>4</td>\n",
              "      <td>2021</td>\n",
              "      <td>10</td>\n",
              "    </tr>\n",
              "    <tr>\n",
              "      <th>924</th>\n",
              "      <td>6785</td>\n",
              "      <td>20210417</td>\n",
              "      <td>shot</td>\n",
              "      <td>gun</td>\n",
              "      <td>NaN</td>\n",
              "      <td>M</td>\n",
              "      <td>NaN</td>\n",
              "      <td>Alameda County</td>\n",
              "      <td>CA</td>\n",
              "      <td>4</td>\n",
              "      <td>2021</td>\n",
              "      <td>17</td>\n",
              "    </tr>\n",
              "    <tr>\n",
              "      <th>925</th>\n",
              "      <td>6793</td>\n",
              "      <td>20210421</td>\n",
              "      <td>shot</td>\n",
              "      <td>metal pole</td>\n",
              "      <td>NaN</td>\n",
              "      <td>M</td>\n",
              "      <td>NaN</td>\n",
              "      <td>Escondido</td>\n",
              "      <td>CA</td>\n",
              "      <td>4</td>\n",
              "      <td>2021</td>\n",
              "      <td>21</td>\n",
              "    </tr>\n",
              "    <tr>\n",
              "      <th>926</th>\n",
              "      <td>6804</td>\n",
              "      <td>20210424</td>\n",
              "      <td>shot</td>\n",
              "      <td>undetermined</td>\n",
              "      <td>34.0</td>\n",
              "      <td>M</td>\n",
              "      <td>W</td>\n",
              "      <td>Los Angeles</td>\n",
              "      <td>CA</td>\n",
              "      <td>4</td>\n",
              "      <td>2021</td>\n",
              "      <td>24</td>\n",
              "    </tr>\n",
              "  </tbody>\n",
              "</table>\n",
              "<p>927 rows × 12 columns</p>\n",
              "</div>"
            ],
            "text/plain": [
              "       id      date   manner_of_death         armed  ...  state month  year day\n",
              "0       8  20150104              shot    toy weapon  ...     CA     1  2015   4\n",
              "1      19  20150106  shot and Tasered         knife  ...     CA     1  2015   6\n",
              "2      43  20150111              shot           gun  ...     CA     1  2015  11\n",
              "3      63  20150115              shot         knife  ...     CA     1  2015  15\n",
              "4      68  20150116  shot and Tasered         knife  ...     CA     1  2015  16\n",
              "..    ...       ...               ...           ...  ...    ...   ...   ...  ..\n",
              "922  6772  20210409              shot     tire iron  ...     CA     4  2021   9\n",
              "923  6769  20210410              shot           gun  ...     CA     4  2021  10\n",
              "924  6785  20210417              shot           gun  ...     CA     4  2021  17\n",
              "925  6793  20210421              shot    metal pole  ...     CA     4  2021  21\n",
              "926  6804  20210424              shot  undetermined  ...     CA     4  2021  24\n",
              "\n",
              "[927 rows x 12 columns]"
            ]
          },
          "metadata": {
            "tags": []
          },
          "execution_count": 50
        }
      ]
    },
    {
      "cell_type": "code",
      "metadata": {
        "colab": {
          "base_uri": "https://localhost:8080/",
          "height": 311
        },
        "id": "OsVI9faZbatr",
        "outputId": "9e1ba2ea-ec0c-464f-9d54-aacfa2ea9716"
      },
      "source": [
        "sns.scatterplot(data=df_shootings_test, y= x='date')"
      ],
      "execution_count": null,
      "outputs": [
        {
          "output_type": "error",
          "ename": "ValueError",
          "evalue": "ignored",
          "traceback": [
            "\u001b[0;31m---------------------------------------------------------------------------\u001b[0m",
            "\u001b[0;31mValueError\u001b[0m                                Traceback (most recent call last)",
            "\u001b[0;32m<ipython-input-47-fd34f1770ef4>\u001b[0m in \u001b[0;36m<module>\u001b[0;34m()\u001b[0m\n\u001b[0;32m----> 1\u001b[0;31m \u001b[0msns\u001b[0m\u001b[0;34m.\u001b[0m\u001b[0mscatterplot\u001b[0m\u001b[0;34m(\u001b[0m\u001b[0mdata\u001b[0m\u001b[0;34m=\u001b[0m\u001b[0mdf_shootings_test\u001b[0m\u001b[0;34m,\u001b[0m \u001b[0mhue\u001b[0m\u001b[0;34m=\u001b[0m\u001b[0;34m'date'\u001b[0m\u001b[0;34m)\u001b[0m\u001b[0;34m\u001b[0m\u001b[0;34m\u001b[0m\u001b[0m\n\u001b[0m",
            "\u001b[0;32m/usr/local/lib/python3.7/dist-packages/seaborn/_decorators.py\u001b[0m in \u001b[0;36minner_f\u001b[0;34m(*args, **kwargs)\u001b[0m\n\u001b[1;32m     44\u001b[0m             )\n\u001b[1;32m     45\u001b[0m         \u001b[0mkwargs\u001b[0m\u001b[0;34m.\u001b[0m\u001b[0mupdate\u001b[0m\u001b[0;34m(\u001b[0m\u001b[0;34m{\u001b[0m\u001b[0mk\u001b[0m\u001b[0;34m:\u001b[0m \u001b[0marg\u001b[0m \u001b[0;32mfor\u001b[0m \u001b[0mk\u001b[0m\u001b[0;34m,\u001b[0m \u001b[0marg\u001b[0m \u001b[0;32min\u001b[0m \u001b[0mzip\u001b[0m\u001b[0;34m(\u001b[0m\u001b[0msig\u001b[0m\u001b[0;34m.\u001b[0m\u001b[0mparameters\u001b[0m\u001b[0;34m,\u001b[0m \u001b[0margs\u001b[0m\u001b[0;34m)\u001b[0m\u001b[0;34m}\u001b[0m\u001b[0;34m)\u001b[0m\u001b[0;34m\u001b[0m\u001b[0;34m\u001b[0m\u001b[0m\n\u001b[0;32m---> 46\u001b[0;31m         \u001b[0;32mreturn\u001b[0m \u001b[0mf\u001b[0m\u001b[0;34m(\u001b[0m\u001b[0;34m**\u001b[0m\u001b[0mkwargs\u001b[0m\u001b[0;34m)\u001b[0m\u001b[0;34m\u001b[0m\u001b[0;34m\u001b[0m\u001b[0m\n\u001b[0m\u001b[1;32m     47\u001b[0m     \u001b[0;32mreturn\u001b[0m \u001b[0minner_f\u001b[0m\u001b[0;34m\u001b[0m\u001b[0;34m\u001b[0m\u001b[0m\n\u001b[1;32m     48\u001b[0m \u001b[0;34m\u001b[0m\u001b[0m\n",
            "\u001b[0;32m/usr/local/lib/python3.7/dist-packages/seaborn/relational.py\u001b[0m in \u001b[0;36mscatterplot\u001b[0;34m(x, y, hue, style, size, data, palette, hue_order, hue_norm, sizes, size_order, size_norm, markers, style_order, x_bins, y_bins, units, estimator, ci, n_boot, alpha, x_jitter, y_jitter, legend, ax, **kwargs)\u001b[0m\n\u001b[1;32m    803\u001b[0m         \u001b[0mx_bins\u001b[0m\u001b[0;34m=\u001b[0m\u001b[0mx_bins\u001b[0m\u001b[0;34m,\u001b[0m \u001b[0my_bins\u001b[0m\u001b[0;34m=\u001b[0m\u001b[0my_bins\u001b[0m\u001b[0;34m,\u001b[0m\u001b[0;34m\u001b[0m\u001b[0;34m\u001b[0m\u001b[0m\n\u001b[1;32m    804\u001b[0m         \u001b[0mestimator\u001b[0m\u001b[0;34m=\u001b[0m\u001b[0mestimator\u001b[0m\u001b[0;34m,\u001b[0m \u001b[0mci\u001b[0m\u001b[0;34m=\u001b[0m\u001b[0mci\u001b[0m\u001b[0;34m,\u001b[0m \u001b[0mn_boot\u001b[0m\u001b[0;34m=\u001b[0m\u001b[0mn_boot\u001b[0m\u001b[0;34m,\u001b[0m\u001b[0;34m\u001b[0m\u001b[0;34m\u001b[0m\u001b[0m\n\u001b[0;32m--> 805\u001b[0;31m         \u001b[0malpha\u001b[0m\u001b[0;34m=\u001b[0m\u001b[0malpha\u001b[0m\u001b[0;34m,\u001b[0m \u001b[0mx_jitter\u001b[0m\u001b[0;34m=\u001b[0m\u001b[0mx_jitter\u001b[0m\u001b[0;34m,\u001b[0m \u001b[0my_jitter\u001b[0m\u001b[0;34m=\u001b[0m\u001b[0my_jitter\u001b[0m\u001b[0;34m,\u001b[0m \u001b[0mlegend\u001b[0m\u001b[0;34m=\u001b[0m\u001b[0mlegend\u001b[0m\u001b[0;34m,\u001b[0m\u001b[0;34m\u001b[0m\u001b[0;34m\u001b[0m\u001b[0m\n\u001b[0m\u001b[1;32m    806\u001b[0m     )\n\u001b[1;32m    807\u001b[0m \u001b[0;34m\u001b[0m\u001b[0m\n",
            "\u001b[0;32m/usr/local/lib/python3.7/dist-packages/seaborn/relational.py\u001b[0m in \u001b[0;36m__init__\u001b[0;34m(self, data, variables, x_bins, y_bins, estimator, ci, n_boot, alpha, x_jitter, y_jitter, legend)\u001b[0m\n\u001b[1;32m    585\u001b[0m         )\n\u001b[1;32m    586\u001b[0m \u001b[0;34m\u001b[0m\u001b[0m\n\u001b[0;32m--> 587\u001b[0;31m         \u001b[0msuper\u001b[0m\u001b[0;34m(\u001b[0m\u001b[0;34m)\u001b[0m\u001b[0;34m.\u001b[0m\u001b[0m__init__\u001b[0m\u001b[0;34m(\u001b[0m\u001b[0mdata\u001b[0m\u001b[0;34m=\u001b[0m\u001b[0mdata\u001b[0m\u001b[0;34m,\u001b[0m \u001b[0mvariables\u001b[0m\u001b[0;34m=\u001b[0m\u001b[0mvariables\u001b[0m\u001b[0;34m)\u001b[0m\u001b[0;34m\u001b[0m\u001b[0;34m\u001b[0m\u001b[0m\n\u001b[0m\u001b[1;32m    588\u001b[0m \u001b[0;34m\u001b[0m\u001b[0m\n\u001b[1;32m    589\u001b[0m         \u001b[0mself\u001b[0m\u001b[0;34m.\u001b[0m\u001b[0malpha\u001b[0m \u001b[0;34m=\u001b[0m \u001b[0malpha\u001b[0m\u001b[0;34m\u001b[0m\u001b[0;34m\u001b[0m\u001b[0m\n",
            "\u001b[0;32m/usr/local/lib/python3.7/dist-packages/seaborn/_core.py\u001b[0m in \u001b[0;36m__init__\u001b[0;34m(self, data, variables)\u001b[0m\n\u001b[1;32m    602\u001b[0m     \u001b[0;32mdef\u001b[0m \u001b[0m__init__\u001b[0m\u001b[0;34m(\u001b[0m\u001b[0mself\u001b[0m\u001b[0;34m,\u001b[0m \u001b[0mdata\u001b[0m\u001b[0;34m=\u001b[0m\u001b[0;32mNone\u001b[0m\u001b[0;34m,\u001b[0m \u001b[0mvariables\u001b[0m\u001b[0;34m=\u001b[0m\u001b[0;34m{\u001b[0m\u001b[0;34m}\u001b[0m\u001b[0;34m)\u001b[0m\u001b[0;34m:\u001b[0m\u001b[0;34m\u001b[0m\u001b[0;34m\u001b[0m\u001b[0m\n\u001b[1;32m    603\u001b[0m \u001b[0;34m\u001b[0m\u001b[0m\n\u001b[0;32m--> 604\u001b[0;31m         \u001b[0mself\u001b[0m\u001b[0;34m.\u001b[0m\u001b[0massign_variables\u001b[0m\u001b[0;34m(\u001b[0m\u001b[0mdata\u001b[0m\u001b[0;34m,\u001b[0m \u001b[0mvariables\u001b[0m\u001b[0;34m)\u001b[0m\u001b[0;34m\u001b[0m\u001b[0;34m\u001b[0m\u001b[0m\n\u001b[0m\u001b[1;32m    605\u001b[0m \u001b[0;34m\u001b[0m\u001b[0m\n\u001b[1;32m    606\u001b[0m         \u001b[0;32mfor\u001b[0m \u001b[0mvar\u001b[0m\u001b[0;34m,\u001b[0m \u001b[0mcls\u001b[0m \u001b[0;32min\u001b[0m \u001b[0mself\u001b[0m\u001b[0;34m.\u001b[0m\u001b[0m_semantic_mappings\u001b[0m\u001b[0;34m.\u001b[0m\u001b[0mitems\u001b[0m\u001b[0;34m(\u001b[0m\u001b[0;34m)\u001b[0m\u001b[0;34m:\u001b[0m\u001b[0;34m\u001b[0m\u001b[0;34m\u001b[0m\u001b[0m\n",
            "\u001b[0;32m/usr/local/lib/python3.7/dist-packages/seaborn/_core.py\u001b[0m in \u001b[0;36massign_variables\u001b[0;34m(self, data, variables)\u001b[0m\n\u001b[1;32m    661\u001b[0m             \u001b[0mself\u001b[0m\u001b[0;34m.\u001b[0m\u001b[0minput_format\u001b[0m \u001b[0;34m=\u001b[0m \u001b[0;34m\"wide\"\u001b[0m\u001b[0;34m\u001b[0m\u001b[0;34m\u001b[0m\u001b[0m\n\u001b[1;32m    662\u001b[0m             plot_data, variables = self._assign_variables_wideform(\n\u001b[0;32m--> 663\u001b[0;31m                 \u001b[0mdata\u001b[0m\u001b[0;34m,\u001b[0m \u001b[0;34m**\u001b[0m\u001b[0mvariables\u001b[0m\u001b[0;34m,\u001b[0m\u001b[0;34m\u001b[0m\u001b[0;34m\u001b[0m\u001b[0m\n\u001b[0m\u001b[1;32m    664\u001b[0m             )\n\u001b[1;32m    665\u001b[0m         \u001b[0;32melse\u001b[0m\u001b[0;34m:\u001b[0m\u001b[0;34m\u001b[0m\u001b[0;34m\u001b[0m\u001b[0m\n",
            "\u001b[0;32m/usr/local/lib/python3.7/dist-packages/seaborn/_core.py\u001b[0m in \u001b[0;36m_assign_variables_wideform\u001b[0;34m(self, data, **kwargs)\u001b[0m\n\u001b[1;32m    709\u001b[0m             \u001b[0merr\u001b[0m \u001b[0;34m=\u001b[0m \u001b[0;34mf\"The following variable{s} cannot be assigned with wide-form data: \"\u001b[0m\u001b[0;34m\u001b[0m\u001b[0;34m\u001b[0m\u001b[0m\n\u001b[1;32m    710\u001b[0m             \u001b[0merr\u001b[0m \u001b[0;34m+=\u001b[0m \u001b[0;34m\", \"\u001b[0m\u001b[0;34m.\u001b[0m\u001b[0mjoin\u001b[0m\u001b[0;34m(\u001b[0m\u001b[0;34mf\"`{v}`\"\u001b[0m \u001b[0;32mfor\u001b[0m \u001b[0mv\u001b[0m \u001b[0;32min\u001b[0m \u001b[0massigned\u001b[0m\u001b[0;34m)\u001b[0m\u001b[0;34m\u001b[0m\u001b[0;34m\u001b[0m\u001b[0m\n\u001b[0;32m--> 711\u001b[0;31m             \u001b[0;32mraise\u001b[0m \u001b[0mValueError\u001b[0m\u001b[0;34m(\u001b[0m\u001b[0merr\u001b[0m\u001b[0;34m)\u001b[0m\u001b[0;34m\u001b[0m\u001b[0;34m\u001b[0m\u001b[0m\n\u001b[0m\u001b[1;32m    712\u001b[0m \u001b[0;34m\u001b[0m\u001b[0m\n\u001b[1;32m    713\u001b[0m         \u001b[0;31m# Determine if the data object actually has any data in it\u001b[0m\u001b[0;34m\u001b[0m\u001b[0;34m\u001b[0m\u001b[0;34m\u001b[0m\u001b[0m\n",
            "\u001b[0;31mValueError\u001b[0m: The following variable cannot be assigned with wide-form data: `hue`"
          ]
        }
      ]
    }
  ]
}