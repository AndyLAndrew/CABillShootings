{
 "cells": [
  {
   "cell_type": "markdown",
   "metadata": {
    "id": "5hhVHdWu-YKK"
   },
   "source": [
    "# COGS 108 - Data Checkpoint"
   ]
  },
  {
   "cell_type": "markdown",
   "metadata": {
    "id": "8MM-aN_X-hTJ"
   },
   "source": [
    "# Names\n",
    "\n",
    "- Nick Fithen\n",
    "- Lupe De Anda\n",
    "- Andrew Lona\n",
    "- Kimberly Alonzo\n",
    "- Andres Villegas"
   ]
  },
  {
   "cell_type": "markdown",
   "metadata": {
    "id": "PyHEVNUUAjeR"
   },
   "source": [
    "\n",
    "<a id='research_question'></a>\n",
    "# Research Question\n"
   ]
  },
  {
   "cell_type": "markdown",
   "metadata": {
    "id": "2VU57bgWAoxZ"
   },
   "source": [
    "\n",
    "*Is there a causal relationship between the amount of nationwide police shootings and the increase of bills proposed in California concerning law enforcement?*"
   ]
  },
  {
   "cell_type": "markdown",
   "metadata": {
    "id": "GwdRt6ibAqGn"
   },
   "source": [
    "\n",
    "# Dataset(s)"
   ]
  },
  {
   "cell_type": "markdown",
   "metadata": {
    "id": "l3Lt3lAzAuRU"
   },
   "source": [
    "**Top 50 Police Vocabulary**\n",
    "- Dataset Name: vocab.csv\n",
    "- Link to the dataset: https://raw.githubusercontent.com/lupedeanda/test_repo/main/vocab.csv\n",
    "- Gained access to dataset via: https://policeteststudyguide.com/top-50-police-vocabulary-you-need-to-know/\n",
    "- Number of observations: 50\n",
    "\n",
    "The dataset takes 50 words that are used and understood by professionals in the police force. We additionally added the definitions of each word in a separate column. \n",
    "\n",
    "**Popular Police Codes**\n",
    "- Dataset Name: codes.csv\n",
    "- Link to the dataset: https://raw.githubusercontent.com/lupedeanda/test_repo/main/codes.csv\n",
    "- Gained access to dataset via: https://policecodes.net\n",
    "- Number of observations: 30\n",
    "\n",
    "The dataset takes 30 police codes that officers used to communicate emergencies, crimes, and situations on the job. We included the descriptions of each code in a separate column.\n",
    "\n",
    "**Fatal Police Shootings Data**\n",
    "- Dataset Name: shootings.csv\n",
    "- Link to the dataset: https://github.com/washingtonpost/data-police-shootings/releases/download/v0.1/fatal-police-shootings-data.csv (original), https://raw.githubusercontent.com/lupedeanda/test_repo/main/shootings.csv (ours)\n",
    "- Gained access to dataset via: https://github.com/washingtonpost/data-police-shootings\n",
    "- Number of observations: 6,241\n",
    "\n",
    "The dataset monitors all reported police shootings across the United States since 2015. Columns in the dataset document how the person was shot and describe the victim and events leading up to the incident.\n",
    "\n",
    "**California Legislative Information***\n",
    "- Dataset Name: bills.csv\n",
    "- Link to the dataset: https://raw.githubusercontent.com/lupedeanda/test_repo/main/bills.csv\n",
    "- Gained access to dataset via: https://leginfo.legislature.ca.gov/faces/billSearchClient.xhtml \n",
    "- Number of observations: 62,699\n",
    "\n",
    "The dataset keeps track of bills proposed in the Californnia Legislature. Coulmns in the data set keep track of who proposed the bill, what the bill intended to change, and the current status of the proposed bill.\n"
   ]
  },
  {
   "cell_type": "markdown",
   "metadata": {
    "id": "ai-NcoGEAxpZ"
   },
   "source": [
    "\n",
    "\n",
    "# Setup"
   ]
  },
  {
   "cell_type": "code",
   "execution_count": null,
   "metadata": {
    "id": "lJNyPPheA572"
   },
   "outputs": [],
   "source": [
    "#importing basic programs + explanations of each import\n",
    "import pandas as pd #Needed to create and modify dataframes from the data we collect (and hopefully merge them together)\n",
    "\n",
    "#import seaborn as sns #Not used yet but needed to quickly graph data for visual inspection (such as for outliers)\n",
    "#import matplotlib.pyplot as plt #Not used but will be important for specific visualizations in the near future\n",
    "#import numpy as np #Not used yet but is useful for array manipulations\n",
    "\n",
    "from bs4 import BeautifulSoup # Beautiful Soup library used for web scraping\n",
    "import requests # this is needed to communicate with the html file"
   ]
  },
  {
   "cell_type": "markdown",
   "metadata": {
    "id": "pCP8D8isA1mw"
   },
   "source": [
    "# Data Cleaning"
   ]
  },
  {
   "cell_type": "code",
   "execution_count": null,
   "metadata": {
    "id": "gvP3LxSC6Kaj"
   },
   "outputs": [],
   "source": [
    "#reading in dataframes\n",
    "df_vocab = pd.read_csv('https://raw.githubusercontent.com/lupedeanda/test_repo/main/vocab.csv')\n",
    "df_codes = pd.read_csv('https://raw.githubusercontent.com/lupedeanda/test_repo/main/codes.csv')\n",
    "df_bills = pd.read_csv('https://raw.githubusercontent.com/lupedeanda/test_repo/main/bills.csv')\n",
    "df_shootings = pd.read_csv('https://raw.githubusercontent.com/lupedeanda/test_repo/main/shootings.csv')"
   ]
  },
  {
   "cell_type": "code",
   "execution_count": null,
   "metadata": {
    "colab": {
     "base_uri": "https://localhost:8080/",
     "height": 202
    },
    "id": "m-JEZX7rACMk",
    "outputId": "d92dd1f4-7542-48de-f323-344312dba4b8"
   },
   "outputs": [
    {
     "data": {
      "text/html": [
       "<div>\n",
       "<style scoped>\n",
       "    .dataframe tbody tr th:only-of-type {\n",
       "        vertical-align: middle;\n",
       "    }\n",
       "\n",
       "    .dataframe tbody tr th {\n",
       "        vertical-align: top;\n",
       "    }\n",
       "\n",
       "    .dataframe thead th {\n",
       "        text-align: right;\n",
       "    }\n",
       "</style>\n",
       "<table border=\"1\" class=\"dataframe\">\n",
       "  <thead>\n",
       "    <tr style=\"text-align: right;\">\n",
       "      <th></th>\n",
       "      <th>Word</th>\n",
       "      <th>Definition</th>\n",
       "    </tr>\n",
       "  </thead>\n",
       "  <tbody>\n",
       "    <tr>\n",
       "      <th>0</th>\n",
       "      <td>Corroborate</td>\n",
       "      <td>To give support to a theory or finding</td>\n",
       "    </tr>\n",
       "    <tr>\n",
       "      <th>1</th>\n",
       "      <td>Suborn</td>\n",
       "      <td>To bribe someone to commit an unlawful act</td>\n",
       "    </tr>\n",
       "    <tr>\n",
       "      <th>2</th>\n",
       "      <td>Sequester</td>\n",
       "      <td>To isolate</td>\n",
       "    </tr>\n",
       "    <tr>\n",
       "      <th>3</th>\n",
       "      <td>Libel</td>\n",
       "      <td>To publish a false statement that damages an i...</td>\n",
       "    </tr>\n",
       "    <tr>\n",
       "      <th>4</th>\n",
       "      <td>Adjourn</td>\n",
       "      <td>To postpone, often referring to court</td>\n",
       "    </tr>\n",
       "  </tbody>\n",
       "</table>\n",
       "</div>"
      ],
      "text/plain": [
       "          Word                                         Definition\n",
       "0  Corroborate             To give support to a theory or finding\n",
       "1       Suborn         To bribe someone to commit an unlawful act\n",
       "2    Sequester                                         To isolate\n",
       "3        Libel  To publish a false statement that damages an i...\n",
       "4      Adjourn              To postpone, often referring to court"
      ]
     },
     "execution_count": 21,
     "metadata": {
      "tags": []
     },
     "output_type": "execute_result"
    }
   ],
   "source": [
    "#only have 2 columns and what we have currently seems to be as usable/clean as we can make it\n",
    "df_vocab.head()"
   ]
  },
  {
   "cell_type": "code",
   "execution_count": null,
   "metadata": {
    "colab": {
     "base_uri": "https://localhost:8080/",
     "height": 202
    },
    "id": "1lSc1cZ4uW2J",
    "outputId": "ce0a653c-1a6b-4c83-8d6f-14c2fb5ed0e6"
   },
   "outputs": [
    {
     "data": {
      "text/html": [
       "<div>\n",
       "<style scoped>\n",
       "    .dataframe tbody tr th:only-of-type {\n",
       "        vertical-align: middle;\n",
       "    }\n",
       "\n",
       "    .dataframe tbody tr th {\n",
       "        vertical-align: top;\n",
       "    }\n",
       "\n",
       "    .dataframe thead th {\n",
       "        text-align: right;\n",
       "    }\n",
       "</style>\n",
       "<table border=\"1\" class=\"dataframe\">\n",
       "  <thead>\n",
       "    <tr style=\"text-align: right;\">\n",
       "      <th></th>\n",
       "      <th>Code</th>\n",
       "      <th>Description</th>\n",
       "    </tr>\n",
       "  </thead>\n",
       "  <tbody>\n",
       "    <tr>\n",
       "      <th>0</th>\n",
       "      <td>10-35</td>\n",
       "      <td>Confidential information or open window</td>\n",
       "    </tr>\n",
       "    <tr>\n",
       "      <th>1</th>\n",
       "      <td>10-60</td>\n",
       "      <td>Squad in vicinity</td>\n",
       "    </tr>\n",
       "    <tr>\n",
       "      <th>2</th>\n",
       "      <td>10-11</td>\n",
       "      <td>Identify frequency / Dispatching too fast</td>\n",
       "    </tr>\n",
       "    <tr>\n",
       "      <th>3</th>\n",
       "      <td>10-100</td>\n",
       "      <td>Misdemeanor warrant / Out using restroom</td>\n",
       "    </tr>\n",
       "    <tr>\n",
       "      <th>4</th>\n",
       "      <td>10-10</td>\n",
       "      <td>Negative / Fight in progress</td>\n",
       "    </tr>\n",
       "  </tbody>\n",
       "</table>\n",
       "</div>"
      ],
      "text/plain": [
       "     Code                                Description\n",
       "0   10-35    Confidential information or open window\n",
       "1   10-60                          Squad in vicinity\n",
       "2   10-11  Identify frequency / Dispatching too fast\n",
       "3  10-100   Misdemeanor warrant / Out using restroom\n",
       "4   10-10               Negative / Fight in progress"
      ]
     },
     "execution_count": 22,
     "metadata": {
      "tags": []
     },
     "output_type": "execute_result"
    }
   ],
   "source": [
    "#same as above\n",
    "#only have 2 columns and what we have currently seems to be as usable/clean as we can make it\n",
    "df_codes.head()"
   ]
  },
  {
   "cell_type": "code",
   "execution_count": null,
   "metadata": {
    "colab": {
     "base_uri": "https://localhost:8080/",
     "height": 202
    },
    "id": "CLCRoa8guZZP",
    "outputId": "553e4aa0-13ea-4374-90eb-6ae4a6af7c52"
   },
   "outputs": [
    {
     "data": {
      "text/html": [
       "<div>\n",
       "<style scoped>\n",
       "    .dataframe tbody tr th:only-of-type {\n",
       "        vertical-align: middle;\n",
       "    }\n",
       "\n",
       "    .dataframe tbody tr th {\n",
       "        vertical-align: top;\n",
       "    }\n",
       "\n",
       "    .dataframe thead th {\n",
       "        text-align: right;\n",
       "    }\n",
       "</style>\n",
       "<table border=\"1\" class=\"dataframe\">\n",
       "  <thead>\n",
       "    <tr style=\"text-align: right;\">\n",
       "      <th></th>\n",
       "      <th>Measure</th>\n",
       "      <th>Session Year</th>\n",
       "      <th>Subject</th>\n",
       "      <th>Author</th>\n",
       "      <th>Status</th>\n",
       "    </tr>\n",
       "  </thead>\n",
       "  <tbody>\n",
       "    <tr>\n",
       "      <th>0</th>\n",
       "      <td>AB-1</td>\n",
       "      <td>2009 - 2010</td>\n",
       "      <td>Teachers: program of professional growth: conf...</td>\n",
       "      <td>Monning</td>\n",
       "      <td>Vetoed</td>\n",
       "    </tr>\n",
       "    <tr>\n",
       "      <th>1</th>\n",
       "      <td>ABX1-1</td>\n",
       "      <td>2009 - 2010</td>\n",
       "      <td>Taxation: corporate reorganizations: built-in ...</td>\n",
       "      <td>Charles Calderon</td>\n",
       "      <td>Assembly - Died</td>\n",
       "    </tr>\n",
       "    <tr>\n",
       "      <th>2</th>\n",
       "      <td>ABX2-1</td>\n",
       "      <td>2009 - 2010</td>\n",
       "      <td>State employment: salary freeze.</td>\n",
       "      <td>Portantino</td>\n",
       "      <td>Assembly - Died</td>\n",
       "    </tr>\n",
       "    <tr>\n",
       "      <th>3</th>\n",
       "      <td>ABX3-1</td>\n",
       "      <td>2009 - 2010</td>\n",
       "      <td>2009–10 Budget.</td>\n",
       "      <td>Evans</td>\n",
       "      <td>Senate - Died</td>\n",
       "    </tr>\n",
       "    <tr>\n",
       "      <th>4</th>\n",
       "      <td>ABX4-1</td>\n",
       "      <td>2009 - 2010</td>\n",
       "      <td>Budget Act of 2009: revisions.</td>\n",
       "      <td>Evans</td>\n",
       "      <td>Chaptered</td>\n",
       "    </tr>\n",
       "  </tbody>\n",
       "</table>\n",
       "</div>"
      ],
      "text/plain": [
       "  Measure Session Year  ...            Author           Status\n",
       "0    AB-1  2009 - 2010  ...           Monning           Vetoed\n",
       "1  ABX1-1  2009 - 2010  ...  Charles Calderon  Assembly - Died\n",
       "2  ABX2-1  2009 - 2010  ...        Portantino  Assembly - Died\n",
       "3  ABX3-1  2009 - 2010  ...             Evans    Senate - Died\n",
       "4  ABX4-1  2009 - 2010  ...             Evans        Chaptered\n",
       "\n",
       "[5 rows x 5 columns]"
      ]
     },
     "execution_count": 23,
     "metadata": {
      "tags": []
     },
     "output_type": "execute_result"
    }
   ],
   "source": [
    "### this is a tentative dataset while we attempt to build a webscraper to collect all of the available data\n",
    "#dataset as is is pretty concise and usable\n",
    "#was created by government officials with uniformity in mind so there isn't much we need to fix\n",
    "\n",
    "#Steps needed for this dataset:\n",
    "#0. Webscrape full dataset. Deadline is next monday May 10. If unable to acquire, then it'll have to be made by hand (copy/paste)\n",
    "#1. Check for missing values and remove rows (unless the specific bill can be researched to fill the row with such info)\n",
    "#2. Check for outliers such as uncommon status strings\n",
    "#3. Remove last 7 characters for Session year and then convert to an integer\n",
    "#4. Possibly rename measures based on AB labels (will need to research more into this)\n",
    "\n",
    "df_bills.head()"
   ]
  },
  {
   "cell_type": "code",
   "execution_count": null,
   "metadata": {
    "colab": {
     "base_uri": "https://localhost:8080/"
    },
    "id": "J-q9VU3PB6pv",
    "outputId": "39196aee-6418-45f9-869e-97f2df8112d0"
   },
   "outputs": [
    {
     "data": {
      "text/plain": [
       "False"
      ]
     },
     "execution_count": 24,
     "metadata": {
      "tags": []
     },
     "output_type": "execute_result"
    }
   ],
   "source": [
    "#Checking for missing values\n",
    "df_bills.isna().values.any()\n",
    "#No NaNs found!"
   ]
  },
  {
   "cell_type": "code",
   "execution_count": null,
   "metadata": {
    "colab": {
     "base_uri": "https://localhost:8080/"
    },
    "id": "JWhUzvW4Dfu5",
    "outputId": "bddc2a18-eca3-4e43-c9d6-9fd4da5270fc"
   },
   "outputs": [
    {
     "data": {
      "text/plain": [
       "['2009 - 2010',\n",
       " '2011 - 2012',\n",
       " '2013 - 2014',\n",
       " '2015 - 2016',\n",
       " '2017 - 2018',\n",
       " '2019 - 2020',\n",
       " '2021 - 2022']"
      ]
     },
     "execution_count": 25,
     "metadata": {
      "tags": []
     },
     "output_type": "execute_result"
    }
   ],
   "source": [
    "#Checking for unique values in Session Year (Skipping Measure, Subject, and Author for now as they are meant to be unique)\n",
    "list(df_bills['Session Year'].unique())"
   ]
  },
  {
   "cell_type": "code",
   "execution_count": null,
   "metadata": {
    "colab": {
     "base_uri": "https://localhost:8080/",
     "height": 662
    },
    "id": "OtGcRZMiDF-3",
    "outputId": "880a6281-795f-4a89-8208-a4dcd64db7e6"
   },
   "outputs": [
    {
     "data": {
      "text/html": [
       "<div>\n",
       "<style scoped>\n",
       "    .dataframe tbody tr th:only-of-type {\n",
       "        vertical-align: middle;\n",
       "    }\n",
       "\n",
       "    .dataframe tbody tr th {\n",
       "        vertical-align: top;\n",
       "    }\n",
       "\n",
       "    .dataframe thead th {\n",
       "        text-align: right;\n",
       "    }\n",
       "</style>\n",
       "<table border=\"1\" class=\"dataframe\">\n",
       "  <thead>\n",
       "    <tr style=\"text-align: right;\">\n",
       "      <th></th>\n",
       "      <th>Measure</th>\n",
       "      <th>Session Year</th>\n",
       "      <th>Subject</th>\n",
       "      <th>Author</th>\n",
       "      <th>Status</th>\n",
       "    </tr>\n",
       "  </thead>\n",
       "  <tbody>\n",
       "    <tr>\n",
       "      <th>0</th>\n",
       "      <td>AB-1</td>\n",
       "      <td>2009 - 2010</td>\n",
       "      <td>Teachers: program of professional growth: conf...</td>\n",
       "      <td>Monning</td>\n",
       "      <td>Vetoed</td>\n",
       "    </tr>\n",
       "    <tr>\n",
       "      <th>1</th>\n",
       "      <td>ABX1-1</td>\n",
       "      <td>2009 - 2010</td>\n",
       "      <td>Taxation: corporate reorganizations: built-in ...</td>\n",
       "      <td>Charles Calderon</td>\n",
       "      <td>Assembly</td>\n",
       "    </tr>\n",
       "    <tr>\n",
       "      <th>2</th>\n",
       "      <td>ABX2-1</td>\n",
       "      <td>2009 - 2010</td>\n",
       "      <td>State employment: salary freeze.</td>\n",
       "      <td>Portantino</td>\n",
       "      <td>Assembly</td>\n",
       "    </tr>\n",
       "    <tr>\n",
       "      <th>3</th>\n",
       "      <td>ABX3-1</td>\n",
       "      <td>2009 - 2010</td>\n",
       "      <td>2009–10 Budget.</td>\n",
       "      <td>Evans</td>\n",
       "      <td>Senate</td>\n",
       "    </tr>\n",
       "    <tr>\n",
       "      <th>4</th>\n",
       "      <td>ABX4-1</td>\n",
       "      <td>2009 - 2010</td>\n",
       "      <td>Budget Act of 2009: revisions.</td>\n",
       "      <td>Evans</td>\n",
       "      <td>Chaptered</td>\n",
       "    </tr>\n",
       "    <tr>\n",
       "      <th>5</th>\n",
       "      <td>ABX5-1</td>\n",
       "      <td>2009 - 2010</td>\n",
       "      <td>School accountability.</td>\n",
       "      <td>Solorio</td>\n",
       "      <td>Assembly</td>\n",
       "    </tr>\n",
       "    <tr>\n",
       "      <th>6</th>\n",
       "      <td>ABX6-1</td>\n",
       "      <td>2009 - 2010</td>\n",
       "      <td>Taxation: Oil Industry Fair Share Act.</td>\n",
       "      <td>Nava</td>\n",
       "      <td>Assembly</td>\n",
       "    </tr>\n",
       "    <tr>\n",
       "      <th>7</th>\n",
       "      <td>ABX7-1</td>\n",
       "      <td>2009 - 2010</td>\n",
       "      <td>Public resources.</td>\n",
       "      <td>Fuller</td>\n",
       "      <td>Assembly</td>\n",
       "    </tr>\n",
       "    <tr>\n",
       "      <th>8</th>\n",
       "      <td>ABX8-1</td>\n",
       "      <td>2009 - 2010</td>\n",
       "      <td>Budget Act of 2009.</td>\n",
       "      <td>Committee on Budget</td>\n",
       "      <td>Chaptered</td>\n",
       "    </tr>\n",
       "    <tr>\n",
       "      <th>9</th>\n",
       "      <td>AB-1</td>\n",
       "      <td>2011 - 2012</td>\n",
       "      <td>Education finance: CalWORKs Stage 3.</td>\n",
       "      <td>John A. Pérez</td>\n",
       "      <td>Assembly</td>\n",
       "    </tr>\n",
       "    <tr>\n",
       "      <th>10</th>\n",
       "      <td>ABX1-1</td>\n",
       "      <td>2011 - 2012</td>\n",
       "      <td>State employment: salary freeze.</td>\n",
       "      <td>Portantino</td>\n",
       "      <td>Assembly</td>\n",
       "    </tr>\n",
       "    <tr>\n",
       "      <th>11</th>\n",
       "      <td>AB-1</td>\n",
       "      <td>2013 - 2014</td>\n",
       "      <td>Water quality: integrated plan: Salinas Valley.</td>\n",
       "      <td>Alejo</td>\n",
       "      <td>Assembly</td>\n",
       "    </tr>\n",
       "    <tr>\n",
       "      <th>12</th>\n",
       "      <td>ABX1-1</td>\n",
       "      <td>2013 - 2014</td>\n",
       "      <td>Medi-Cal: eligibility.</td>\n",
       "      <td>John A. Pérez</td>\n",
       "      <td>Chaptered</td>\n",
       "    </tr>\n",
       "    <tr>\n",
       "      <th>13</th>\n",
       "      <td>AB-1</td>\n",
       "      <td>2015 - 2016</td>\n",
       "      <td>Drought: local governments: fines.</td>\n",
       "      <td>Brown</td>\n",
       "      <td>Chaptered</td>\n",
       "    </tr>\n",
       "    <tr>\n",
       "      <th>14</th>\n",
       "      <td>ABX1-1</td>\n",
       "      <td>2015 - 2016</td>\n",
       "      <td>Transportation funding.</td>\n",
       "      <td>Alejo</td>\n",
       "      <td>Assembly</td>\n",
       "    </tr>\n",
       "    <tr>\n",
       "      <th>15</th>\n",
       "      <td>ABX2-1</td>\n",
       "      <td>2015 - 2016</td>\n",
       "      <td>Developmental services: Medi-Cal: funding.</td>\n",
       "      <td>Thurmond</td>\n",
       "      <td>Chaptered</td>\n",
       "    </tr>\n",
       "    <tr>\n",
       "      <th>16</th>\n",
       "      <td>AB-1</td>\n",
       "      <td>2017 - 2018</td>\n",
       "      <td>Transportation funding.</td>\n",
       "      <td>Frazier</td>\n",
       "      <td>Assembly</td>\n",
       "    </tr>\n",
       "    <tr>\n",
       "      <th>17</th>\n",
       "      <td>AB-1</td>\n",
       "      <td>2019 - 2020</td>\n",
       "      <td>Youth athletics: California Youth Football Act.</td>\n",
       "      <td>Cooper</td>\n",
       "      <td>Chaptered</td>\n",
       "    </tr>\n",
       "    <tr>\n",
       "      <th>18</th>\n",
       "      <td>AB-1</td>\n",
       "      <td>2021 - 2022</td>\n",
       "      <td>Hazardous waste.</td>\n",
       "      <td>Cristina Garcia</td>\n",
       "      <td>Assembly</td>\n",
       "    </tr>\n",
       "    <tr>\n",
       "      <th>19</th>\n",
       "      <td>AB-2</td>\n",
       "      <td>2009 - 2010</td>\n",
       "      <td>Individual health care coverage.</td>\n",
       "      <td>De La Torre</td>\n",
       "      <td>Vetoed</td>\n",
       "    </tr>\n",
       "  </tbody>\n",
       "</table>\n",
       "</div>"
      ],
      "text/plain": [
       "   Measure Session Year  ...               Author     Status\n",
       "0     AB-1  2009 - 2010  ...              Monning     Vetoed\n",
       "1   ABX1-1  2009 - 2010  ...     Charles Calderon   Assembly\n",
       "2   ABX2-1  2009 - 2010  ...           Portantino   Assembly\n",
       "3   ABX3-1  2009 - 2010  ...                Evans     Senate\n",
       "4   ABX4-1  2009 - 2010  ...                Evans  Chaptered\n",
       "5   ABX5-1  2009 - 2010  ...              Solorio   Assembly\n",
       "6   ABX6-1  2009 - 2010  ...                 Nava   Assembly\n",
       "7   ABX7-1  2009 - 2010  ...               Fuller   Assembly\n",
       "8   ABX8-1  2009 - 2010  ...  Committee on Budget  Chaptered\n",
       "9     AB-1  2011 - 2012  ...        John A. Pérez   Assembly\n",
       "10  ABX1-1  2011 - 2012  ...           Portantino   Assembly\n",
       "11    AB-1  2013 - 2014  ...                Alejo   Assembly\n",
       "12  ABX1-1  2013 - 2014  ...        John A. Pérez  Chaptered\n",
       "13    AB-1  2015 - 2016  ...                Brown  Chaptered\n",
       "14  ABX1-1  2015 - 2016  ...                Alejo   Assembly\n",
       "15  ABX2-1  2015 - 2016  ...             Thurmond  Chaptered\n",
       "16    AB-1  2017 - 2018  ...              Frazier   Assembly\n",
       "17    AB-1  2019 - 2020  ...               Cooper  Chaptered\n",
       "18    AB-1  2021 - 2022  ...      Cristina Garcia   Assembly\n",
       "19    AB-2  2009 - 2010  ...          De La Torre     Vetoed\n",
       "\n",
       "[20 rows x 5 columns]"
      ]
     },
     "execution_count": 26,
     "metadata": {
      "tags": []
     },
     "output_type": "execute_result"
    }
   ],
   "source": [
    "#Checking for unique values in Status\n",
    "\n",
    "#list(df_bills['Status'].unique())\n",
    "\n",
    "#Uh Oh, too many unique statuses.\n",
    "\n",
    "#Will need to check each string for Senate and Assembly and remove the specific dept.\n",
    "#We won't need this information for the scope of the analysis we are doing (these are too specific)\n",
    "\n",
    "#Seems like the unique strings that would need to be kept are Vetoed, Assembly, Senate, Chaptered, and Enrolled [V,A,S,C,E]\n",
    "#Char counts for each string in order are 6, 8, 6, 9, 8\n",
    "\n",
    "#Best practice would be to iterate through each entry in the column and strip all characters that follow each word (using an if check)\n",
    "\n",
    "#df_bills_test = df_bills.copy() #This was just to do a bit of testing so I don't have to rerun the entire kernal\n",
    "\n",
    "#Setup\n",
    "index = 0 #Creating index as iterating per each in the loop caused an error (saying it was too much to unpack)\n",
    "strfindlist = ['Vetoed', 'Assembly', 'Senate', 'Chaptered', 'Enrolled'] #A list of the words we want to keep\n",
    "separator = '' #Separator when using the join function. We don't want any spaces so it will be blank\n",
    "\n",
    "\n",
    "for row in df_bills['Status']: #Iterating through each row first\n",
    "  tempstring = \"\" #A temporary string to store the finished cleaned rows\n",
    "  tempstringlist = [] #A list to store each character (python cannot append to a string easily)\n",
    "  strcount = 0 #Counting each character when looping through the string. Just a check to ensure nothing goes wrong\n",
    "  strfind = \"\" #Used to ensure each if statement is properly accessed\n",
    "  strboolean = False #Used to initially start the if statement for character check (this might not be needed)\n",
    "\n",
    "  for char in row: #Looping through each character in each row/string\n",
    "    if (char == \"V\" and strboolean == False) or (strfind == 'Vetoed' and strcount < 6): #Checking if the first character matches the key words (and if the boolean check is False), if not, it will check the stringfind to ensure it is the right path of if statement to follow\n",
    "      tempstring = tempstringlist.append(char) #Appending each character to the list to join for later\n",
    "      strfind = str(strfindlist[0]) #Assigning the string to the finder so that this if statement will be the one used\n",
    "      strcount += 1 #Counting each character added so that the statement can be broken once finished\n",
    "      strboolean = True #Stop looking for the first letter of the string\n",
    "    elif (char == \"A\" and strboolean == False) or (strfind == 'Assembly' and strcount < 8):\n",
    "      tempstring = tempstringlist.append(char)\n",
    "      strfind = strfindlist[1]\n",
    "      strcount += 1\n",
    "      strboolean = True\n",
    "    elif (char == \"S\" and strboolean == False) or (strfind == 'Senate' and strcount < 6):\n",
    "      tempstring = tempstringlist.append(char)\n",
    "      strfind = strfindlist[2]\n",
    "      strcount += 1\n",
    "      strboolean = True\n",
    "    elif (char == \"C\" and strboolean == False) or (strfind == 'Chaptered' and strcount < 9):\n",
    "      tempstring = tempstringlist.append(char)\n",
    "      strfind = strfindlist[3]\n",
    "      strcount += 1\n",
    "      strboolean = True\n",
    "    elif (char == \"E\" and strboolean == False) or (strfind == 'Enrolled' and strcount < 8):\n",
    "      tempstring = tempstringlist.append(char)\n",
    "      strfind = strfindlist[4]\n",
    "      strcount += 1\n",
    "      strboolean = True\n",
    "    else:\n",
    "      break #Breaks from the loop so that no other characters are added (what we wanted!)\n",
    "\n",
    "  tempstring = separator.join(tempstringlist) #Joins the list into a temporary string variable\n",
    "  df_bills.at[index,'Status'] = tempstring #Rewrites the row under the 'Status' column so that the new string is there\n",
    "  index += 1 #Increases index count\n",
    "\n",
    "df_bills.head(20) #Checking the new dataframe"
   ]
  },
  {
   "cell_type": "code",
   "execution_count": null,
   "metadata": {
    "id": "ie1SGyfu-8aM"
   },
   "outputs": [],
   "source": [
    "#Nick- trying to think of a definition to create that would take a string and find if it has Senate or Assembly. Depending on if it has the '- Died' part to it\n",
    "#def rid_dept(stringy):\n",
    "#  for \n",
    "\n",
    "#Got you! -Andrew\n",
    "#Thank u ur wizard -Nick"
   ]
  },
  {
   "cell_type": "code",
   "execution_count": null,
   "metadata": {
    "id": "3XMz8pqT5FHb"
   },
   "outputs": [],
   "source": [
    "#dropping names of victims for privacy reasons\n",
    "df_shootings = df_shootings.drop(labels='name',axis=1)\n",
    "\n",
    "#dropping unnecessary geocoding data \n",
    "#we don't need precise locations as we already have city and state available\n",
    "df_shootings = df_shootings.drop(labels='latitude',axis=1)\n",
    "df_shootings = df_shootings.drop(labels='longitude',axis=1)\n",
    "df_shootings = df_shootings.drop(labels='is_geocoding_exact',axis=1)"
   ]
  },
  {
   "cell_type": "code",
   "execution_count": null,
   "metadata": {
    "id": "jbFbV6jpkGVG"
   },
   "outputs": [],
   "source": [
    "#Getting rid of the .0 that trails after the ages in the 'ages column\n",
    "df_shootings['age']= df_shootings['age'].astype(str)\n",
    "df_shootings['age']= df_shootings['age'].str.replace('.0', '')"
   ]
  },
  {
   "cell_type": "code",
   "execution_count": null,
   "metadata": {
    "colab": {
     "base_uri": "https://localhost:8080/",
     "height": 202
    },
    "id": "weWb2K-LMWfH",
    "outputId": "e37d2e69-d876-4882-85e7-fdc86113e567"
   },
   "outputs": [
    {
     "data": {
      "text/html": [
       "<div>\n",
       "<style scoped>\n",
       "    .dataframe tbody tr th:only-of-type {\n",
       "        vertical-align: middle;\n",
       "    }\n",
       "\n",
       "    .dataframe tbody tr th {\n",
       "        vertical-align: top;\n",
       "    }\n",
       "\n",
       "    .dataframe thead th {\n",
       "        text-align: right;\n",
       "    }\n",
       "</style>\n",
       "<table border=\"1\" class=\"dataframe\">\n",
       "  <thead>\n",
       "    <tr style=\"text-align: right;\">\n",
       "      <th></th>\n",
       "      <th>id</th>\n",
       "      <th>date</th>\n",
       "      <th>manner_of_death</th>\n",
       "      <th>armed</th>\n",
       "      <th>age</th>\n",
       "      <th>gender</th>\n",
       "      <th>race</th>\n",
       "      <th>city</th>\n",
       "      <th>state</th>\n",
       "      <th>signs_of_mental_illness</th>\n",
       "      <th>threat_level</th>\n",
       "      <th>flee</th>\n",
       "      <th>body_camera</th>\n",
       "    </tr>\n",
       "  </thead>\n",
       "  <tbody>\n",
       "    <tr>\n",
       "      <th>0</th>\n",
       "      <td>3</td>\n",
       "      <td>2015-01-02</td>\n",
       "      <td>shot</td>\n",
       "      <td>gun</td>\n",
       "      <td>53</td>\n",
       "      <td>M</td>\n",
       "      <td>A</td>\n",
       "      <td>Shelton</td>\n",
       "      <td>WA</td>\n",
       "      <td>True</td>\n",
       "      <td>attack</td>\n",
       "      <td>Not fleeing</td>\n",
       "      <td>False</td>\n",
       "    </tr>\n",
       "    <tr>\n",
       "      <th>1</th>\n",
       "      <td>4</td>\n",
       "      <td>2015-01-02</td>\n",
       "      <td>shot</td>\n",
       "      <td>gun</td>\n",
       "      <td>47</td>\n",
       "      <td>M</td>\n",
       "      <td>W</td>\n",
       "      <td>Aloha</td>\n",
       "      <td>OR</td>\n",
       "      <td>False</td>\n",
       "      <td>attack</td>\n",
       "      <td>Not fleeing</td>\n",
       "      <td>False</td>\n",
       "    </tr>\n",
       "    <tr>\n",
       "      <th>2</th>\n",
       "      <td>5</td>\n",
       "      <td>2015-01-03</td>\n",
       "      <td>shot and Tasered</td>\n",
       "      <td>unarmed</td>\n",
       "      <td>23</td>\n",
       "      <td>M</td>\n",
       "      <td>H</td>\n",
       "      <td>Wichita</td>\n",
       "      <td>KS</td>\n",
       "      <td>False</td>\n",
       "      <td>other</td>\n",
       "      <td>Not fleeing</td>\n",
       "      <td>False</td>\n",
       "    </tr>\n",
       "    <tr>\n",
       "      <th>3</th>\n",
       "      <td>8</td>\n",
       "      <td>2015-01-04</td>\n",
       "      <td>shot</td>\n",
       "      <td>toy weapon</td>\n",
       "      <td>32</td>\n",
       "      <td>M</td>\n",
       "      <td>W</td>\n",
       "      <td>San Francisco</td>\n",
       "      <td>CA</td>\n",
       "      <td>True</td>\n",
       "      <td>attack</td>\n",
       "      <td>Not fleeing</td>\n",
       "      <td>False</td>\n",
       "    </tr>\n",
       "    <tr>\n",
       "      <th>4</th>\n",
       "      <td>9</td>\n",
       "      <td>2015-01-04</td>\n",
       "      <td>shot</td>\n",
       "      <td>nail gun</td>\n",
       "      <td>39</td>\n",
       "      <td>M</td>\n",
       "      <td>H</td>\n",
       "      <td>Evans</td>\n",
       "      <td>CO</td>\n",
       "      <td>False</td>\n",
       "      <td>attack</td>\n",
       "      <td>Not fleeing</td>\n",
       "      <td>False</td>\n",
       "    </tr>\n",
       "  </tbody>\n",
       "</table>\n",
       "</div>"
      ],
      "text/plain": [
       "   id        date   manner_of_death  ... threat_level         flee body_camera\n",
       "0   3  2015-01-02              shot  ...       attack  Not fleeing       False\n",
       "1   4  2015-01-02              shot  ...       attack  Not fleeing       False\n",
       "2   5  2015-01-03  shot and Tasered  ...        other  Not fleeing       False\n",
       "3   8  2015-01-04              shot  ...       attack  Not fleeing       False\n",
       "4   9  2015-01-04              shot  ...       attack  Not fleeing       False\n",
       "\n",
       "[5 rows x 13 columns]"
      ]
     },
     "execution_count": 30,
     "metadata": {
      "tags": []
     },
     "output_type": "execute_result"
    }
   ],
   "source": [
    "#printing dataset to see columns\n",
    "df_shootings.head()"
   ]
  },
  {
   "cell_type": "code",
   "execution_count": null,
   "metadata": {
    "colab": {
     "base_uri": "https://localhost:8080/"
    },
    "id": "V_wsTY4tNBfJ",
    "outputId": "49eb6308-c9aa-4676-9756-1415c58c321b"
   },
   "outputs": [
    {
     "data": {
      "text/plain": [
       "gun                    3577\n",
       "knife                   919\n",
       "unarmed                 402\n",
       "toy weapon              212\n",
       "vehicle                 194\n",
       "                       ... \n",
       "bayonet                   1\n",
       "claimed to be armed       1\n",
       "ice pick                  1\n",
       "wasp spray                1\n",
       "nail gun                  1\n",
       "Name: armed, Length: 99, dtype: int64"
      ]
     },
     "execution_count": 31,
     "metadata": {
      "tags": []
     },
     "output_type": "execute_result"
    }
   ],
   "source": [
    "#isolating arm types \n",
    "df_shootings['armed'].value_counts()\n",
    "\n",
    "#99 different types of values for armed consider condensing to just unarmed or armed regardless of weapon \n",
    "#kimberly"
   ]
  },
  {
   "cell_type": "code",
   "execution_count": null,
   "metadata": {
    "colab": {
     "base_uri": "https://localhost:8080/"
    },
    "id": "3qM8HijOOczr",
    "outputId": "35197dc0-37e2-46fe-8826-2640b973dcc0"
   },
   "outputs": [
    {
     "data": {
      "text/plain": [
       "shot                5923\n",
       "shot and Tasered     318\n",
       "Name: manner_of_death, dtype: int64"
      ]
     },
     "execution_count": 32,
     "metadata": {
      "tags": []
     },
     "output_type": "execute_result"
    }
   ],
   "source": [
    "df_shootings['manner_of_death'].value_counts()\n",
    "# this raises questions as dataset only contains shootings which resulted in death ,\n",
    "# perhaps new data set needed to account for all shooting related incidents involving police\n",
    "#Kimberly"
   ]
  },
  {
   "cell_type": "markdown",
   "metadata": {
    "id": "cMSdNJgYtUV4"
   },
   "source": [
    "### Webscraping of Bills from CA Legislature (Still In Progress)\n",
    "* Due to the website settup of the CA Legislature website, we ran into some problems when webscraping using Beautiful Soup (with REQUESTS)\n",
    "* Website = https://leginfo.legislature.ca.gov/faces/advance/advance.xhtml\n",
    "* The typical request scraping process is not compatible with this type of html as it seems to be waiting for user input in the search parameters before it presents a table of bills.\n",
    "* As a placeholder, we have the tables copy/pasted directly into a spreadsheet processor and exported as a csv, however we are still looking into how to accomplish a proper webscrape of the data:\n",
    "_____________________________________________________\n",
    "* We used this website to assist in this other form of scraping, called POST\n",
    "  * http://jonathansoma.com/lede/foundations/classes/friday%20sessions/advanced-scraping-form-submissions-completed/\n",
    "* This requires us to locate specific parameters which are then sent via requests.post(url, data=post_params)\n",
    "* So far we are finding some of the required posts, but will still need some more experimentation to figure out the specific ones to return the full list of bills since 1999\n",
    "  * A meeting with a TA next week will take place to help with understanding this process a bit more"
   ]
  },
  {
   "cell_type": "code",
   "execution_count": null,
   "metadata": {
    "id": "k9qNOMcH7wSG"
   },
   "outputs": [],
   "source": [
    ""
   ]
  }
 ],
 "metadata": {
  "colab": {
   "collapsed_sections": [],
   "name": "DataCheckpoint_group038.ipynb",
   "provenance": []
  },
  "kernelspec": {
   "display_name": "Python 3",
   "name": "python3"
  },
  "language_info": {
   "name": "python"
  }
 },
 "nbformat": 4,
 "nbformat_minor": 0
}
