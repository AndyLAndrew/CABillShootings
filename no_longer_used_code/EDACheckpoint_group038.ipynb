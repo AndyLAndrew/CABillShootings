{
 "nbformat": 4,
 "nbformat_minor": 0,
 "metadata": {
  "kernelspec": {
   "display_name": "Python 3",
   "language": "python",
   "name": "python3"
  },
  "language_info": {
   "codemirror_mode": {
    "name": "ipython",
    "version": 3
   },
   "file_extension": ".py",
   "mimetype": "text/x-python",
   "name": "python",
   "nbconvert_exporter": "python",
   "pygments_lexer": "ipython3",
   "version": "3.7.9"
  },
  "colab": {
   "name": "EDACheckpoint_group038.ipynb",
   "provenance": [],
   "collapsed_sections": [],
   "toc_visible": true,
   "include_colab_link": true
  }
 },
 "cells": [
  {
   "cell_type": "markdown",
   "metadata": {
    "id": "view-in-github",
    "colab_type": "text"
   },
   "source": [
    "<a href=\"https://colab.research.google.com/github/COGS108/group038_sp21/blob/main/EDACheckpoint_group038.ipynb\" target=\"_parent\"><img src=\"https://colab.research.google.com/assets/colab-badge.svg\" alt=\"Open In Colab\"/></a>"
   ]
  },
  {
   "cell_type": "markdown",
   "metadata": {
    "id": "bHNnHlOv6rZ5"
   },
   "source": [
    "# COGS 108 - EDA Checkpoint"
   ]
  },
  {
   "cell_type": "markdown",
   "metadata": {
    "id": "lkiHbHMs6raJ"
   },
   "source": [
    "# Names\n",
    "\n",
    "- Nick Fithen\n",
    "- Lupe De Anda\n",
    "- Andrew Lona\n",
    "- Kimberly Alonzo\n",
    "- Andres Villegas"
   ]
  },
  {
   "cell_type": "markdown",
   "metadata": {
    "id": "7_Nd9D1z6raL"
   },
   "source": [
    "<a id='research_question'></a>\n",
    "# Research Question"
   ]
  },
  {
   "cell_type": "markdown",
   "metadata": {
    "id": "P0Gc2pIi6raL"
   },
   "source": [
    "***it might be hard to make an argument for a causal relationship, maybe just asking if theres some kind of correlation between the two? (LD)\n",
    "\n",
    "(Original) Is there a causal relationship between the amount of nationwide police shootings and the increase of bills proposed in California concerning law enforcement?\n",
    "\n",
    "(Revision #1) Is there a causal relationship between the amount of reported police shootings in the state of California and the increase of bills proposed in California concerning law enforcement?\n",
    "\n",
    "Or\n",
    "\n",
    "(Revision #2) What is the relationship between the amount of reported California police shootings and the number of law enforcement bills proposed in California?"
   ]
  },
  {
   "cell_type": "markdown",
   "metadata": {
    "id": "1oFPX1fB6raM"
   },
   "source": [
    "# Setup"
   ]
  },
  {
   "cell_type": "code",
   "metadata": {
    "id": "lmLyfeXs6raM"
   },
   "source": [
    "#importing basic programs + explanations of each import\n",
    "import pandas as pd #Needed to create and modify dataframes from the data we collect (and hopefully merge them together)\n",
    "\n",
    "import seaborn as sns #Not used yet but needed to quickly graph data for visual inspection (such as for outliers)\n",
    "import matplotlib.pyplot as plt #Not used but will be important for specific visualizations in the near future\n",
    "import numpy as np #Not used yet but is useful for array manipulations\n",
    "\n",
    "from bs4 import BeautifulSoup # Beautiful Soup library used for web scraping\n",
    "import requests # this is needed to communicate with the html file"
   ],
   "execution_count": 15,
   "outputs": []
  },
  {
   "cell_type": "markdown",
   "metadata": {
    "id": "D0xY3Qxz6raN"
   },
   "source": [
    "# Data Cleaning"
   ]
  },
  {
   "cell_type": "markdown",
   "metadata": {
    "id": "l6Qy5SDQ6raN"
   },
   "source": [
    "Describe your data cleaning steps here."
   ]
  },
  {
   "cell_type": "code",
   "metadata": {
    "id": "SlDNOa7F6raO"
   },
   "source": [
    "#reading in dataframes for cleaning\n",
    "\n",
    "df_vocab = pd.read_csv('https://raw.githubusercontent.com/lupedeanda/test_repo/main/vocab.csv')\n",
    "df_codes = pd.read_csv('https://raw.githubusercontent.com/lupedeanda/test_repo/main/codes.csv')\n",
    "df_bills = pd.read_csv('https://raw.githubusercontent.com/lupedeanda/test_repo/main/bills.csv')\n",
    "df_shootings = pd.read_csv('https://raw.githubusercontent.com/lupedeanda/test_repo/main/shootings.csv')\n",
    "df_cleaned_bills = pd.read_csv('https://raw.githubusercontent.com/COGS108/group038_sp21/main/Bills_Dataframe_2009_2021.csv?token=ATRPBRDVYRAZL7R6UAPS6DLAXHEOS')\n",
    "#df_vocab and df_codes are already in a good clean format - only have 2 columns, words and defns\n",
    "#df_bills was read in as a placeholder df that only holds 1000 rows of the information we want \n",
    "#while a webscraper is built\n",
    "#df_shootings still needs to be cleaned"
   ],
   "execution_count": 16,
   "outputs": []
  },
  {
   "cell_type": "code",
   "metadata": {
    "id": "-ABpn3ORdNaq"
   },
   "source": [
    "#dropping names of victims for privacy reasons\n",
    "df_shootings = df_shootings.drop(labels='name',axis=1)\n",
    "\n",
    "#dropping columns we dont need to answer our question \n",
    "df_shootings = df_shootings.drop(labels=['latitude','longitude','is_geocoding_exact','signs_of_mental_illness','threat_level','flee','body_camera'],axis=1)"
   ],
   "execution_count": 17,
   "outputs": []
  },
  {
   "cell_type": "code",
   "metadata": {
    "colab": {
     "base_uri": "https://localhost:8080/",
     "height": 142
    },
    "id": "NUSFDW7ReKoV",
    "outputId": "3fed9c2d-9408-414d-e69d-cec538bea8d9"
   },
   "source": [
    "#narrowing down data to only include CA\n",
    "df_shootings = df_shootings[df_shootings['state']=='CA']\n",
    "\n",
    "#converting to datetime and creating month and year columns\n",
    "df_shootings.loc[:,'date'] = pd.to_datetime(df_shootings['date'])\n",
    "df_shootings['month'] = df_shootings['date'].dt.month\n",
    "df_shootings['year'] = df_shootings['date'].dt.year\n",
    "df_shootings.head(3)"
   ],
   "execution_count": 18,
   "outputs": [
    {
     "data": {
      "text/plain": "    id       date   manner_of_death       armed   age gender race  \\\n3    8 2015-01-04              shot  toy weapon  32.0      M    W   \n10  19 2015-01-06  shot and Tasered       knife  25.0      M    W   \n22  43 2015-01-11              shot         gun  23.0      M    H   \n\n             city state  month  year  \n3   San Francisco    CA      1  2015  \n10       Stockton    CA      1  2015  \n22     South Gate    CA      1  2015  ",
      "text/html": "<div>\n<style scoped>\n    .dataframe tbody tr th:only-of-type {\n        vertical-align: middle;\n    }\n\n    .dataframe tbody tr th {\n        vertical-align: top;\n    }\n\n    .dataframe thead th {\n        text-align: right;\n    }\n</style>\n<table border=\"1\" class=\"dataframe\">\n  <thead>\n    <tr style=\"text-align: right;\">\n      <th></th>\n      <th>id</th>\n      <th>date</th>\n      <th>manner_of_death</th>\n      <th>armed</th>\n      <th>age</th>\n      <th>gender</th>\n      <th>race</th>\n      <th>city</th>\n      <th>state</th>\n      <th>month</th>\n      <th>year</th>\n    </tr>\n  </thead>\n  <tbody>\n    <tr>\n      <th>3</th>\n      <td>8</td>\n      <td>2015-01-04</td>\n      <td>shot</td>\n      <td>toy weapon</td>\n      <td>32.0</td>\n      <td>M</td>\n      <td>W</td>\n      <td>San Francisco</td>\n      <td>CA</td>\n      <td>1</td>\n      <td>2015</td>\n    </tr>\n    <tr>\n      <th>10</th>\n      <td>19</td>\n      <td>2015-01-06</td>\n      <td>shot and Tasered</td>\n      <td>knife</td>\n      <td>25.0</td>\n      <td>M</td>\n      <td>W</td>\n      <td>Stockton</td>\n      <td>CA</td>\n      <td>1</td>\n      <td>2015</td>\n    </tr>\n    <tr>\n      <th>22</th>\n      <td>43</td>\n      <td>2015-01-11</td>\n      <td>shot</td>\n      <td>gun</td>\n      <td>23.0</td>\n      <td>M</td>\n      <td>H</td>\n      <td>South Gate</td>\n      <td>CA</td>\n      <td>1</td>\n      <td>2015</td>\n    </tr>\n  </tbody>\n</table>\n</div>"
     },
     "execution_count": 18,
     "metadata": {},
     "output_type": "execute_result"
    }
   ]
  },
  {
   "cell_type": "code",
   "metadata": {
    "id": "N61h7OP-eaLV"
   },
   "source": [
    "#dataframes of shootings sorted by year \n",
    "shootings_2015 = df_shootings[df_shootings['year']==2015]\n",
    "shootings_2016 = df_shootings[df_shootings['year']==2016]\n",
    "shootings_2017 = df_shootings[df_shootings['year']==2017]\n",
    "shootings_2018 = df_shootings[df_shootings['year']==2018]\n",
    "shootings_2019 = df_shootings[df_shootings['year']==2019]\n",
    "shootings_2020 = df_shootings[df_shootings['year']==2020]\n",
    "shootings_2021 = df_shootings[df_shootings['year']==2021]"
   ],
   "execution_count": 19,
   "outputs": []
  },
  {
   "cell_type": "code",
   "metadata": {
    "id": "_BTn-OtDed3S"
   },
   "source": [
    "#dataframes of shootings per month regardless of year\n",
    "shootings_jan_all = df_shootings[df_shootings['month']==1]\n",
    "shootings_feb_all = df_shootings[df_shootings['month']==2]\n",
    "shootings_mar_all = df_shootings[df_shootings['month']==3]\n",
    "shootings_apr_all = df_shootings[df_shootings['month']==4]\n",
    "shootings_may_all = df_shootings[df_shootings['month']==5]\n",
    "shootings_jun_all = df_shootings[df_shootings['month']==6]\n",
    "shootings_jul_all = df_shootings[df_shootings['month']==7]\n",
    "shootings_aug_all = df_shootings[df_shootings['month']==8]\n",
    "shootings_sep_all = df_shootings[df_shootings['month']==9]\n",
    "shootings_oct_all = df_shootings[df_shootings['month']==10]\n",
    "shootings_nov_all = df_shootings[df_shootings['month']==11]\n",
    "shootings_dec_all = df_shootings[df_shootings['month']==12]"
   ],
   "execution_count": 20,
   "outputs": []
  },
  {
   "cell_type": "code",
   "metadata": {
    "colab": {
     "base_uri": "https://localhost:8080/",
     "height": 266
    },
    "id": "Ux_HT-IWetum",
    "outputId": "b2d9f5c5-77ca-4b74-b15a-84d3b89ccb5a"
   },
   "source": [
    "#to access a specific month of a specific year we can use: \n",
    "#variable_name = shootings_xxxx[shootings_xxxx['month' == y]] \n",
    "#where xxxx is year as an integer and y is the month as an integer\n",
    "\n",
    "#ex:\n",
    "jan_2020 = shootings_2020[shootings_2020['month']==1]\n",
    "jan_2020"
   ],
   "execution_count": 21,
   "outputs": [
    {
     "data": {
      "text/plain": "        id       date   manner_of_death       armed   age gender race  \\\n4931  5342 2020-01-01  shot and Tasered  toy weapon  25.0      M    W   \n4935  5350 2020-01-02              shot         gun  41.0      M    W   \n4952  5498 2020-01-08              shot         gun  27.0      M  NaN   \n4958  5365 2020-01-10              shot     vehicle  24.0      M    H   \n4963  5367 2020-01-12              shot  toy weapon  31.0      M    H   \n4980  5389 2020-01-20              shot         gun  31.0      M    H   \n4998  5428 2020-01-24              shot         gun  31.0      M    H   \n\n                 city state  month  year  \n4931     Grass Valley    CA      1  2020  \n4935         Murrieta    CA      1  2020  \n4952           Nipton    CA      1  2020  \n4958           Muscoy    CA      1  2020  \n4963      Los Angeles    CA      1  2020  \n4980  Fountain Valley    CA      1  2020  \n4998         Oak Park    CA      1  2020  ",
      "text/html": "<div>\n<style scoped>\n    .dataframe tbody tr th:only-of-type {\n        vertical-align: middle;\n    }\n\n    .dataframe tbody tr th {\n        vertical-align: top;\n    }\n\n    .dataframe thead th {\n        text-align: right;\n    }\n</style>\n<table border=\"1\" class=\"dataframe\">\n  <thead>\n    <tr style=\"text-align: right;\">\n      <th></th>\n      <th>id</th>\n      <th>date</th>\n      <th>manner_of_death</th>\n      <th>armed</th>\n      <th>age</th>\n      <th>gender</th>\n      <th>race</th>\n      <th>city</th>\n      <th>state</th>\n      <th>month</th>\n      <th>year</th>\n    </tr>\n  </thead>\n  <tbody>\n    <tr>\n      <th>4931</th>\n      <td>5342</td>\n      <td>2020-01-01</td>\n      <td>shot and Tasered</td>\n      <td>toy weapon</td>\n      <td>25.0</td>\n      <td>M</td>\n      <td>W</td>\n      <td>Grass Valley</td>\n      <td>CA</td>\n      <td>1</td>\n      <td>2020</td>\n    </tr>\n    <tr>\n      <th>4935</th>\n      <td>5350</td>\n      <td>2020-01-02</td>\n      <td>shot</td>\n      <td>gun</td>\n      <td>41.0</td>\n      <td>M</td>\n      <td>W</td>\n      <td>Murrieta</td>\n      <td>CA</td>\n      <td>1</td>\n      <td>2020</td>\n    </tr>\n    <tr>\n      <th>4952</th>\n      <td>5498</td>\n      <td>2020-01-08</td>\n      <td>shot</td>\n      <td>gun</td>\n      <td>27.0</td>\n      <td>M</td>\n      <td>NaN</td>\n      <td>Nipton</td>\n      <td>CA</td>\n      <td>1</td>\n      <td>2020</td>\n    </tr>\n    <tr>\n      <th>4958</th>\n      <td>5365</td>\n      <td>2020-01-10</td>\n      <td>shot</td>\n      <td>vehicle</td>\n      <td>24.0</td>\n      <td>M</td>\n      <td>H</td>\n      <td>Muscoy</td>\n      <td>CA</td>\n      <td>1</td>\n      <td>2020</td>\n    </tr>\n    <tr>\n      <th>4963</th>\n      <td>5367</td>\n      <td>2020-01-12</td>\n      <td>shot</td>\n      <td>toy weapon</td>\n      <td>31.0</td>\n      <td>M</td>\n      <td>H</td>\n      <td>Los Angeles</td>\n      <td>CA</td>\n      <td>1</td>\n      <td>2020</td>\n    </tr>\n    <tr>\n      <th>4980</th>\n      <td>5389</td>\n      <td>2020-01-20</td>\n      <td>shot</td>\n      <td>gun</td>\n      <td>31.0</td>\n      <td>M</td>\n      <td>H</td>\n      <td>Fountain Valley</td>\n      <td>CA</td>\n      <td>1</td>\n      <td>2020</td>\n    </tr>\n    <tr>\n      <th>4998</th>\n      <td>5428</td>\n      <td>2020-01-24</td>\n      <td>shot</td>\n      <td>gun</td>\n      <td>31.0</td>\n      <td>M</td>\n      <td>H</td>\n      <td>Oak Park</td>\n      <td>CA</td>\n      <td>1</td>\n      <td>2020</td>\n    </tr>\n  </tbody>\n</table>\n</div>"
     },
     "execution_count": 21,
     "metadata": {},
     "output_type": "execute_result"
    }
   ]
  },
  {
   "cell_type": "markdown",
   "source": [
    "### Current Progress of Final Dataframe\n",
    "- Dropping all non-shooting-related bills from the CA legislature based off vocab + code words (done)\n",
    "  - Possible TF-IDF of content analysis within bills may be a better solution vs. using the titles (IP)\n",
    "- Dropping all non-CA-related shootings from the shootings dataframe (done)\n",
    "- Counting each shooting and bill by date and creating a new dataframe for easier reference (IP)"
   ],
   "metadata": {
    "collapsed": false,
    "pycharm": {
     "name": "#%% md\n"
    }
   }
  },
  {
   "cell_type": "code",
   "execution_count": 22,
   "outputs": [
    {
     "data": {
      "text/plain": "   Unnamed: 0  bill_id  session_id bill_number  status status_desc  \\\n0           0    61630          30       ABX32       2   Engrossed   \n1           1    59922          30        AB54       1  Introduced   \n2           2    59931          30        AB63       4      Passed   \n3           3    61766          30       ABX76       1  Introduced   \n4           4    59959          30        AB91       4      Passed   \n\n   status_date                                              title  \\\n0     20090112  VLF state parks fee: fuel taxes: emergency ser...   \n1     20081204  State government: California Emergency Managem...   \n2     20090806                      Service contracts: retailers.   \n3     20091029                Water diversion and use: reporting.   \n4     20091011  Vehicles: driving under the influence (DUI): i...   \n\n                                         description  committee_id committee  \\\n0  An act to add Section 8587.3 to the Government...             0       NaN   \n1  An act relating to the California Emergency Ma...             0       NaN   \n2  An act to add Section 1794.45 to the Civil Cod...             0       NaN   \n3  An act to amend Sections 5100, 5101, 5103, and...             0       NaN   \n4  An act to amend Sections 13386 and 23576 of, a...             0       NaN   \n\n   last_action_date                                        last_action  \\\n0          20091026                          Died Concurrence pending.   \n1          20100202  From committee: Filed with the Chief Clerk pur...   \n2          20090806  Chaptered by Secretary of State - Chapter 74, ...   \n3          20091104             From committee without further action.   \n4          20091011  Chaptered by Secretary of State - Chapter 217,...   \n\n                                       url  \\\n0  https://legiscan.com/CA/bill/ABX32/2009   \n1   https://legiscan.com/CA/bill/AB54/2009   \n2   https://legiscan.com/CA/bill/AB63/2009   \n3  https://legiscan.com/CA/bill/ABX76/2009   \n4   https://legiscan.com/CA/bill/AB91/2009   \n\n                                          state_link  \n0  http://www.leginfo.ca.gov/cgi-bin/postquery?bi...  \n1  http://www.leginfo.ca.gov/cgi-bin/postquery?bi...  \n2  http://www.leginfo.ca.gov/cgi-bin/postquery?bi...  \n3  http://www.leginfo.ca.gov/cgi-bin/postquery?bi...  \n4  http://www.leginfo.ca.gov/cgi-bin/postquery?bi...  ",
      "text/html": "<div>\n<style scoped>\n    .dataframe tbody tr th:only-of-type {\n        vertical-align: middle;\n    }\n\n    .dataframe tbody tr th {\n        vertical-align: top;\n    }\n\n    .dataframe thead th {\n        text-align: right;\n    }\n</style>\n<table border=\"1\" class=\"dataframe\">\n  <thead>\n    <tr style=\"text-align: right;\">\n      <th></th>\n      <th>Unnamed: 0</th>\n      <th>bill_id</th>\n      <th>session_id</th>\n      <th>bill_number</th>\n      <th>status</th>\n      <th>status_desc</th>\n      <th>status_date</th>\n      <th>title</th>\n      <th>description</th>\n      <th>committee_id</th>\n      <th>committee</th>\n      <th>last_action_date</th>\n      <th>last_action</th>\n      <th>url</th>\n      <th>state_link</th>\n    </tr>\n  </thead>\n  <tbody>\n    <tr>\n      <th>0</th>\n      <td>0</td>\n      <td>61630</td>\n      <td>30</td>\n      <td>ABX32</td>\n      <td>2</td>\n      <td>Engrossed</td>\n      <td>20090112</td>\n      <td>VLF state parks fee: fuel taxes: emergency ser...</td>\n      <td>An act to add Section 8587.3 to the Government...</td>\n      <td>0</td>\n      <td>NaN</td>\n      <td>20091026</td>\n      <td>Died Concurrence pending.</td>\n      <td>https://legiscan.com/CA/bill/ABX32/2009</td>\n      <td>http://www.leginfo.ca.gov/cgi-bin/postquery?bi...</td>\n    </tr>\n    <tr>\n      <th>1</th>\n      <td>1</td>\n      <td>59922</td>\n      <td>30</td>\n      <td>AB54</td>\n      <td>1</td>\n      <td>Introduced</td>\n      <td>20081204</td>\n      <td>State government: California Emergency Managem...</td>\n      <td>An act relating to the California Emergency Ma...</td>\n      <td>0</td>\n      <td>NaN</td>\n      <td>20100202</td>\n      <td>From committee: Filed with the Chief Clerk pur...</td>\n      <td>https://legiscan.com/CA/bill/AB54/2009</td>\n      <td>http://www.leginfo.ca.gov/cgi-bin/postquery?bi...</td>\n    </tr>\n    <tr>\n      <th>2</th>\n      <td>2</td>\n      <td>59931</td>\n      <td>30</td>\n      <td>AB63</td>\n      <td>4</td>\n      <td>Passed</td>\n      <td>20090806</td>\n      <td>Service contracts: retailers.</td>\n      <td>An act to add Section 1794.45 to the Civil Cod...</td>\n      <td>0</td>\n      <td>NaN</td>\n      <td>20090806</td>\n      <td>Chaptered by Secretary of State - Chapter 74, ...</td>\n      <td>https://legiscan.com/CA/bill/AB63/2009</td>\n      <td>http://www.leginfo.ca.gov/cgi-bin/postquery?bi...</td>\n    </tr>\n    <tr>\n      <th>3</th>\n      <td>3</td>\n      <td>61766</td>\n      <td>30</td>\n      <td>ABX76</td>\n      <td>1</td>\n      <td>Introduced</td>\n      <td>20091029</td>\n      <td>Water diversion and use: reporting.</td>\n      <td>An act to amend Sections 5100, 5101, 5103, and...</td>\n      <td>0</td>\n      <td>NaN</td>\n      <td>20091104</td>\n      <td>From committee without further action.</td>\n      <td>https://legiscan.com/CA/bill/ABX76/2009</td>\n      <td>http://www.leginfo.ca.gov/cgi-bin/postquery?bi...</td>\n    </tr>\n    <tr>\n      <th>4</th>\n      <td>4</td>\n      <td>59959</td>\n      <td>30</td>\n      <td>AB91</td>\n      <td>4</td>\n      <td>Passed</td>\n      <td>20091011</td>\n      <td>Vehicles: driving under the influence (DUI): i...</td>\n      <td>An act to amend Sections 13386 and 23576 of, a...</td>\n      <td>0</td>\n      <td>NaN</td>\n      <td>20091011</td>\n      <td>Chaptered by Secretary of State - Chapter 217,...</td>\n      <td>https://legiscan.com/CA/bill/AB91/2009</td>\n      <td>http://www.leginfo.ca.gov/cgi-bin/postquery?bi...</td>\n    </tr>\n  </tbody>\n</table>\n</div>"
     },
     "execution_count": 22,
     "metadata": {},
     "output_type": "execute_result"
    }
   ],
   "source": [
    "#Showing current modified bills dataframe, the 'BillsPandasCleanup.ipynb' shows the process for creating and cleaning the\n",
    "#current CA bills dataframe (acquired from http://www.leginfo.ca.gov/)\n",
    "df_cleaned_bills.head()"
   ],
   "metadata": {
    "collapsed": false,
    "pycharm": {
     "name": "#%%\n"
    }
   }
  },
  {
   "cell_type": "markdown",
   "metadata": {
    "id": "mKhbk6966raO"
   },
   "source": [
    "# Data Analysis & Results (EDA)"
   ]
  },
  {
   "cell_type": "markdown",
   "metadata": {
    "id": "oIL0JJjY6raP"
   },
   "source": [
    "Carry out EDA on your dataset(s); Describe in this section"
   ]
  },
  {
   "cell_type": "markdown",
   "metadata": {
    "id": "5DF1SF9OhTp7"
   },
   "source": [
    "EDA concepts:\n",
    "- structure - the format of our data file\n",
    "- granularity - how fine or coarse each row and column is\n",
    "- scope - how (in)complete our data are\n",
    "- temporality - how the data are situated in time\n",
    "- faithfulness - how well the data captures \"reality\""
   ]
  },
  {
   "cell_type": "markdown",
   "metadata": {
    "id": "aCFPd-8JiQMP"
   },
   "source": [
    "#Structure\n",
    "> What format are the data in?\n",
    "\n",
    "All of our data is in tabular formats, specifically CSVs.\n",
    "\n",
    "> Is each observation in a separate row?\n",
    "\n",
    "Each word (for `df_codes` and `df_vocab`), incident (for `df_shootings`), and bill (for `df_bills`) are represented in their own independent rows.\n",
    "\n",
    "> What variables (columns) do we have information about?\n",
    "\n",
    "The information we have includes:\n",
    "- `df_shootings`: personal identifiers,\tdate of incident,\tmanner of death,\twhether the victim was armed (and, if so, what they armed with),\ttheir age,\tgender,\tand race,\tthe city and\tstate it took place in, and the\tmonth and\tyear (extracted from date to help with indexing)\n",
    "- `df_codes` and `df_vocab`: words associated with police enforcement, specifically radio codes and 'important vocab each police officer should know', along with their definitions\n",
    "- `df_bills`: ID # of the bill, ID of the session, number of the bill proposed (series of letters, number), status of the bill (based on a 1-5 scale, where each number represents a stage in the process), current decision made on the bill, date the bill status was decided, bill title, desctiption of the bill, ID of the committee, date that last time there was action with the bill, desctiption of the actions taken, url for the bill, state link.\n",
    "\n",
    "\n",
    "> What `type` of information is in each column\n",
    "\n",
    "- all columns except for date of incident, month, and\tyear within `df_shootings` are strings\n",
    "- date of incident, month, and\tyear are datetime objects\n",
    "- all columns in `df_codes` and `df_vocab` are strings\n",
    "- measure,\tsubject,\tauthor,\tand status in df_bills are stored as strings\n",
    "- ***session year is stored as a ============\n",
    "\n",
    "> ***Do we have all of the variables we need?***\n",
    "\n",
    "> Are the data spread across multiple tables?\n",
    "\n",
    "Our data is spread across 4 different dataframes (`df_codes`, `df_vocab`, `df_shootings`, and `df_bills`).\n",
    "\n",
    "> ***How do we want to join the data?***\n",
    "We want ot join the data by date; however, whether it will be by day, month, or year is yet to be determined."
   ]
  },
  {
   "cell_type": "markdown",
   "metadata": {
    "id": "OthGMzG6mtSz"
   },
   "source": [
    "#Granularity\n",
    "\n",
    "> What does each record (row) represent?\n",
    "\n",
    "- df_shootings: Each row represents an individual instance in which someone died to a police related shooting. Additional variables in the row describe the specifics of the shooting (time, reason for shooting, date, etc.)\n",
    "-df_codes and df_vocab: Each row represents a common word/ code that is understood and used in the police force. The additional definition provides a description for that word or the situation for the code.\n",
    "-df_bills: Each row represents an individual bill that was proposed. Additional variables found in the column also describe specifics of the bill (dates, people that introduced it, purpose of the bill, current status, etc.)\n",
    "\n",
    "> Do all records uniformly represent the same level of granularity? Are some rows individual-level, while others are summaries of the group? How will this be handled?\n",
    "\n",
    "- In terms of df_shootings and df_codes, there is a same level of granularity. Each column focuses one thing and includes specific about it (whether it is a victim or a bill).\n",
    "- The df_codes and df_vocab dataset also both consists of one word/ code and the definition followed after it (Does not focus on an individual or a group).\n",
    "\n",
    "> Were the data summarized or aggregated?\n",
    "How were they grouped & summarized?\n",
    "What metrics were used for summarization (means and medians are common)?\n",
    "\n",
    "- It is hard to have outliers for a recorded shooting or a bill that is proposed so we plan on using mean to describe variables within our data.  \n",
    "\n",
    "> What aggregations/summarizations do we plan to do with these data?\n",
    "\n",
    "- One form of aggregation is taking the most important elements from each of the datasets that we have to make a larger more uniform dataset for efficient access and interpretation. \n",
    "-Additionally, aggregation can be a count dataset with bills and shootings."
   ]
  },
  {
   "cell_type": "markdown",
   "metadata": {
    "id": "CEx258YonQm7"
   },
   "source": [
    "#Scope\n",
    "\n",
    "This is where any descriptive stats and exploratory data viz's would go\n",
    "\n",
    "From lecture:\n",
    "- Descriptive Statistics - help to summarize typical values and ranges for variables of interest\n",
    "- Exploratory Visualizations - help us understand the distributions of individual variables and relationships between variables in our dataset\n",
    "\n",
    ">how frequently, for what variables, and why are data missing?"
   ]
  },
  {
   "cell_type": "code",
   "metadata": {
    "id": "WSzw1IkVwLc3"
   },
   "source": [
    "#First visualization is a scatter plot of ages of people that were killed each year.\n",
    "sns.scatterplot(data=df_shootings, x='date', y='age') "
   ],
   "execution_count": 23,
   "outputs": [
    {
     "data": {
      "text/plain": "<AxesSubplot:xlabel='date', ylabel='age'>"
     },
     "execution_count": 23,
     "metadata": {},
     "output_type": "execute_result"
    },
    {
     "data": {
      "text/plain": "<Figure size 432x288 with 1 Axes>",
      "image/png": "[encoded data removed]"
     },
     "metadata": {
      "needs_background": "light"
     },
     "output_type": "display_data"
    }
   ]
  },
  {
   "cell_type": "code",
   "metadata": {
    "id": "41yFW9lBwcWV"
   },
   "source": [
    "#second visualization \n",
    "sns.histplot(df_shootings['age'], bins=10, kde=True)"
   ],
   "execution_count": 24,
   "outputs": [
    {
     "data": {
      "text/plain": "<AxesSubplot:xlabel='age', ylabel='Count'>"
     },
     "execution_count": 24,
     "metadata": {},
     "output_type": "execute_result"
    },
    {
     "data": {
      "text/plain": "<Figure size 432x288 with 1 Axes>",
      "image/png": "[encoded data removed]"
     },
     "metadata": {
      "needs_background": "light"
     },
     "output_type": "display_data"
    }
   ]
  },
  {
   "cell_type": "code",
   "metadata": {
    "id": "qN_eTwFtxUM7"
   },
   "source": [
    "#visualization for shootings in California for every year (something happend with my original graph so aI am redoing ti)-Nick\n",
    "#making the plot much bigger to see\n",
    "plt.figure(figsize= (10,6))\n",
    "cpshooty= sns.countplot(x= df_shootings['year'], data= df_shootings, palette= 'pastel' ).set(title= 'Number of CA Shootings per Year')\n",
    "#increasing the y-axis\n",
    "plt.ylim(0, 250)\n",
    "cpshooty"
   ],
   "execution_count": 25,
   "outputs": [
    {
     "data": {
      "text/plain": "[Text(0.5, 1.0, 'Number of CA Shootings per Year')]"
     },
     "execution_count": 25,
     "metadata": {},
     "output_type": "execute_result"
    },
    {
     "data": {
      "text/plain": "<Figure size 720x432 with 1 Axes>",
      "image/png": "[encoded data removed]"
     },
     "metadata": {
      "needs_background": "light"
     },
     "output_type": "display_data"
    }
   ]
  },
  {
   "cell_type": "code",
   "metadata": {
    "id": "_hbNyUOJxbqr"
   },
   "source": [
    "#first, checking to see what data type df_shootings['month'] is\n",
    "monthdt= df_shootings['month'].unique()\n",
    "monthdt\n",
    "\n",
    "#adjusting the df shooting dataset for the months so I can change the number values to strings of the months\n",
    "def num2month(num):\n",
    "  #converting string to an actualstring\n",
    "  string= str(num)\n",
    "\n",
    "  #taking all of the numbered strings and replacing them with the names of the months.\n",
    "  if '1' in string:\n",
    "    output= 'January'\n",
    "  elif '2' in string:\n",
    "    output= 'February'\n",
    "  elif '3' in string:\n",
    "    output= 'March'\n",
    "  elif '4' in string:\n",
    "    output= 'April'\n",
    "  elif '5' in string:\n",
    "    output= 'May'\n",
    "  elif '6' in string:\n",
    "    output= 'June'\n",
    "  elif '7' in string:\n",
    "    output= 'July'\n",
    "  elif '8' in string:\n",
    "    output= 'August'\n",
    "  elif '9' in string:\n",
    "    output= 'September'\n",
    "  elif '10' in string:\n",
    "    output= 'October'\n",
    "  elif '11' in string:\n",
    "    output= 'November'\n",
    "  elif '12' in string:\n",
    "    output= 'December'\n",
    "\n",
    "  return output \n",
    "\n",
    "  #ok so it seems that I changed all the values from numbers to strings. Lets see if I can generate a line plot now\n",
    "plt.figure(figsize= (10,6))\n",
    "sns.lineplot(x= df_shootings['month'], y= sum(df_shootings['month']== 'January'), data= df_shootings, hue= df_shootings['year'] )\n",
    "\n",
    "#Line plot is still a WIP--> Additional Code written by Andres\n",
    "#Copying df_shootings and replacing datetime with integer date (Year,Month,Day)\n",
    "df_shootings_test = df_shootings.copy()\n",
    "\n",
    "df_shootings_test.dropna(subset=['date'], inplace = True)\n",
    "df_shootings_test = df_shootings_test.reset_index(drop=True) #Resetting index as loop uses it\n",
    "\n",
    "index=0 #Index counter\n",
    "\n",
    "for row in df_shootings_test['date']:\n",
    "    row = str(row).replace('-','',)\n",
    "    row = row[0:8:1]\n",
    "    df_shootings_test.at[index,'date'] = row\n",
    "#Rewrites the row under the 'Status' column so that the new string is there\n",
    "    index += 1"
   ],
   "execution_count": 26,
   "outputs": [
    {
     "data": {
      "text/plain": "<Figure size 720x432 with 1 Axes>",
      "image/png": "[encoded data removed]"
     },
     "metadata": {
      "needs_background": "light"
     },
     "output_type": "display_data"
    }
   ]
  },
  {
   "cell_type": "markdown",
   "metadata": {
    "id": "3Nc7slTJnzaw"
   },
   "source": [
    "#Temporality\n",
    "\n",
    "> What do reported times represent?\n",
    "What does each date and time in the dataset mean? Time event occurred? Time reported?\n",
    "(Note that timezones & Daylight Saving Time are always important to consider)\n",
    "\n",
    "- For the bills dataset, there is a date that corresponds to the status description of each bill. There is also a date for the last action made for each bill.\n",
    "- For the shootings dataset, the day month and year represent the date of incident for each police shooting reported.\n",
    "\n",
    "\n",
    ">How are the dates/times represented? What format are they in?\n",
    "YYYY-MM-DD? Year? Time? Date & Time?\n",
    "\n",
    "- For the bills dataset, the status desciption is dated using a YYYY-MM-DD format. The last action made on a bill is dated using a YYYY-MM-DD format. They have been converted from datetime to an integer format (8 digits per date).\n",
    "-For the shootings dataset, the date is in a YYYY-MM-DD format along with additional columns for individual months labeled 1-12, individual year labeled YYYY, and individual day labeled 1-31. The regular dates have been converted from datetime to an integer format (8 digits per date).\n",
    "\n",
    ">How are null timestamps represented?\n",
    "was a \"random\" date picked?\n",
    "\n",
    "\n",
    "- Null timestamps are represented with \"NaN\" \n",
    "\n",
    ">What aggregations/summarizations do we plan to do with these data?\n",
    "\n",
    "- We plan to pull all of the bills that can be categorized as law enforcement.\n",
    "-We plan to plot the amount of shootings per year against the amount of bills proposed in California to see if there is any relationship."
   ]
  },
  {
   "cell_type": "markdown",
   "metadata": {
    "id": "HiXbQE4Jn11a"
   },
   "source": [
    "#Faithfulness\n",
    "\n",
    ">Are the values reasonable / what we expect?\n",
    "Unreasonable values examples: dates in the future, locations that don't exist, negative counts, wild outliers\n",
    "\n",
    "- The values for bills are resonable as we have removed any older dated bills that we do not have shooting data for. Later dates that do not match with shootings will remain as the shootings dataset is \n",
    "\n",
    ">Are there inconsistencies across tables?\n",
    "Identifiers that don't match?\n",
    "Date of Births that differ between two tables?\n",
    "Any inconsistencies between values stored in more than one table?\n",
    "\n",
    "- Each row of each table is an individual case, so there is no possibility for an instance of inconsistencies between tables, since no data is ever repeated.\n",
    "\n",
    ">Are there data entered by hand? These often contain inconsistencies.\n",
    "\n",
    "- `df_codes` and `df_vocab` were transfered over from a webpage to an excel spreadsheet, then converted to CSVs by hand. Inconsistencies were dealt with by copying and pasting longer definitions and cross checking once the transfer had finished.\n",
    "\n",
    ">Any obvious signs of falsification?\n",
    "examples: repeated names, fake looking email addresses, repeated uncommon names or fields\n",
    "\n",
    "- There are no obvious signs of falsification."
   ]
  },
  {
   "cell_type": "code",
   "metadata": {
    "id": "SXdSYL_FpNGo"
   },
   "source": [
    ""
   ],
   "execution_count": 26,
   "outputs": []
  }
 ]
}