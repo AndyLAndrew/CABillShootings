{
 "cells": [
  {
   "cell_type": "markdown",
   "source": [
    "### Bill Cleanup + Other Data Wrangling\n",
    "- This notebook specifically pulls all data that needs to be trimmed and sorted (and deleted if need be)\n",
    "- It takes in 2009-2022 California Legislature Bills from leginfo.ca.gov as csv\n",
    "- It merges all bills into a single csv\n",
    "\n",
    "- As of right now, the term sorting method is limited due to low ram on my computer + I haven't optimized the web scraping portion yet\n",
    "    - In response, the bills are removed based on the title/descriptions taken from leginfo itself\n",
    "\n",
    "- The final result is a large csv of California Legislature Bills from a certain time period only related to Law Enforcement or any other search terms provided\n",
    "    - This might open doors for context analysis for other types of bills!"
   ],
   "metadata": {
    "collapsed": false,
    "pycharm": {
     "name": "#%% md\n"
    }
   }
  },
  {
   "cell_type": "code",
   "execution_count": 102,
   "metadata": {
    "collapsed": true
   },
   "outputs": [],
   "source": [
    "#Only pandas is used for this, everything else is extra just in case\n",
    "import pandas as pd, numpy as np, matplotlib.pyplot as plt, seaborn as sns\n",
    "\n",
    "from bs4 import BeautifulSoup # Beautiful Soup library used for web scraping\n",
    "import requests # this is needed to communicate with the html file\n"
   ]
  },
  {
   "cell_type": "code",
   "execution_count": 103,
   "outputs": [],
   "source": [
    "#Writing all of the dataframes into memory to be combined into one\n",
    "\n",
    "raw_2009_2010 = pd.read_csv(\"raw_bill_data/bills2009_2010.csv\")\n",
    "raw_2011_2012 = pd.read_csv(\"raw_bill_data/bills2011_2012.csv\")\n",
    "raw_2013_2014 = pd.read_csv(\"raw_bill_data/bills2013_2014.csv\")\n",
    "raw_2015_2016 = pd.read_csv(\"raw_bill_data/bills2015_2016.csv\")\n",
    "raw_2017_2018 = pd.read_csv(\"raw_bill_data/bills2017_2018.csv\")\n",
    "raw_2019_2020 = pd.read_csv(\"raw_bill_data/bills2019_2020.csv\")\n",
    "raw_2021_2022 = pd.read_csv(\"raw_bill_data/bills2021_2022.csv\")"
   ],
   "metadata": {
    "collapsed": false,
    "pycharm": {
     "name": "#%%\n"
    }
   }
  },
  {
   "cell_type": "code",
   "execution_count": 104,
   "outputs": [],
   "source": [
    "#Creating finished dataframe starting with first set of data\n",
    "Full_Raw_DataFrame = raw_2009_2010.copy()\n",
    "#Doing the rest of the data\n",
    "Full_Raw_DataFrame = Full_Raw_DataFrame.append(raw_2011_2012)\n",
    "Full_Raw_DataFrame = Full_Raw_DataFrame.append(raw_2013_2014)\n",
    "Full_Raw_DataFrame = Full_Raw_DataFrame.append(raw_2015_2016)\n",
    "Full_Raw_DataFrame = Full_Raw_DataFrame.append(raw_2017_2018)\n",
    "Full_Raw_DataFrame = Full_Raw_DataFrame.append(raw_2019_2020)\n",
    "Full_Raw_DataFrame = Full_Raw_DataFrame.append(raw_2021_2022)\n",
    "\n",
    "Full_Raw_DataFrame = Full_Raw_DataFrame.reset_index(drop=True)\n"
   ],
   "metadata": {
    "collapsed": false,
    "pycharm": {
     "name": "#%%\n"
    }
   }
  },
  {
   "cell_type": "code",
   "execution_count": 105,
   "outputs": [
    {
     "data": {
      "text/plain": "       bill_id  session_id bill_number  status status_desc status_date  \\\n0        59869          30         AB1       5      Vetoed    20091011   \n1        59870          30         AB2       5      Vetoed    20091011   \n2        59871          30         AB3       5      Vetoed    20091011   \n3        59872          30         AB4       1  Introduced    20081201   \n4        59873          30         AB5       4      Passed    20090629   \n...        ...         ...         ...     ...         ...         ...   \n33653  1385441        1791        SCA1       1  Introduced    20201207   \n33654  1385541        1791        SCA2       1  Introduced    20201207   \n33655  1385494        1791        SCA3       1  Introduced    20201207   \n33656  1455043        1791        SCA4       1  Introduced    20210217   \n33657  1500882        1791        SCA5       1  Introduced    20210415   \n\n                                                   title  \\\n0      Teachers: program of professional growth: conf...   \n1                       Individual health care coverage.   \n2      Workforce development: Renewable Energy Workforce   \n3                  Constitutional convention: delegates.   \n4             Civil discovery: Electronic Discovery Act.   \n...                                                  ...   \n33653                              Elections: referenda.   \n33654                           Public housing projects.   \n33655                                Elections: recalls.   \n33656                        Legislature: 2-year budget.   \n33657  University of California: regents: student mem...   \n\n                                             description  committee_id  \\\n0      An act to amend Section 44277 of the Education...             0   \n1      An act to add Sections 1389.9, 1389.10, 1389.1...             0   \n2      An act to amend Sections 14202, 14203, 14204, ...             0   \n3      An act relating to the Constitutional Convention.             0   \n4      An act to amend Sections 2016.020, 2031.010, 2...             0   \n...                                                  ...           ...   \n33653  A resolution to propose to the people of the S...          1796   \n33654  A resolution to propose to the people of the S...          1796   \n33655  A resolution to propose to the people of the S...          1796   \n33656  A resolution to propose to the people of the S...           476   \n33657  A resolution to propose to the people of the S...           477   \n\n                                            committee last_action_date  \\\n0                                                 NaN         20100114   \n1                                                 NaN         20100114   \n2                                                 NaN         20100114   \n3                                                 NaN         20100202   \n4                                                 NaN         20090629   \n...                                               ...              ...   \n33653  Senate Elections and Constitutional Amendments         20210407   \n33654  Senate Elections and Constitutional Amendments         20210429   \n33655  Senate Elections and Constitutional Amendments         20210407   \n33656                 Senate Budget and Fiscal Review         20210407   \n33657                                Senate Education         20210428   \n\n                                             last_action  \\\n0      Consideration of Governor's veto stricken from...   \n1      Consideration of Governor's veto stricken from...   \n2      Consideration of Governor's veto stricken from...   \n3      From committee: Filed with the Chief Clerk pur...   \n4      Chaptered by Secretary of State - Chapter 5, S...   \n...                                                  ...   \n33653                      Referred to Com. on E. & C.A.   \n33654  From committee: Be adopted and re-refer to Com...   \n33655                      Referred to Com. on E. & C.A.   \n33656       Referred to Coms. on B. & F.R. and E. & C.A.   \n33657             Referred to Coms. on ED. and E. & C.A.   \n\n                                          url  \\\n0       https://legiscan.com/CA/bill/AB1/2009   \n1       https://legiscan.com/CA/bill/AB2/2009   \n2       https://legiscan.com/CA/bill/AB3/2009   \n3       https://legiscan.com/CA/bill/AB4/2009   \n4       https://legiscan.com/CA/bill/AB5/2009   \n...                                       ...   \n33653  https://legiscan.com/CA/bill/SCA1/2021   \n33654  https://legiscan.com/CA/bill/SCA2/2021   \n33655  https://legiscan.com/CA/bill/SCA3/2021   \n33656  https://legiscan.com/CA/bill/SCA4/2021   \n33657  https://legiscan.com/CA/bill/SCA5/2021   \n\n                                              state_link  \n0      http://www.leginfo.ca.gov/cgi-bin/postquery?bi...  \n1      http://www.leginfo.ca.gov/cgi-bin/postquery?bi...  \n2      http://www.leginfo.ca.gov/cgi-bin/postquery?bi...  \n3      http://www.leginfo.ca.gov/cgi-bin/postquery?bi...  \n4      http://www.leginfo.ca.gov/cgi-bin/postquery?bi...  \n...                                                  ...  \n33653  http://leginfo.legislature.ca.gov/faces/billSt...  \n33654  http://leginfo.legislature.ca.gov/faces/billSt...  \n33655  http://leginfo.legislature.ca.gov/faces/billSt...  \n33656  http://leginfo.legislature.ca.gov/faces/billSt...  \n33657  http://leginfo.legislature.ca.gov/faces/billSt...  \n\n[33658 rows x 14 columns]",
      "text/html": "<div>\n<style scoped>\n    .dataframe tbody tr th:only-of-type {\n        vertical-align: middle;\n    }\n\n    .dataframe tbody tr th {\n        vertical-align: top;\n    }\n\n    .dataframe thead th {\n        text-align: right;\n    }\n</style>\n<table border=\"1\" class=\"dataframe\">\n  <thead>\n    <tr style=\"text-align: right;\">\n      <th></th>\n      <th>bill_id</th>\n      <th>session_id</th>\n      <th>bill_number</th>\n      <th>status</th>\n      <th>status_desc</th>\n      <th>status_date</th>\n      <th>title</th>\n      <th>description</th>\n      <th>committee_id</th>\n      <th>committee</th>\n      <th>last_action_date</th>\n      <th>last_action</th>\n      <th>url</th>\n      <th>state_link</th>\n    </tr>\n  </thead>\n  <tbody>\n    <tr>\n      <th>0</th>\n      <td>59869</td>\n      <td>30</td>\n      <td>AB1</td>\n      <td>5</td>\n      <td>Vetoed</td>\n      <td>20091011</td>\n      <td>Teachers: program of professional growth: conf...</td>\n      <td>An act to amend Section 44277 of the Education...</td>\n      <td>0</td>\n      <td>NaN</td>\n      <td>20100114</td>\n      <td>Consideration of Governor's veto stricken from...</td>\n      <td>https://legiscan.com/CA/bill/AB1/2009</td>\n      <td>http://www.leginfo.ca.gov/cgi-bin/postquery?bi...</td>\n    </tr>\n    <tr>\n      <th>1</th>\n      <td>59870</td>\n      <td>30</td>\n      <td>AB2</td>\n      <td>5</td>\n      <td>Vetoed</td>\n      <td>20091011</td>\n      <td>Individual health care coverage.</td>\n      <td>An act to add Sections 1389.9, 1389.10, 1389.1...</td>\n      <td>0</td>\n      <td>NaN</td>\n      <td>20100114</td>\n      <td>Consideration of Governor's veto stricken from...</td>\n      <td>https://legiscan.com/CA/bill/AB2/2009</td>\n      <td>http://www.leginfo.ca.gov/cgi-bin/postquery?bi...</td>\n    </tr>\n    <tr>\n      <th>2</th>\n      <td>59871</td>\n      <td>30</td>\n      <td>AB3</td>\n      <td>5</td>\n      <td>Vetoed</td>\n      <td>20091011</td>\n      <td>Workforce development: Renewable Energy Workforce</td>\n      <td>An act to amend Sections 14202, 14203, 14204, ...</td>\n      <td>0</td>\n      <td>NaN</td>\n      <td>20100114</td>\n      <td>Consideration of Governor's veto stricken from...</td>\n      <td>https://legiscan.com/CA/bill/AB3/2009</td>\n      <td>http://www.leginfo.ca.gov/cgi-bin/postquery?bi...</td>\n    </tr>\n    <tr>\n      <th>3</th>\n      <td>59872</td>\n      <td>30</td>\n      <td>AB4</td>\n      <td>1</td>\n      <td>Introduced</td>\n      <td>20081201</td>\n      <td>Constitutional convention: delegates.</td>\n      <td>An act relating to the Constitutional Convention.</td>\n      <td>0</td>\n      <td>NaN</td>\n      <td>20100202</td>\n      <td>From committee: Filed with the Chief Clerk pur...</td>\n      <td>https://legiscan.com/CA/bill/AB4/2009</td>\n      <td>http://www.leginfo.ca.gov/cgi-bin/postquery?bi...</td>\n    </tr>\n    <tr>\n      <th>4</th>\n      <td>59873</td>\n      <td>30</td>\n      <td>AB5</td>\n      <td>4</td>\n      <td>Passed</td>\n      <td>20090629</td>\n      <td>Civil discovery: Electronic Discovery Act.</td>\n      <td>An act to amend Sections 2016.020, 2031.010, 2...</td>\n      <td>0</td>\n      <td>NaN</td>\n      <td>20090629</td>\n      <td>Chaptered by Secretary of State - Chapter 5, S...</td>\n      <td>https://legiscan.com/CA/bill/AB5/2009</td>\n      <td>http://www.leginfo.ca.gov/cgi-bin/postquery?bi...</td>\n    </tr>\n    <tr>\n      <th>...</th>\n      <td>...</td>\n      <td>...</td>\n      <td>...</td>\n      <td>...</td>\n      <td>...</td>\n      <td>...</td>\n      <td>...</td>\n      <td>...</td>\n      <td>...</td>\n      <td>...</td>\n      <td>...</td>\n      <td>...</td>\n      <td>...</td>\n      <td>...</td>\n    </tr>\n    <tr>\n      <th>33653</th>\n      <td>1385441</td>\n      <td>1791</td>\n      <td>SCA1</td>\n      <td>1</td>\n      <td>Introduced</td>\n      <td>20201207</td>\n      <td>Elections: referenda.</td>\n      <td>A resolution to propose to the people of the S...</td>\n      <td>1796</td>\n      <td>Senate Elections and Constitutional Amendments</td>\n      <td>20210407</td>\n      <td>Referred to Com. on E. &amp; C.A.</td>\n      <td>https://legiscan.com/CA/bill/SCA1/2021</td>\n      <td>http://leginfo.legislature.ca.gov/faces/billSt...</td>\n    </tr>\n    <tr>\n      <th>33654</th>\n      <td>1385541</td>\n      <td>1791</td>\n      <td>SCA2</td>\n      <td>1</td>\n      <td>Introduced</td>\n      <td>20201207</td>\n      <td>Public housing projects.</td>\n      <td>A resolution to propose to the people of the S...</td>\n      <td>1796</td>\n      <td>Senate Elections and Constitutional Amendments</td>\n      <td>20210429</td>\n      <td>From committee: Be adopted and re-refer to Com...</td>\n      <td>https://legiscan.com/CA/bill/SCA2/2021</td>\n      <td>http://leginfo.legislature.ca.gov/faces/billSt...</td>\n    </tr>\n    <tr>\n      <th>33655</th>\n      <td>1385494</td>\n      <td>1791</td>\n      <td>SCA3</td>\n      <td>1</td>\n      <td>Introduced</td>\n      <td>20201207</td>\n      <td>Elections: recalls.</td>\n      <td>A resolution to propose to the people of the S...</td>\n      <td>1796</td>\n      <td>Senate Elections and Constitutional Amendments</td>\n      <td>20210407</td>\n      <td>Referred to Com. on E. &amp; C.A.</td>\n      <td>https://legiscan.com/CA/bill/SCA3/2021</td>\n      <td>http://leginfo.legislature.ca.gov/faces/billSt...</td>\n    </tr>\n    <tr>\n      <th>33656</th>\n      <td>1455043</td>\n      <td>1791</td>\n      <td>SCA4</td>\n      <td>1</td>\n      <td>Introduced</td>\n      <td>20210217</td>\n      <td>Legislature: 2-year budget.</td>\n      <td>A resolution to propose to the people of the S...</td>\n      <td>476</td>\n      <td>Senate Budget and Fiscal Review</td>\n      <td>20210407</td>\n      <td>Referred to Coms. on B. &amp; F.R. and E. &amp; C.A.</td>\n      <td>https://legiscan.com/CA/bill/SCA4/2021</td>\n      <td>http://leginfo.legislature.ca.gov/faces/billSt...</td>\n    </tr>\n    <tr>\n      <th>33657</th>\n      <td>1500882</td>\n      <td>1791</td>\n      <td>SCA5</td>\n      <td>1</td>\n      <td>Introduced</td>\n      <td>20210415</td>\n      <td>University of California: regents: student mem...</td>\n      <td>A resolution to propose to the people of the S...</td>\n      <td>477</td>\n      <td>Senate Education</td>\n      <td>20210428</td>\n      <td>Referred to Coms. on ED. and E. &amp; C.A.</td>\n      <td>https://legiscan.com/CA/bill/SCA5/2021</td>\n      <td>http://leginfo.legislature.ca.gov/faces/billSt...</td>\n    </tr>\n  </tbody>\n</table>\n<p>33658 rows × 14 columns</p>\n</div>"
     },
     "execution_count": 105,
     "metadata": {},
     "output_type": "execute_result"
    }
   ],
   "source": [
    "#Dropping nans due to only 2 of them existing\n",
    "Full_Raw_DataFrame.dropna(subset=['status_date'], inplace = True)\n",
    "Full_Raw_DataFrame.dropna(subset=['last_action_date'], inplace = True)\n",
    "Full_Raw_DataFrame = Full_Raw_DataFrame.reset_index(drop=True) #Resetting index as loop uses it\n",
    "\n",
    "index=0 #Index counter\n",
    "\n",
    "for row in Full_Raw_DataFrame['status_date']:\n",
    "    row= row.replace('-','',)\n",
    "    Full_Raw_DataFrame.at[index,'status_date'] = row\n",
    "#Rewrites the row under the 'Status' column so that the new string is there\n",
    "    index += 1\n",
    "index=0\n",
    "for row in Full_Raw_DataFrame['last_action_date']:\n",
    "    row= row.replace('-','',)\n",
    "    Full_Raw_DataFrame.at[index,'last_action_date'] = row\n",
    "#Rewrites the row under the 'Status' column so that the new string is there\n",
    "    index += 1\n",
    "Full_Raw_DataFrame"
   ],
   "metadata": {
    "collapsed": false,
    "pycharm": {
     "name": "#%%\n"
    }
   }
  },
  {
   "cell_type": "code",
   "execution_count": 106,
   "outputs": [],
   "source": [
    "Full_Raw_DataFrame = Full_Raw_DataFrame.reset_index(drop=True) #Resetting index\n",
    "\n",
    "Full_Raw_DataFrame.to_csv(\"bills.csv\")"
   ],
   "metadata": {
    "collapsed": false,
    "pycharm": {
     "name": "#%%\n"
    }
   }
  },
  {
   "cell_type": "code",
   "execution_count": 107,
   "outputs": [],
   "source": [
    "#Keyforstatusdesc = {Vetoed:00, Introduced:01, Passed:10, Engrossed:11, Enrolled:4, Failed:5, Failed:6}\n",
    "#df_codes = pd.read_csv('https://raw.githubusercontent.com/lupedeanda/test_repo/main/codes.csv')\n",
    "#Took unique words from each code\n",
    "final_list_of_words = ['confidential', 'squad', 'vicinity', 'identity', 'dispatching',\n",
    "                     'misdemeanor', 'warrant', 'negative', 'fight', 'officer', 'duty',\n",
    "                     'reckless', 'operation', 'pursuit', 'emergency', 'units', 'service',\n",
    "                     'ambush', 'condition', 'patient', 'case', 'intoxicated', 'urgent',\n",
    "                     'subject', 'traffic', 'complaint', 'standby', 'welfare', 'drugs',\n",
    "                     'influence', 'gun', 'caution', 'auto', 'accident', 'reporting']\n",
    "\n",
    "df_vocab = pd.read_csv('https://raw.githubusercontent.com/lupedeanda/test_repo/main/vocab.csv')\n",
    "for word in df_vocab['Word']:\n",
    "    final_list_of_words.append(word)"
   ],
   "metadata": {
    "collapsed": false,
    "pycharm": {
     "name": "#%%\n"
    }
   }
  },
  {
   "cell_type": "code",
   "execution_count": 108,
   "outputs": [],
   "source": [
    "final_list_of_words = set(final_list_of_words)\n",
    "#Converting to iterable elements"
   ],
   "metadata": {
    "collapsed": false,
    "pycharm": {
     "name": "#%%\n"
    }
   }
  },
  {
   "cell_type": "code",
   "execution_count": 109,
   "outputs": [
    {
     "data": {
      "text/plain": "       bill_id  session_id bill_number  status status_desc status_date  \\\n0        59869          30         AB1       5      Vetoed    20091011   \n1        59870          30         AB2       5      Vetoed    20091011   \n2        59871          30         AB3       5      Vetoed    20091011   \n3        59872          30         AB4       1  Introduced    20081201   \n4        59873          30         AB5       4      Passed    20090629   \n...        ...         ...         ...     ...         ...         ...   \n33653  1385441        1791        SCA1       1  Introduced    20201207   \n33654  1385541        1791        SCA2       1  Introduced    20201207   \n33655  1385494        1791        SCA3       1  Introduced    20201207   \n33656  1455043        1791        SCA4       1  Introduced    20210217   \n33657  1500882        1791        SCA5       1  Introduced    20210415   \n\n                                                   title  \\\n0      Teachers: program of professional growth: conf...   \n1                       Individual health care coverage.   \n2      Workforce development: Renewable Energy Workforce   \n3                  Constitutional convention: delegates.   \n4             Civil discovery: Electronic Discovery Act.   \n...                                                  ...   \n33653                              Elections: referenda.   \n33654                           Public housing projects.   \n33655                                Elections: recalls.   \n33656                        Legislature: 2-year budget.   \n33657  University of California: regents: student mem...   \n\n                                             description  committee_id  \\\n0      An act to amend Section 44277 of the Education...             0   \n1      An act to add Sections 1389.9, 1389.10, 1389.1...             0   \n2      An act to amend Sections 14202, 14203, 14204, ...             0   \n3      An act relating to the Constitutional Convention.             0   \n4      An act to amend Sections 2016.020, 2031.010, 2...             0   \n...                                                  ...           ...   \n33653  A resolution to propose to the people of the S...          1796   \n33654  A resolution to propose to the people of the S...          1796   \n33655  A resolution to propose to the people of the S...          1796   \n33656  A resolution to propose to the people of the S...           476   \n33657  A resolution to propose to the people of the S...           477   \n\n                                            committee last_action_date  \\\n0                                                 NaN         20100114   \n1                                                 NaN         20100114   \n2                                                 NaN         20100114   \n3                                                 NaN         20100202   \n4                                                 NaN         20090629   \n...                                               ...              ...   \n33653  Senate Elections and Constitutional Amendments         20210407   \n33654  Senate Elections and Constitutional Amendments         20210429   \n33655  Senate Elections and Constitutional Amendments         20210407   \n33656                 Senate Budget and Fiscal Review         20210407   \n33657                                Senate Education         20210428   \n\n                                             last_action  \\\n0      Consideration of Governor's veto stricken from...   \n1      Consideration of Governor's veto stricken from...   \n2      Consideration of Governor's veto stricken from...   \n3      From committee: Filed with the Chief Clerk pur...   \n4      Chaptered by Secretary of State - Chapter 5, S...   \n...                                                  ...   \n33653                      Referred to Com. on E. & C.A.   \n33654  From committee: Be adopted and re-refer to Com...   \n33655                      Referred to Com. on E. & C.A.   \n33656       Referred to Coms. on B. & F.R. and E. & C.A.   \n33657             Referred to Coms. on ED. and E. & C.A.   \n\n                                          url  \\\n0       https://legiscan.com/CA/bill/AB1/2009   \n1       https://legiscan.com/CA/bill/AB2/2009   \n2       https://legiscan.com/CA/bill/AB3/2009   \n3       https://legiscan.com/CA/bill/AB4/2009   \n4       https://legiscan.com/CA/bill/AB5/2009   \n...                                       ...   \n33653  https://legiscan.com/CA/bill/SCA1/2021   \n33654  https://legiscan.com/CA/bill/SCA2/2021   \n33655  https://legiscan.com/CA/bill/SCA3/2021   \n33656  https://legiscan.com/CA/bill/SCA4/2021   \n33657  https://legiscan.com/CA/bill/SCA5/2021   \n\n                                              state_link  \n0      http://www.leginfo.ca.gov/cgi-bin/postquery?bi...  \n1      http://www.leginfo.ca.gov/cgi-bin/postquery?bi...  \n2      http://www.leginfo.ca.gov/cgi-bin/postquery?bi...  \n3      http://www.leginfo.ca.gov/cgi-bin/postquery?bi...  \n4      http://www.leginfo.ca.gov/cgi-bin/postquery?bi...  \n...                                                  ...  \n33653  http://leginfo.legislature.ca.gov/faces/billSt...  \n33654  http://leginfo.legislature.ca.gov/faces/billSt...  \n33655  http://leginfo.legislature.ca.gov/faces/billSt...  \n33656  http://leginfo.legislature.ca.gov/faces/billSt...  \n33657  http://leginfo.legislature.ca.gov/faces/billSt...  \n\n[33658 rows x 14 columns]",
      "text/html": "<div>\n<style scoped>\n    .dataframe tbody tr th:only-of-type {\n        vertical-align: middle;\n    }\n\n    .dataframe tbody tr th {\n        vertical-align: top;\n    }\n\n    .dataframe thead th {\n        text-align: right;\n    }\n</style>\n<table border=\"1\" class=\"dataframe\">\n  <thead>\n    <tr style=\"text-align: right;\">\n      <th></th>\n      <th>bill_id</th>\n      <th>session_id</th>\n      <th>bill_number</th>\n      <th>status</th>\n      <th>status_desc</th>\n      <th>status_date</th>\n      <th>title</th>\n      <th>description</th>\n      <th>committee_id</th>\n      <th>committee</th>\n      <th>last_action_date</th>\n      <th>last_action</th>\n      <th>url</th>\n      <th>state_link</th>\n    </tr>\n  </thead>\n  <tbody>\n    <tr>\n      <th>0</th>\n      <td>59869</td>\n      <td>30</td>\n      <td>AB1</td>\n      <td>5</td>\n      <td>Vetoed</td>\n      <td>20091011</td>\n      <td>Teachers: program of professional growth: conf...</td>\n      <td>An act to amend Section 44277 of the Education...</td>\n      <td>0</td>\n      <td>NaN</td>\n      <td>20100114</td>\n      <td>Consideration of Governor's veto stricken from...</td>\n      <td>https://legiscan.com/CA/bill/AB1/2009</td>\n      <td>http://www.leginfo.ca.gov/cgi-bin/postquery?bi...</td>\n    </tr>\n    <tr>\n      <th>1</th>\n      <td>59870</td>\n      <td>30</td>\n      <td>AB2</td>\n      <td>5</td>\n      <td>Vetoed</td>\n      <td>20091011</td>\n      <td>Individual health care coverage.</td>\n      <td>An act to add Sections 1389.9, 1389.10, 1389.1...</td>\n      <td>0</td>\n      <td>NaN</td>\n      <td>20100114</td>\n      <td>Consideration of Governor's veto stricken from...</td>\n      <td>https://legiscan.com/CA/bill/AB2/2009</td>\n      <td>http://www.leginfo.ca.gov/cgi-bin/postquery?bi...</td>\n    </tr>\n    <tr>\n      <th>2</th>\n      <td>59871</td>\n      <td>30</td>\n      <td>AB3</td>\n      <td>5</td>\n      <td>Vetoed</td>\n      <td>20091011</td>\n      <td>Workforce development: Renewable Energy Workforce</td>\n      <td>An act to amend Sections 14202, 14203, 14204, ...</td>\n      <td>0</td>\n      <td>NaN</td>\n      <td>20100114</td>\n      <td>Consideration of Governor's veto stricken from...</td>\n      <td>https://legiscan.com/CA/bill/AB3/2009</td>\n      <td>http://www.leginfo.ca.gov/cgi-bin/postquery?bi...</td>\n    </tr>\n    <tr>\n      <th>3</th>\n      <td>59872</td>\n      <td>30</td>\n      <td>AB4</td>\n      <td>1</td>\n      <td>Introduced</td>\n      <td>20081201</td>\n      <td>Constitutional convention: delegates.</td>\n      <td>An act relating to the Constitutional Convention.</td>\n      <td>0</td>\n      <td>NaN</td>\n      <td>20100202</td>\n      <td>From committee: Filed with the Chief Clerk pur...</td>\n      <td>https://legiscan.com/CA/bill/AB4/2009</td>\n      <td>http://www.leginfo.ca.gov/cgi-bin/postquery?bi...</td>\n    </tr>\n    <tr>\n      <th>4</th>\n      <td>59873</td>\n      <td>30</td>\n      <td>AB5</td>\n      <td>4</td>\n      <td>Passed</td>\n      <td>20090629</td>\n      <td>Civil discovery: Electronic Discovery Act.</td>\n      <td>An act to amend Sections 2016.020, 2031.010, 2...</td>\n      <td>0</td>\n      <td>NaN</td>\n      <td>20090629</td>\n      <td>Chaptered by Secretary of State - Chapter 5, S...</td>\n      <td>https://legiscan.com/CA/bill/AB5/2009</td>\n      <td>http://www.leginfo.ca.gov/cgi-bin/postquery?bi...</td>\n    </tr>\n    <tr>\n      <th>...</th>\n      <td>...</td>\n      <td>...</td>\n      <td>...</td>\n      <td>...</td>\n      <td>...</td>\n      <td>...</td>\n      <td>...</td>\n      <td>...</td>\n      <td>...</td>\n      <td>...</td>\n      <td>...</td>\n      <td>...</td>\n      <td>...</td>\n      <td>...</td>\n    </tr>\n    <tr>\n      <th>33653</th>\n      <td>1385441</td>\n      <td>1791</td>\n      <td>SCA1</td>\n      <td>1</td>\n      <td>Introduced</td>\n      <td>20201207</td>\n      <td>Elections: referenda.</td>\n      <td>A resolution to propose to the people of the S...</td>\n      <td>1796</td>\n      <td>Senate Elections and Constitutional Amendments</td>\n      <td>20210407</td>\n      <td>Referred to Com. on E. &amp; C.A.</td>\n      <td>https://legiscan.com/CA/bill/SCA1/2021</td>\n      <td>http://leginfo.legislature.ca.gov/faces/billSt...</td>\n    </tr>\n    <tr>\n      <th>33654</th>\n      <td>1385541</td>\n      <td>1791</td>\n      <td>SCA2</td>\n      <td>1</td>\n      <td>Introduced</td>\n      <td>20201207</td>\n      <td>Public housing projects.</td>\n      <td>A resolution to propose to the people of the S...</td>\n      <td>1796</td>\n      <td>Senate Elections and Constitutional Amendments</td>\n      <td>20210429</td>\n      <td>From committee: Be adopted and re-refer to Com...</td>\n      <td>https://legiscan.com/CA/bill/SCA2/2021</td>\n      <td>http://leginfo.legislature.ca.gov/faces/billSt...</td>\n    </tr>\n    <tr>\n      <th>33655</th>\n      <td>1385494</td>\n      <td>1791</td>\n      <td>SCA3</td>\n      <td>1</td>\n      <td>Introduced</td>\n      <td>20201207</td>\n      <td>Elections: recalls.</td>\n      <td>A resolution to propose to the people of the S...</td>\n      <td>1796</td>\n      <td>Senate Elections and Constitutional Amendments</td>\n      <td>20210407</td>\n      <td>Referred to Com. on E. &amp; C.A.</td>\n      <td>https://legiscan.com/CA/bill/SCA3/2021</td>\n      <td>http://leginfo.legislature.ca.gov/faces/billSt...</td>\n    </tr>\n    <tr>\n      <th>33656</th>\n      <td>1455043</td>\n      <td>1791</td>\n      <td>SCA4</td>\n      <td>1</td>\n      <td>Introduced</td>\n      <td>20210217</td>\n      <td>Legislature: 2-year budget.</td>\n      <td>A resolution to propose to the people of the S...</td>\n      <td>476</td>\n      <td>Senate Budget and Fiscal Review</td>\n      <td>20210407</td>\n      <td>Referred to Coms. on B. &amp; F.R. and E. &amp; C.A.</td>\n      <td>https://legiscan.com/CA/bill/SCA4/2021</td>\n      <td>http://leginfo.legislature.ca.gov/faces/billSt...</td>\n    </tr>\n    <tr>\n      <th>33657</th>\n      <td>1500882</td>\n      <td>1791</td>\n      <td>SCA5</td>\n      <td>1</td>\n      <td>Introduced</td>\n      <td>20210415</td>\n      <td>University of California: regents: student mem...</td>\n      <td>A resolution to propose to the people of the S...</td>\n      <td>477</td>\n      <td>Senate Education</td>\n      <td>20210428</td>\n      <td>Referred to Coms. on ED. and E. &amp; C.A.</td>\n      <td>https://legiscan.com/CA/bill/SCA5/2021</td>\n      <td>http://leginfo.legislature.ca.gov/faces/billSt...</td>\n    </tr>\n  </tbody>\n</table>\n<p>33658 rows × 14 columns</p>\n</div>"
     },
     "execution_count": 109,
     "metadata": {},
     "output_type": "execute_result"
    }
   ],
   "source": [
    "Full_Raw_DataFrame\n",
    "#checking the dataframe (Original Raw Bill Data)"
   ],
   "metadata": {
    "collapsed": false,
    "pycharm": {
     "name": "#%%\n"
    }
   }
  },
  {
   "cell_type": "code",
   "execution_count": 110,
   "outputs": [],
   "source": [
    "Full_Raw_DataFrame_test = Full_Raw_DataFrame.copy()\n",
    "#Making a copu of the original Dataframe to perform a string check test\n",
    "index=0 #Using index to iterate through rows\n",
    "keepcheck = False #Used to keep or remove the row\n",
    "for row in Full_Raw_DataFrame_test['title']: #For each cell under title column\n",
    "    row = str(row).lower() #lowercase the strings in the row\n",
    "    rowcheck = row.split() #Split the string into muliple strings of words\n",
    "    for string in rowcheck: #For each string in the row (which is a list of strings)\n",
    "        string = string.replace(':','',) #Replacing : , . to empty characters\n",
    "        string = string.replace('.','',) #Doing the same for .\n",
    "        string = string.replace(',','',) #Doing the same for ,\n",
    "        for term in final_list_of_words: #For each term within the referral list (law enforcement-related terms)\n",
    "            if term == string: #If there is a match between both strings\n",
    "                keepcheck=True #Then mark the document as KEEP\n",
    "\n",
    "    if keepcheck == False: #If the document does not receive a KEEP pass\n",
    "        row = '|' #Mark the row with | which will be removed as a whole\n",
    "        Full_Raw_DataFrame_test.at[index,'title'] = row #Writing | into the row for removal\n",
    "    keepcheck = False #Marking keepcheck as False again to prevent false positives\n",
    "\n",
    "    index += 1 #Counting up within the index"
   ],
   "metadata": {
    "collapsed": false,
    "pycharm": {
     "name": "#%%\n"
    }
   }
  },
  {
   "cell_type": "code",
   "execution_count": 112,
   "outputs": [],
   "source": [
    "Full_Raw_DataFrame_test = Full_Raw_DataFrame_test[~Full_Raw_DataFrame_test['title'].isin(['|'])] #Removing marked bills (non-relevant)\n",
    "Full_Raw_DataFrame_test = Full_Raw_DataFrame_test.reset_index(drop=True) #Resetting index\n",
    "\n",
    "#Full_Raw_DataFrame_test.to_csv(\"Bills_Dataframe_2009_2021.csv\") #Writing csv\n",
    "#Commenting-out this line to prevent overwriting"
   ],
   "metadata": {
    "collapsed": false,
    "pycharm": {
     "name": "#%%\n"
    }
   }
  },
  {
   "cell_type": "code",
   "execution_count": 113,
   "outputs": [
    {
     "data": {
      "text/plain": "      bill_id  session_id bill_number  status status_desc status_date  \\\n0       61630          30       ABX32       2   Engrossed    20090112   \n1       59922          30        AB54       1  Introduced    20081204   \n2       59931          30        AB63       4      Passed    20090806   \n3       61766          30       ABX76       1  Introduced    20091029   \n4       59959          30        AB91       4      Passed    20091011   \n...       ...         ...         ...     ...         ...         ...   \n1806  1459281        1791       SB792       1  Introduced    20210219   \n1807  1459293        1791       SB804       1  Introduced    20210219   \n1808  1388850        1791        SCR5       1  Introduced    20201222   \n1809  1422172        1791        SCR7       2   Engrossed    20210510   \n1810  1503083        1791       SCR39       1  Introduced    20210422   \n\n                                                  title  \\\n0     VLF state parks fee: fuel taxes: emergency ser...   \n1     State government: California Emergency Managem...   \n2                         Service contracts: retailers.   \n3                   Water diversion and use: reporting.   \n4     Vehicles: driving under the influence (DUI): i...   \n...                                                 ...   \n1806           Sales and use tax: retailers: reporting.   \n1807  California Conservation Corps: forestry traini...   \n1808         State of emergency: COVID-19: termination.   \n1809  CHP Officer Andre Maurice Moye, Jr. Memorial F...   \n1810              Officer Tommy Scott Memorial Highway.   \n\n                                            description  committee_id  \\\n0     An act to add Section 8587.3 to the Government...             0   \n1     An act relating to the California Emergency Ma...             0   \n2     An act to add Section 1794.45 to the Civil Cod...             0   \n3     An act to amend Sections 5100, 5101, 5103, and...             0   \n4     An act to amend Sections 13386 and 23576 of, a...             0   \n...                                                 ...           ...   \n1806  An act to add Section 7055.5 to the Revenue an...           475   \n1807  An act to amend Section 14424 of, and to add S...           475   \n1808  Relative to terminating the state of emergency...           479   \n1809  Relative to the CHP Officer Andre Maurice Moye...           471   \n1810  Relative to the Officer Tommy Scott Memorial H...          3948   \n\n                             committee last_action_date  \\\n0                                  NaN         20091026   \n1                                  NaN         20100202   \n2                                  NaN         20090806   \n3                                  NaN         20091104   \n4                                  NaN         20091011   \n...                                ...              ...   \n1806             Senate Appropriations         20210514   \n1807             Senate Appropriations         20210514   \n1808  Senate Governmental Organization         20210210   \n1809           Assembly Transportation         20210513   \n1810             Senate Transportation         20210505   \n\n                                            last_action  \\\n0                             Died Concurrence pending.   \n1     From committee: Filed with the Chief Clerk pur...   \n2     Chaptered by Secretary of State - Chapter 74, ...   \n3                From committee without further action.   \n4     Chaptered by Secretary of State - Chapter 217,...   \n...                                                 ...   \n1806                            Set for hearing May 20.   \n1807                            Set for hearing May 20.   \n1808                        Re-referred to Com. on G.O.   \n1809                         Referred to Com. on TRANS.   \n1810                      Re-referred to Com. on TRANS.   \n\n                                          url  \\\n0     https://legiscan.com/CA/bill/ABX32/2009   \n1      https://legiscan.com/CA/bill/AB54/2009   \n2      https://legiscan.com/CA/bill/AB63/2009   \n3     https://legiscan.com/CA/bill/ABX76/2009   \n4      https://legiscan.com/CA/bill/AB91/2009   \n...                                       ...   \n1806  https://legiscan.com/CA/bill/SB792/2021   \n1807  https://legiscan.com/CA/bill/SB804/2021   \n1808   https://legiscan.com/CA/bill/SCR5/2021   \n1809   https://legiscan.com/CA/bill/SCR7/2021   \n1810  https://legiscan.com/CA/bill/SCR39/2021   \n\n                                             state_link  \n0     http://www.leginfo.ca.gov/cgi-bin/postquery?bi...  \n1     http://www.leginfo.ca.gov/cgi-bin/postquery?bi...  \n2     http://www.leginfo.ca.gov/cgi-bin/postquery?bi...  \n3     http://www.leginfo.ca.gov/cgi-bin/postquery?bi...  \n4     http://www.leginfo.ca.gov/cgi-bin/postquery?bi...  \n...                                                 ...  \n1806  http://leginfo.legislature.ca.gov/faces/billSt...  \n1807  http://leginfo.legislature.ca.gov/faces/billSt...  \n1808  http://leginfo.legislature.ca.gov/faces/billSt...  \n1809  http://leginfo.legislature.ca.gov/faces/billSt...  \n1810  http://leginfo.legislature.ca.gov/faces/billSt...  \n\n[1811 rows x 14 columns]",
      "text/html": "<div>\n<style scoped>\n    .dataframe tbody tr th:only-of-type {\n        vertical-align: middle;\n    }\n\n    .dataframe tbody tr th {\n        vertical-align: top;\n    }\n\n    .dataframe thead th {\n        text-align: right;\n    }\n</style>\n<table border=\"1\" class=\"dataframe\">\n  <thead>\n    <tr style=\"text-align: right;\">\n      <th></th>\n      <th>bill_id</th>\n      <th>session_id</th>\n      <th>bill_number</th>\n      <th>status</th>\n      <th>status_desc</th>\n      <th>status_date</th>\n      <th>title</th>\n      <th>description</th>\n      <th>committee_id</th>\n      <th>committee</th>\n      <th>last_action_date</th>\n      <th>last_action</th>\n      <th>url</th>\n      <th>state_link</th>\n    </tr>\n  </thead>\n  <tbody>\n    <tr>\n      <th>0</th>\n      <td>61630</td>\n      <td>30</td>\n      <td>ABX32</td>\n      <td>2</td>\n      <td>Engrossed</td>\n      <td>20090112</td>\n      <td>VLF state parks fee: fuel taxes: emergency ser...</td>\n      <td>An act to add Section 8587.3 to the Government...</td>\n      <td>0</td>\n      <td>NaN</td>\n      <td>20091026</td>\n      <td>Died Concurrence pending.</td>\n      <td>https://legiscan.com/CA/bill/ABX32/2009</td>\n      <td>http://www.leginfo.ca.gov/cgi-bin/postquery?bi...</td>\n    </tr>\n    <tr>\n      <th>1</th>\n      <td>59922</td>\n      <td>30</td>\n      <td>AB54</td>\n      <td>1</td>\n      <td>Introduced</td>\n      <td>20081204</td>\n      <td>State government: California Emergency Managem...</td>\n      <td>An act relating to the California Emergency Ma...</td>\n      <td>0</td>\n      <td>NaN</td>\n      <td>20100202</td>\n      <td>From committee: Filed with the Chief Clerk pur...</td>\n      <td>https://legiscan.com/CA/bill/AB54/2009</td>\n      <td>http://www.leginfo.ca.gov/cgi-bin/postquery?bi...</td>\n    </tr>\n    <tr>\n      <th>2</th>\n      <td>59931</td>\n      <td>30</td>\n      <td>AB63</td>\n      <td>4</td>\n      <td>Passed</td>\n      <td>20090806</td>\n      <td>Service contracts: retailers.</td>\n      <td>An act to add Section 1794.45 to the Civil Cod...</td>\n      <td>0</td>\n      <td>NaN</td>\n      <td>20090806</td>\n      <td>Chaptered by Secretary of State - Chapter 74, ...</td>\n      <td>https://legiscan.com/CA/bill/AB63/2009</td>\n      <td>http://www.leginfo.ca.gov/cgi-bin/postquery?bi...</td>\n    </tr>\n    <tr>\n      <th>3</th>\n      <td>61766</td>\n      <td>30</td>\n      <td>ABX76</td>\n      <td>1</td>\n      <td>Introduced</td>\n      <td>20091029</td>\n      <td>Water diversion and use: reporting.</td>\n      <td>An act to amend Sections 5100, 5101, 5103, and...</td>\n      <td>0</td>\n      <td>NaN</td>\n      <td>20091104</td>\n      <td>From committee without further action.</td>\n      <td>https://legiscan.com/CA/bill/ABX76/2009</td>\n      <td>http://www.leginfo.ca.gov/cgi-bin/postquery?bi...</td>\n    </tr>\n    <tr>\n      <th>4</th>\n      <td>59959</td>\n      <td>30</td>\n      <td>AB91</td>\n      <td>4</td>\n      <td>Passed</td>\n      <td>20091011</td>\n      <td>Vehicles: driving under the influence (DUI): i...</td>\n      <td>An act to amend Sections 13386 and 23576 of, a...</td>\n      <td>0</td>\n      <td>NaN</td>\n      <td>20091011</td>\n      <td>Chaptered by Secretary of State - Chapter 217,...</td>\n      <td>https://legiscan.com/CA/bill/AB91/2009</td>\n      <td>http://www.leginfo.ca.gov/cgi-bin/postquery?bi...</td>\n    </tr>\n    <tr>\n      <th>...</th>\n      <td>...</td>\n      <td>...</td>\n      <td>...</td>\n      <td>...</td>\n      <td>...</td>\n      <td>...</td>\n      <td>...</td>\n      <td>...</td>\n      <td>...</td>\n      <td>...</td>\n      <td>...</td>\n      <td>...</td>\n      <td>...</td>\n      <td>...</td>\n    </tr>\n    <tr>\n      <th>1806</th>\n      <td>1459281</td>\n      <td>1791</td>\n      <td>SB792</td>\n      <td>1</td>\n      <td>Introduced</td>\n      <td>20210219</td>\n      <td>Sales and use tax: retailers: reporting.</td>\n      <td>An act to add Section 7055.5 to the Revenue an...</td>\n      <td>475</td>\n      <td>Senate Appropriations</td>\n      <td>20210514</td>\n      <td>Set for hearing May 20.</td>\n      <td>https://legiscan.com/CA/bill/SB792/2021</td>\n      <td>http://leginfo.legislature.ca.gov/faces/billSt...</td>\n    </tr>\n    <tr>\n      <th>1807</th>\n      <td>1459293</td>\n      <td>1791</td>\n      <td>SB804</td>\n      <td>1</td>\n      <td>Introduced</td>\n      <td>20210219</td>\n      <td>California Conservation Corps: forestry traini...</td>\n      <td>An act to amend Section 14424 of, and to add S...</td>\n      <td>475</td>\n      <td>Senate Appropriations</td>\n      <td>20210514</td>\n      <td>Set for hearing May 20.</td>\n      <td>https://legiscan.com/CA/bill/SB804/2021</td>\n      <td>http://leginfo.legislature.ca.gov/faces/billSt...</td>\n    </tr>\n    <tr>\n      <th>1808</th>\n      <td>1388850</td>\n      <td>1791</td>\n      <td>SCR5</td>\n      <td>1</td>\n      <td>Introduced</td>\n      <td>20201222</td>\n      <td>State of emergency: COVID-19: termination.</td>\n      <td>Relative to terminating the state of emergency...</td>\n      <td>479</td>\n      <td>Senate Governmental Organization</td>\n      <td>20210210</td>\n      <td>Re-referred to Com. on G.O.</td>\n      <td>https://legiscan.com/CA/bill/SCR5/2021</td>\n      <td>http://leginfo.legislature.ca.gov/faces/billSt...</td>\n    </tr>\n    <tr>\n      <th>1809</th>\n      <td>1422172</td>\n      <td>1791</td>\n      <td>SCR7</td>\n      <td>2</td>\n      <td>Engrossed</td>\n      <td>20210510</td>\n      <td>CHP Officer Andre Maurice Moye, Jr. Memorial F...</td>\n      <td>Relative to the CHP Officer Andre Maurice Moye...</td>\n      <td>471</td>\n      <td>Assembly Transportation</td>\n      <td>20210513</td>\n      <td>Referred to Com. on TRANS.</td>\n      <td>https://legiscan.com/CA/bill/SCR7/2021</td>\n      <td>http://leginfo.legislature.ca.gov/faces/billSt...</td>\n    </tr>\n    <tr>\n      <th>1810</th>\n      <td>1503083</td>\n      <td>1791</td>\n      <td>SCR39</td>\n      <td>1</td>\n      <td>Introduced</td>\n      <td>20210422</td>\n      <td>Officer Tommy Scott Memorial Highway.</td>\n      <td>Relative to the Officer Tommy Scott Memorial H...</td>\n      <td>3948</td>\n      <td>Senate Transportation</td>\n      <td>20210505</td>\n      <td>Re-referred to Com. on TRANS.</td>\n      <td>https://legiscan.com/CA/bill/SCR39/2021</td>\n      <td>http://leginfo.legislature.ca.gov/faces/billSt...</td>\n    </tr>\n  </tbody>\n</table>\n<p>1811 rows × 14 columns</p>\n</div>"
     },
     "execution_count": 113,
     "metadata": {},
     "output_type": "execute_result"
    }
   ],
   "source": [
    "Full_Raw_DataFrame_test"
   ],
   "metadata": {
    "collapsed": false,
    "pycharm": {
     "name": "#%%\n"
    }
   }
  },
  {
   "cell_type": "code",
   "execution_count": 96,
   "outputs": [],
   "source": [
    "#Full_Raw_DataFrame_test #checking dataframe\n",
    "#Method is successful, now will create function to run content analysis of each bill and append a new column\n",
    "#Column will have single word phrase which will then be matched to the string check loop above\n",
    "\n",
    "#Creating a copy once again to attempt a webscrape content analysis of each bill within this dataframe\n",
    "Full_Raw_DataFrame_test = Full_Raw_DataFrame.copy()"
   ],
   "metadata": {
    "collapsed": false,
    "pycharm": {
     "name": "#%%\n"
    }
   }
  },
  {
   "cell_type": "markdown",
   "source": [
    "### The Hard Part (Webscraping)\n",
    "- This is the part I've been putting off for far too long, and now I have to approach it\n",
    "- I will hopefully webscrape the bills individually using the list of bills I currently have (the content of each bill)\n",
    "- Bill content will be temporarily stored as a string and have stopwords removed along with non-regular characters\n",
    "- String will be incorporated into a table (all strings will end up here)\n",
    "- TF-IDF will be applied to each bill within the table in order to create an accurate determination of the context of each bill\n",
    "- New column of frequent/weighted terms will be created using this analysis. Appended to master dataframe\n",
    "- Column can now be used to apply loop above in order to effectively \"weed out\" bills that do not apply to law enforcement\n",
    "- Bills Dataset is successfully cleaned!"
   ],
   "metadata": {
    "collapsed": false,
    "pycharm": {
     "name": "#%% md\n"
    }
   }
  },
  {
   "cell_type": "code",
   "execution_count": 61,
   "outputs": [],
   "source": [
    "#I finally had a breakthrough!!! I can search up bills directly using the bill number within the CA legislature bill site\n",
    "#This is much better than using the urls given by the legiscan website and better than scouring the search parameters\n",
    "#as a whole for a dataframe!\n"
   ],
   "metadata": {
    "collapsed": false,
    "pycharm": {
     "name": "#%%\n"
    }
   }
  },
  {
   "cell_type": "code",
   "execution_count": 85,
   "outputs": [],
   "source": [
    "#Post parameters are inputted in as a dictionary, but they look a bit different when viewing through web inspector\n",
    "url = ('https://leginfo.legislature.ca.gov/faces/billNavClient.xhtml?bill_id=' + '20192020' + '0' + 'SCA3')\n",
    "#Format Looks to be: bill_id = 'Years Of Session (20212022)' + 0 + 'Bill Number'\n",
    "#url = ('https://leginfo.legislature.ca.gov/faces/billNavClient.xhtml?bill_id=' + '20212022' + '0' + 'AB4')\n",
    "response = requests.post(url) #Redoing the requests (receving and saving information after sending request) this time with the post parameters included\n",
    "soup = BeautifulSoup(response.content, 'html.parser') #Creating the new \"soup\", html parsed using Beautiful Soup"
   ],
   "metadata": {
    "collapsed": false,
    "pycharm": {
     "name": "#%%\n"
    }
   }
  },
  {
   "cell_type": "code",
   "execution_count": 86,
   "outputs": [
    {
     "data": {
      "text/plain": "[<div align=\"justify\" id=\"bill_all\"><div id=\"about\"><br clear=\"all\"/><div align=\"center\"><table align=\"center\" cellspacing=\"0\" style=\"border-collapse: collapse\"><tbody><tr><td align=\"center\"></td></tr></tbody></table></div><br clear=\"all\"/><div align=\"center\"><font size=\"3\" style=\"FONT-FAMILY: MinionPC, Arial Unicode MS\">\n                     CALIFORNIA LEGISLATURE—\n                     2019–2020 REGULAR SESSION</font></div><br clear=\"all\"/><span id=\"bill_house_num\"><div style=\"float: left; width:50%; font-weight: bold; \"><span style=\"text-transform: uppercase; text-align:left;width:50%;\"><b>\n                 Senate Constitutional Amendment\n               </b></span></div><div style=\"float:right; width:50%; text-align:right;\"><span style=\"text-transform: uppercase;\"><b>No. 3</b></span></div></span><hr/><br clear=\"all\"/><div align=\"center\"><table align=\"center\" cellspacing=\"0\" style=\"border-collapse: collapse\"><tbody><tr><td align=\"center\" id=\"bill_authors\"><span style=\"font-weight:bold;\">Introduced by Senator Hill<br/>(Principal coauthor: Assembly Member Bonta)<br/>(Coauthors: Assembly Members Friedman, Gipson, and Quirk)<br/></span></td></tr><tr><td align=\"center\" class=\"textcenter\" id=\"bill_intro_date\"><br/>December 04, 2018</td></tr></tbody></table></div><hr/><br clear=\"all\"/><div id=\"title\"><span style=\"font-weight:normal;font-size:0.9em;\"> A resolution to propose to the people of the State of California an amendment to the Constitution of the State, by amending Section 2 of Article XIII A thereof, relating to taxation. </span></div><br clear=\"all\"/><br clear=\"all\"/><div align=\"center\"><h2>LEGISLATIVE COUNSEL'S DIGEST</h2></div><br/><div style=\"margin:0 0 1em 0\"><span id=\"subject\">SCA 3, as introduced, Hill.\n                           Property taxation: change in ownership: inheritance exclusion.</span></div><div><span id=\"digesttext\"><div style=\"margin:0 0 1em 0;\">The California Constitution generally limits ad valorem taxes on real property to 1% of the full cash value of that property. For purposes of this limitation, “full cash value” is defined as the assessor’s valuation of real property as shown on the 1975–76 tax bill under “full cash value” or, thereafter, the appraised value of that real property when purchased, newly constructed, or a change in ownership has occurred. The California Constitution specifies various transfers that are not deemed to be a “purchase” or “change in ownership” of a property for these purposes, including the purchase or transfer of a principal residence from parents to their children, or, under certain circumstances, from grandparents to their grandchildren, and the purchase or transfer of the first $1,000,000 of the full cash value of all other real property transferred from parents or grandparents to their\n \t\tchildren or grandchildren. </div><div style=\"margin:0 0 1em 0;\">This measure would limit the above-decribed $1,000,000 exclusion for purchases or transfers of real property other than a principal residence to purchases or transfers of nonresidential real property. The measure, except as provided, would provide that the transfer of the principal residence of a parent or grandparent is excluded from “purchase” or “change in ownership” under these provisions only if the transferee uses the residence as his or her principal residence within 12 months after the transfer. If the transferee subsequently ceases to use the residence as his or her principal residence, the measure would require that the residence be assessed at its full cash value as of the date of the transfer from the parent or grandparent to the transferee. The measure would provide that these changes apply to a purchase or transfer of real property on or after the effective date of the measure. The measure would also\n \t\tmake various nonsubstantive changes.</div></span></div><span class=\"hidden\"><h2>Digest Key</h2></span><span id=\"vote\">\n       Vote:\n       <span style=\" text-transform: lowercase\">2/3</span>  </span><span id=\"appropriation\">\n       Appropriation:\n       <span style=\" text-transform: lowercase\">NO</span>  </span><span id=\"fiscalcommittee\">\n       Fiscal Committee:\n       <span style=\" text-transform: lowercase\">YES</span>  </span><span id=\"localprogram\">\n       Local Program:\n       <span style=\" text-transform: lowercase\">NO</span>  </span></div><hr/><span class=\"hidden\"><h2>Bill Text</h2></span><span class=\"Resolution\" title=\"source: /caml:MeasureDoc/caml:Resolution\n     \"><span class=\"Resolved\" id=\"id_53D5A68A-5406-4924-95F6-C14DAF19BB45\"><div style=\"margin:0 0 1em 0;\">Resolved by the Senate, the Assembly concurring, That the Legislature of the State of California at its 2019–20 Regular Session commencing on the third day of December 2018, two-thirds of the membership of each house concurring, hereby proposes to the people of the State of California, that the Constitution of the State be amended as follows:</div><div id=\"s20.5338402362249484\"><div class=\"ActionLine\" style=\"margin:0 0 1em 0\"><h3 style=\"font-weight:bold; display:inline;\"></h3> That Section 2 of Article XIII A thereof is amended to read:</div><div><div id=\"id_9A96DB2E-ECC7-4BE7-95ED-C6475964C7CE\"><div><p><div style=\"margin:0 0 1em 0;\"><h6 style=\"display:inline;\">SEC. 2.</h6> (a) <font class=\"blue_text\" color=\"blue\"><i>(1) </i></font>The “full cash value” means the county assessor’s valuation of real property as shown on the 1975–76 tax bill under “full cash value” or, thereafter, the appraised value of real property when purchased, newly constructed, or a change in ownership has occurred after the 1975 assessment. All real property not already assessed up to the 1975–76 full cash value may be reassessed to reflect that valuation. For purposes of this section, “newly constructed” does not include real property that is reconstructed after a disaster, as declared by the Governor, where the fair market value of the real property, as reconstructed, is comparable to its fair market value prior to the disaster. For purposes of\n \t\t\t\t\t this section, the term “newly constructed” does not include that portion of an existing structure that consists of the construction or reconstruction of seismic retrofitting components, as defined by the Legislature.</div><font color=\"RED\"><strike><p style=\"display:inline;\"><strike>However, the</strike></p><div style=\"margin:0 0 1em 0;\"></div></strike></font><div style=\"margin:0 0 1em 0;\"><font class=\"blue_text\" color=\"blue\"><i>(2) (A) The</i></font> Legislature may provide that, under appropriate circumstances and pursuant to definitions and procedures established by the Legislature, any person over the age of 55 years who resides in property that is eligible for the homeowner’s exemption under subdivision (k) of Section 3 of Article XIII and any implementing legislation may transfer\n \t\t\t\t\t the base year value of the property entitled to exemption, with the adjustments authorized by subdivision (b), to any replacement dwelling of equal or lesser value located within the same county and purchased or newly constructed by that person as his or her principal residence within two years of the sale of the original property.<font color=\"RED\"><strike> For</strike></font></div><div style=\"margin:0 0 1em 0;\"><font class=\"blue_text\" color=\"blue\"><i>(B) For</i></font> purposes of this section,<font color=\"RED\"><strike> “any</strike></font><font class=\"blue_text\" color=\"blue\"><i> the following shall apply:</i></font></div><div style=\"margin:0 0 1em 0;\"><font class=\"blue_text\" color=\"blue\"><i>(i) “Any</i></font> person over the age of 55 years” includes a married couple one member of which is over the age of 55 years.<font color=\"RED\"><strike> For  purposes of this section, “replacement</strike></font></div><div style=\"margin:0 0 1em 0;\"><font class=\"blue_text\" color=\"blue\"><i>(ii) “Replacement</i></font> dwelling” means a building, structure, or other shelter constituting a place of abode, whether real property or personal property, and any land on which it may be situated. For purposes of this section, a two-dwelling unit shall be considered as two separate single-family dwellings.<font color=\"RED\"><strike> This</strike></font></div><div style=\"margin:0 0 1em 0;\"><font class=\"blue_text\" color=\"blue\"><i>(C) This</i></font> paragraph shall apply to any replacement dwelling that was purchased or newly constructed on or after November 5, 1986.</div><font color=\"RED\"><strike><p style=\"display:inline;\"><strike>In addition, the</strike></p><div style=\"margin:0 0 1em 0;\"></div></strike></font><div style=\"margin:0 0 1em 0;\"><font class=\"blue_text\" color=\"blue\"><i>(3) The</i></font> Legislature may authorize each county board of supervisors, after consultation with the local affected agencies within the county’s boundaries, to adopt an ordinance making the provisions of this subdivision relating to transfer of base year value also applicable to situations in\n \t\t\t\t\t which the replacement dwellings are located in that county and the original properties are located in another county within this State. For purposes of this paragraph, “local affected agency” means any city, special district, school district, or community college district that receives an annual property tax revenue allocation. This paragraph applies to any replacement dwelling that was purchased or newly constructed on or after the date the county adopted the provisions of this subdivision relating to transfer of base year value, but does not apply to any replacement dwelling that was purchased or newly constructed before November 9, 1988.</div><font color=\"RED\"><strike><p style=\"display:inline;\"><strike>The</strike></p><div style=\"margin:0 0 1em 0;\"></div></strike></font><div style=\"margin:0 0 1em 0;\"><font class=\"blue_text\" color=\"blue\"><i>(4) The</i></font> Legislature may extend\n \t\t\t\t\t the provisions of this subdivision relating to the transfer of base year values from original properties to replacement dwellings of homeowners over the age of 55 years to severely disabled homeowners, but only with respect to those replacement dwellings purchased or newly constructed on or after the effective date of this paragraph.</div><div style=\"margin:0 0 1em 0;\">(b) The full cash value base may reflect from year to year the inflationary rate not to exceed 2 percent for any given year or reduction as shown in the consumer price index or comparable data for the area under taxing jurisdiction, or may be reduced to reflect substantial damage, destruction, or other factors causing a decline in value.</div><div style=\"margin:0 0 1em 0;\">(c) For purposes of subdivision (a), the Legislature may provide that the term “newly constructed” does not include any of the following:</div><div style=\"margin:0 0 1em 0;\">(1) The\n \t\t\t\t\t construction or addition of any active solar energy system.</div><div style=\"margin:0 0 1em 0;\">(2) The construction or installation of any fire sprinkler system, other fire extinguishing system, fire detection system, or fire-related egress improvement, as defined by the Legislature, that is constructed or installed after the effective date of this paragraph.</div><div style=\"margin:0 0 1em 0;\">(3) The construction, installation, or modification on or after the effective date of this paragraph of any portion or structural component of a single- or multiple-family dwelling that is eligible for the homeowner’s exemption if the construction, installation, or modification is for the purpose of making the dwelling more accessible to a severely disabled person.</div><div style=\"margin:0 0 1em 0;\">(4) The construction, installation, removal, or modification on or after the effective date of this paragraph of any portion or\n \t\t\t\t\t structural component of an existing building or structure if the construction, installation, removal, or modification is for the purpose of making the building more accessible to, or more usable by, a disabled person.</div><div style=\"margin:0 0 1em 0;\">(5) The construction or addition, completed on or after January 1, 2019, of a rain water capture system, as defined by the Legislature.</div><div style=\"margin:0 0 1em 0;\">(d) For purposes of this section, the term “change in ownership” does not include the acquisition of real property as a replacement for comparable property if the person acquiring the real property has been displaced from the property replaced by eminent domain proceedings, by acquisition by a public entity, or governmental action that has resulted in a judgment of inverse condemnation. The real property acquired shall be deemed comparable to the property replaced if it is similar in size, utility, and function, or if it conforms to\n \t\t\t\t\t state regulations defined by the Legislature governing the relocation of persons displaced by governmental actions. This subdivision applies to any property acquired after March 1, 1975, but affects only those assessments of that property that occur after the provisions of this subdivision take effect.</div><div style=\"margin:0 0 1em 0;\">(e) (1) Notwithstanding any other provision of this section, the Legislature shall provide that the base year value of property that is substantially damaged or destroyed by a disaster, as declared by the Governor, may be transferred to comparable property within the same county that is acquired or newly constructed as a replacement for the substantially damaged or destroyed property.</div><div style=\"margin:0 0 1em 0;\">(2) Except as provided in paragraph (3), this subdivision applies to any comparable replacement property acquired or newly constructed on or after July 1, 1985, and to the\n \t\t\t\t\t determination of base year values for the 1985–86 fiscal year and fiscal years thereafter.</div><div style=\"margin:0 0 1em 0;\">(3) In addition to the transfer of base year value of property within the same county that is permitted by paragraph (1), the Legislature may authorize each county board of supervisors to adopt, after consultation with affected local agencies within the county, an ordinance allowing the transfer of the base year value of property that is located within another county in the State and is substantially damaged or destroyed by a disaster, as declared by the Governor, to comparable replacement property of equal or lesser value that is located within the adopting county and is acquired or newly constructed within three years of the substantial damage or destruction of the original property as a replacement for that property. The scope and amount of the benefit provided to a property owner by the transfer of base year value of property pursuant to this\n \t\t\t\t\t paragraph shall not exceed the scope and amount of the benefit provided to a property owner by the transfer of base year value of property pursuant to subdivision (a). For purposes of this paragraph, “affected local agency” means any city, special district, school district, or community college district that receives an annual allocation of ad valorem property tax revenues. This paragraph applies to any comparable replacement property that is acquired or newly constructed as a replacement for property substantially damaged or destroyed by a disaster, as declared by the Governor, occurring on or after October 20, 1991, and to the determination of base year values for the 1991–92 fiscal year and fiscal years thereafter.</div><div style=\"margin:0 0 1em 0;\">(f) For the purposes of subdivision (e):</div><div style=\"margin:0 0 1em 0;\">(1) Property is substantially damaged or destroyed if it sustains physical damage amounting to more than 50 percent of its\n \t\t\t\t\t value immediately before the disaster. Damage includes a diminution in the value of property as a result of restricted access caused by the disaster.</div><div style=\"margin:0 0 1em 0;\">(2) Replacement property is comparable to the property substantially damaged or destroyed if it is similar in size, utility, and function to the property that it replaces, and if the fair market value of the acquired property is comparable to the fair market value of the replaced property prior to the disaster.</div><div style=\"margin:0 0 1em 0;\">(g) For purposes of subdivision (a), the terms “purchased” and “change in ownership” do not include the purchase or transfer of real property between spouses since March 1, 1975, including, but not limited to, all of the following:</div><div style=\"margin:0 0 1em 0;\">(1) Transfers to a trustee for the beneficial use of a spouse, or the surviving spouse of a deceased transferor, or by a trustee of\n \t\t\t\t\t such a trust to the spouse of the trustor.</div><div style=\"margin:0 0 1em 0;\">(2) Transfers to a spouse that take effect upon the death of a spouse.</div><div style=\"margin:0 0 1em 0;\">(3) Transfers to a spouse or former spouse in connection with a property settlement agreement or decree of dissolution of a marriage or legal separation.</div><div style=\"margin:0 0 1em 0;\">(4) The creation, transfer, or termination, solely between spouses, of any coowner’s interest.</div><div style=\"margin:0 0 1em 0;\">(5) The distribution of a legal entity’s property to a spouse or former spouse in exchange for the interest of the spouse in the legal entity in connection with a property settlement agreement or a decree of dissolution of a marriage or legal separation.</div><div style=\"margin:0 0 1em 0;\">(h) (1) For purposes of subdivision<font color=\"RED\"><strike> (a),</strike></font><font class=\"blue_text\" color=\"blue\"><i>\n \t\t\t\t\t (a) and subject to paragraph (3),</i></font> the terms “purchased” and “change in ownership” do not include the purchase or transfer of the principal residence of the transferor in the case of a purchase or transfer between parents and their children, as defined by the Legislature, and the purchase or transfer of the first one million dollars ($1,000,000) of the full cash value of all other<font class=\"blue_text\" color=\"blue\"><i> nonresidential</i></font> real property between parents and their children, as defined by the Legislature. This subdivision applies to both voluntary transfers and transfers resulting from a court order or judicial decree.</div><div style=\"margin:0 0 1em 0;\">(2) (A) Subject to<font class=\"blue_text\" color=\"blue\"><i>\n \t\t\t\t\t paragraph (3) and</i></font> subparagraph<font color=\"RED\"><strike> (B),</strike></font><font class=\"blue_text\" color=\"blue\"><i> (B) of this paragraph,</i></font> commencing with purchases or transfers that occur on or after the date upon which the measure adding this paragraph becomes effective, the exclusion established by paragraph (1) also applies to a purchase or transfer of real property between grandparents and their grandchild or grandchildren, as defined by the Legislature, that otherwise qualifies under paragraph (1), if all of the parents of that grandchild or those grandchildren, who qualify as the children of the grandparents, are deceased as of the date of the purchase or transfer.</div><div style=\"margin:0 0 1em 0;\">(B) A purchase or transfer of a principal residence shall not be excluded pursuant to subparagraph (A) if the transferee\n \t\t\t\t\t grandchild or grandchildren also received a principal residence, or interest therein, through another purchase or transfer that was excludable pursuant to paragraph (1). The full cash value of any real property, other than a principal residence, that was transferred to the grandchild or grandchildren pursuant to a purchase or transfer that was excludable pursuant to paragraph (1), and the full cash value of a principal residence that fails to qualify for exclusion as a result of the preceding sentence, shall be included in applying, for purposes of subparagraph (A), the one-million-dollar ($1,000,000) full cash value limit specified in paragraph (1).</div><font class=\"blue_text\" color=\"blue\"><i><div style=\"margin:0 0 1em 0;\">(3) (A) Except as otherwise provided in subparagraph (C), the transfer of a principal residence of a parent or grandparent shall be excluded pursuant to this subdivision only if the transferee\n \t\t\t\t\t uses the residence as his or her principal residence within 12 months after the transfer. For purposes of this paragraph, a residence shall be deemed to be used as the principal residence of the transferee if it receives the homeowner’s exemption provided under subdivision (k) of Section 3 of Article XIII.</div></i></font><font class=\"blue_text\" color=\"blue\"><i><div style=\"margin:0 0 1em 0;\"><font class=\"blue_text\" color=\"blue\"><i>(B) </i></font>If the transferee subsequently ceases to use the residence as his or her principal residence, the exclusion provided for in this subdivision shall no longer apply, and the residence shall be assessed at its full cash value as of the date of the transfer from the parent or grandparent to the transferee, as adjusted in accordance with subdivision (b).</div></i></font><font class=\"blue_text\" color=\"blue\"><i><div style=\"margin:0 0 1em 0;\">(C) Notwithstanding subparagraph (A), a transfer of a principal residence shall be excluded as provided in paragraph (1) or (2), as applicable, if the transferee dies prior to using the residence as his or her primary residence within the 12-month period specified in subparagraph (A). The transfer of the property to a child or grandchild of a deceased transferee, as described in this subparagraph, that otherwise qualifies for exclusion shall be excluded in the manner specified in paragraph (1) or (2), as applicable, subject to the requirements of this paragraph.</div></i></font><font class=\"blue_text\" color=\"blue\"><i><div style=\"margin:0 0 1em 0;\"><font class=\"blue_text\" color=\"blue\"><i>(4) </i></font>The changes made to this subdivision by the measure adding this paragraph shall apply to a purchase or transfer of real property on or after the\n \t\t\t\t\t effective date of this paragraph.</div></i></font><div style=\"margin:0 0 1em 0;\">(i) (1) Notwithstanding any other provision of this section, the Legislature shall provide with respect to a qualified contaminated property, as defined in paragraph (2), that either, but not both, of the following apply:</div><div style=\"margin:0 0 1em 0;\">(A) (i) Subject to the limitation of clause (ii), the base year value of the qualified contaminated property, as adjusted as authorized by subdivision (b), may be transferred to a replacement property that is acquired or newly constructed as a replacement for the qualified contaminated property, if the replacement real property has a fair market value that is equal to or less than the fair market value of the qualified contaminated property if that property were not contaminated and, except as otherwise provided by this clause, is located within the same county.\n \t\t\t\t\t The base year value of the qualified contaminated property may be transferred to a replacement real property located within another county if the board of supervisors of that other county has, after consultation with the affected local agencies within that county, adopted a resolution authorizing an intercounty transfer of base year value as so described.</div><div style=\"margin:0 0 1em 0;\">(ii) This subparagraph applies only to replacement property that is acquired or newly constructed within five years after ownership in the qualified contaminated property is sold or otherwise transferred.</div><div style=\"margin:0 0 1em 0;\">(B) In the case in which the remediation of the environmental problems on the qualified contaminated property requires the destruction of, or results in substantial damage to, a structure located on that property, the term “new construction” does not include the repair of a substantially damaged structure, or the construction of\n \t\t\t\t\t a structure replacing a destroyed structure on the qualified contaminated property, performed after the remediation of the environmental problems on that property, provided that the repaired or replacement structure is similar in size, utility, and function to the original structure.</div><div style=\"margin:0 0 1em 0;\">(2) For purposes of this subdivision, “qualified contaminated property” means residential or nonresidential real property that is all of the following:</div><div style=\"margin:0 0 1em 0;\">(A) In the case of residential real property, rendered uninhabitable, and in the case of nonresidential real property, rendered unusable, as the result of either environmental problems, in the nature of and including, but not limited to, the presence of toxic or hazardous materials, or the remediation of those environmental problems, except where the existence of the environmental problems was known to the owner, or to a related individual or entity as\n \t\t\t\t\t described in paragraph (3), at the time the real property was acquired or constructed. For purposes of this subparagraph, residential real property is “uninhabitable” if that property, as a result of health hazards caused by or associated with the environmental problems, is unfit for human habitation, and nonresidential real property is “unusable” if that property, as a result of health hazards caused by or associated with the environmental problems, is unhealthy and unsuitable for occupancy.</div><div style=\"margin:0 0 1em 0;\">(B) Located on a site that has been designated as a toxic or environmental hazard or as an environmental cleanup site by an agency of the State of California or the federal government.</div><div style=\"margin:0 0 1em 0;\">(C) Real property that contains a structure or structures thereon prior to the completion of environmental cleanup activities, and that structure or structures are substantially damaged or destroyed as a result\n \t\t\t\t\t of those environmental cleanup activities.</div><div style=\"margin:0 0 1em 0;\">(D) Stipulated by the lead governmental agency, with respect to the environmental problems or environmental cleanup of the real property, not to have been rendered uninhabitable or unusable, as applicable, as described in subparagraph (A), by any act or omission in which an owner of that real property participated or acquiesced.</div><div style=\"margin:0 0 1em 0;\">(3) It shall be rebuttably presumed that an owner of the real property participated or acquiesced in any act or omission that rendered the real property uninhabitable or unusable, as applicable, if that owner is related to any individual or entity that committed that act or omission in any of the following ways:</div><div style=\"margin:0 0 1em 0;\">(A) Is a spouse, parent, child, grandparent, grandchild, or sibling of that individual.</div><div style=\"margin:0 0 1em 0;\">(B) Is a corporate parent, subsidiary, or affiliate of that entity.</div><div style=\"margin:0 0 1em 0;\">(C) Is an owner of, or has control of, that entity.</div><div style=\"margin:0 0 1em 0;\">(D) Is owned or controlled by that entity.</div><div style=\"margin:0 0 1em 0;\">If this presumption is not overcome, the owner shall not receive the relief provided for in subparagraph (A) or (B) of paragraph (1). The presumption may be overcome by presentation of satisfactory evidence to the assessor, who shall not be bound by the findings of the lead governmental agency in determining whether the presumption has been overcome.</div><div style=\"margin:0 0 1em 0;\">(4) This subdivision applies only to replacement property that is acquired or constructed on or after January 1, 1995, and to property repairs performed on or after that date.</div><div style=\"margin:0 0 1em 0;\">(j) Unless\n \t\t\t\t\t specifically provided otherwise, amendments to this section adopted prior to November 1, 1988, are effective for changes in ownership that occur, and new construction that is completed, after the effective date of the amendment. Unless specifically provided otherwise, amendments to this section adopted after November 1, 1988, are effective for changes in ownership that occur, and new construction that is completed, on or after the effective date of the amendment.</div></p></div></div></div></div></span></span></div>]"
     },
     "execution_count": 86,
     "metadata": {},
     "output_type": "execute_result"
    }
   ],
   "source": [
    "soup.find_all(id=\"bill_all\")\n",
    "#IT WORKS YES!"
   ],
   "metadata": {
    "collapsed": false,
    "pycharm": {
     "name": "#%%\n"
    }
   }
  },
  {
   "cell_type": "markdown",
   "source": [
    "#### Now Applying This To All Bills as a test\n",
    "* Changes to read from url = Bill Year Session + 0 + Bill Number\n",
    "* Example: X = 20212022 + 0 + AB4\n",
    "    * Will look like *202120220AB4* in the string\n",
    "* Will need to quickly convert the single dates into two year timeframes"
   ],
   "metadata": {
    "collapsed": false,
    "pycharm": {
     "name": "#%% md\n"
    }
   }
  },
  {
   "cell_type": "code",
   "execution_count": 97,
   "outputs": [
    {
     "data": {
      "text/plain": "   bill_id  session_id bill_number  status status_desc status_date  \\\n0    59869          30         AB1       5      Vetoed    20091011   \n1    59870          30         AB2       5      Vetoed    20091011   \n2    59871          30         AB3       5      Vetoed    20091011   \n3    59872          30         AB4       1  Introduced    20081201   \n4    59873          30         AB5       4      Passed    20090629   \n\n                                               title  \\\n0  Teachers: program of professional growth: conf...   \n1                   Individual health care coverage.   \n2  Workforce development: Renewable Energy Workforce   \n3              Constitutional convention: delegates.   \n4         Civil discovery: Electronic Discovery Act.   \n\n                                         description  committee_id committee  \\\n0  An act to amend Section 44277 of the Education...             0       NaN   \n1  An act to add Sections 1389.9, 1389.10, 1389.1...             0       NaN   \n2  An act to amend Sections 14202, 14203, 14204, ...             0       NaN   \n3  An act relating to the Constitutional Convention.             0       NaN   \n4  An act to amend Sections 2016.020, 2031.010, 2...             0       NaN   \n\n  last_action_date                                        last_action  \\\n0         20100114  Consideration of Governor's veto stricken from...   \n1         20100114  Consideration of Governor's veto stricken from...   \n2         20100114  Consideration of Governor's veto stricken from...   \n3         20100202  From committee: Filed with the Chief Clerk pur...   \n4         20090629  Chaptered by Secretary of State - Chapter 5, S...   \n\n                                     url  \\\n0  https://legiscan.com/CA/bill/AB1/2009   \n1  https://legiscan.com/CA/bill/AB2/2009   \n2  https://legiscan.com/CA/bill/AB3/2009   \n3  https://legiscan.com/CA/bill/AB4/2009   \n4  https://legiscan.com/CA/bill/AB5/2009   \n\n                                          state_link session_years  \n0  http://www.leginfo.ca.gov/cgi-bin/postquery?bi...      20092010  \n1  http://www.leginfo.ca.gov/cgi-bin/postquery?bi...      20092010  \n2  http://www.leginfo.ca.gov/cgi-bin/postquery?bi...      20092010  \n3  http://www.leginfo.ca.gov/cgi-bin/postquery?bi...      20072008  \n4  http://www.leginfo.ca.gov/cgi-bin/postquery?bi...      20092010  ",
      "text/html": "<div>\n<style scoped>\n    .dataframe tbody tr th:only-of-type {\n        vertical-align: middle;\n    }\n\n    .dataframe tbody tr th {\n        vertical-align: top;\n    }\n\n    .dataframe thead th {\n        text-align: right;\n    }\n</style>\n<table border=\"1\" class=\"dataframe\">\n  <thead>\n    <tr style=\"text-align: right;\">\n      <th></th>\n      <th>bill_id</th>\n      <th>session_id</th>\n      <th>bill_number</th>\n      <th>status</th>\n      <th>status_desc</th>\n      <th>status_date</th>\n      <th>title</th>\n      <th>description</th>\n      <th>committee_id</th>\n      <th>committee</th>\n      <th>last_action_date</th>\n      <th>last_action</th>\n      <th>url</th>\n      <th>state_link</th>\n      <th>session_years</th>\n    </tr>\n  </thead>\n  <tbody>\n    <tr>\n      <th>0</th>\n      <td>59869</td>\n      <td>30</td>\n      <td>AB1</td>\n      <td>5</td>\n      <td>Vetoed</td>\n      <td>20091011</td>\n      <td>Teachers: program of professional growth: conf...</td>\n      <td>An act to amend Section 44277 of the Education...</td>\n      <td>0</td>\n      <td>NaN</td>\n      <td>20100114</td>\n      <td>Consideration of Governor's veto stricken from...</td>\n      <td>https://legiscan.com/CA/bill/AB1/2009</td>\n      <td>http://www.leginfo.ca.gov/cgi-bin/postquery?bi...</td>\n      <td>20092010</td>\n    </tr>\n    <tr>\n      <th>1</th>\n      <td>59870</td>\n      <td>30</td>\n      <td>AB2</td>\n      <td>5</td>\n      <td>Vetoed</td>\n      <td>20091011</td>\n      <td>Individual health care coverage.</td>\n      <td>An act to add Sections 1389.9, 1389.10, 1389.1...</td>\n      <td>0</td>\n      <td>NaN</td>\n      <td>20100114</td>\n      <td>Consideration of Governor's veto stricken from...</td>\n      <td>https://legiscan.com/CA/bill/AB2/2009</td>\n      <td>http://www.leginfo.ca.gov/cgi-bin/postquery?bi...</td>\n      <td>20092010</td>\n    </tr>\n    <tr>\n      <th>2</th>\n      <td>59871</td>\n      <td>30</td>\n      <td>AB3</td>\n      <td>5</td>\n      <td>Vetoed</td>\n      <td>20091011</td>\n      <td>Workforce development: Renewable Energy Workforce</td>\n      <td>An act to amend Sections 14202, 14203, 14204, ...</td>\n      <td>0</td>\n      <td>NaN</td>\n      <td>20100114</td>\n      <td>Consideration of Governor's veto stricken from...</td>\n      <td>https://legiscan.com/CA/bill/AB3/2009</td>\n      <td>http://www.leginfo.ca.gov/cgi-bin/postquery?bi...</td>\n      <td>20092010</td>\n    </tr>\n    <tr>\n      <th>3</th>\n      <td>59872</td>\n      <td>30</td>\n      <td>AB4</td>\n      <td>1</td>\n      <td>Introduced</td>\n      <td>20081201</td>\n      <td>Constitutional convention: delegates.</td>\n      <td>An act relating to the Constitutional Convention.</td>\n      <td>0</td>\n      <td>NaN</td>\n      <td>20100202</td>\n      <td>From committee: Filed with the Chief Clerk pur...</td>\n      <td>https://legiscan.com/CA/bill/AB4/2009</td>\n      <td>http://www.leginfo.ca.gov/cgi-bin/postquery?bi...</td>\n      <td>20072008</td>\n    </tr>\n    <tr>\n      <th>4</th>\n      <td>59873</td>\n      <td>30</td>\n      <td>AB5</td>\n      <td>4</td>\n      <td>Passed</td>\n      <td>20090629</td>\n      <td>Civil discovery: Electronic Discovery Act.</td>\n      <td>An act to amend Sections 2016.020, 2031.010, 2...</td>\n      <td>0</td>\n      <td>NaN</td>\n      <td>20090629</td>\n      <td>Chaptered by Secretary of State - Chapter 5, S...</td>\n      <td>https://legiscan.com/CA/bill/AB5/2009</td>\n      <td>http://www.leginfo.ca.gov/cgi-bin/postquery?bi...</td>\n      <td>20092010</td>\n    </tr>\n  </tbody>\n</table>\n</div>"
     },
     "execution_count": 97,
     "metadata": {},
     "output_type": "execute_result"
    }
   ],
   "source": [
    "#Stripping unneeded integers from the dates (we only need the year)\n",
    "templist = []\n",
    "for row in Full_Raw_DataFrame_test[\"status_date\"]:\n",
    "    templist.append(row[0:4:1])\n",
    "\n",
    "index = 0\n",
    "#Converting years to 2-years\n",
    "for i in templist:\n",
    "    if int(i) == 2007 or int(i) == 2008:\n",
    "        templist[index] = '20072008'\n",
    "    elif int(i) == 2009 or int(i) == 2010:\n",
    "        templist[index] = '20092010'\n",
    "    elif int(i) == 2011 or int(i) == 2012:\n",
    "        templist[index] = '20112012'\n",
    "    elif int(i) == 2013 or int(i) == 2014:\n",
    "        templist[index] = '20132014'\n",
    "    elif int(i) == 2015 or int(i) == 2016:\n",
    "        templist[index] = '20152016'\n",
    "    elif int(i) == 2017 or int(i) == 2018:\n",
    "        templist[index] = '20172018'\n",
    "    elif int(i) == 2019 or int(i) == 2020:\n",
    "        templist[index] = '20192020'\n",
    "    elif int(i) == 2021 or int(i) == 2022:\n",
    "        templist[index] = '20212022'\n",
    "    index += 1\n",
    "#Creating new column\n",
    "Full_Raw_DataFrame_test['session_years'] = templist\n",
    "Full_Raw_DataFrame_test.head(5) #Checking Dataframe"
   ],
   "metadata": {
    "collapsed": false,
    "pycharm": {
     "name": "#%%\n"
    }
   }
  },
  {
   "cell_type": "markdown",
   "source": [
    "#ONLY RUN THIS EVERY 10ish minutes. It is extremely RAM and CPU intensive and will either do these things\n",
    "#Best case scenario: Give you a RAM error\n",
    "#Second Best Case: Slow or Freeze Python\n",
    "#Absolute Worst Case: Get you IP Blocked from the Legislature Website\n",
    "\n",
    "index = 0\n",
    "#session_years + 0 + bill_number\n",
    "templist = [] #Resetting list\n",
    "#Iterating and scraping bill content into the list\n",
    "for row in Full_Raw_DataFrame_test.iterrows():\n",
    "    #print(str(Full_Raw_DataFrame_test.iloc[index]['session_years']) + '0' + str(Full_Raw_DataFrame_test.iloc[index]['bill_number']))\n",
    "    #Applying BeautifulSoup url scrape\n",
    "\n",
    "    url = ('https://leginfo.legislature.ca.gov/faces/billNavClient.xhtml?bill_id=' + str(Full_Raw_DataFrame_test.iloc[index]['session_years']) + '0' + str(Full_Raw_DataFrame_test.iloc[index]['bill_number']))\n",
    "    response = requests.post(url) #Requesting webpage using url\n",
    "    soup = BeautifulSoup(response.content, 'html.parser') #Using BeautifulSoup to go through content\n",
    "    templist.append(soup.find_all(id=\"bill_all\")) #Using BeautifulSoup to look for the bill text object and appending\n",
    "\n",
    "\n",
    "    index += 1\n",
    "\n",
    "#I will only run this again once I've figured out how to parse and pull only the text from the objects\n",
    "#Update: aborted due the the sheer amount of RAM needed to run. This is better left to a text of data scientists and a supercomputer, as\n",
    "#my macbook air and myself simple can't go any further from this point"
   ],
   "metadata": {
    "collapsed": false,
    "pycharm": {
     "name": "#%% md\n"
    }
   }
  },
  {
   "cell_type": "code",
   "execution_count": 101,
   "outputs": [
    {
     "data": {
      "text/plain": "[<div align=\"justify\" id=\"bill_all\"><div id=\"about\"><br clear=\"all\"/><div align=\"center\"><table align=\"center\" cellspacing=\"0\" style=\"border-collapse: collapse\"><tbody><tr><td align=\"center\"><span style=\" text-transform: uppercase; font-size: 1em\">\n                 Amended\n                IN </span><span style=\" text-transform: uppercase; font-size: 1em\">\n                 Assembly\n               </span> <span style=\"text-transform: uppercase\">March 31, 2009</span><br/></td></tr></tbody><tbody><tr><td align=\"center\"></td></tr></tbody></table></div><br clear=\"all\"/><div align=\"center\"><font size=\"3\" style=\"FONT-FAMILY: MinionPC, Arial Unicode MS\">\n                     CALIFORNIA LEGISLATURE—\n                     2009–2010 REGULAR SESSION</font></div><br clear=\"all\"/><span id=\"bill_house_num\"><div style=\"float: left; width:50%; font-weight: bold; \"><span style=\"text-transform: uppercase; text-align:left;width:50%;\"><b>\n                 Assembly Bill\n               </b></span></div><div style=\"float:right; width:50%; text-align:right;\"><span style=\"text-transform: uppercase;\"><b>No. 149</b></span></div></span><hr/><br clear=\"all\"/><div align=\"center\"><table align=\"center\" cellspacing=\"0\" style=\"border-collapse: collapse\"><tbody><tr><td align=\"center\" id=\"bill_authors\"><b><span class=\"blackText\">Introduced  by </span></b><span style=\"font-weight:bold;\"><span class=\"blackText\">\n                 Assembly Member\n               Jeffries<br clear=\"all\"/></span></span></td></tr><tr><td align=\"center\" class=\"textcenter\" id=\"bill_intro_date\"><br/>January 22, 2009</td></tr></tbody></table></div><hr/><br clear=\"all\"/><div id=\"title\"><span style=\"font-weight:normal;font-size:0.9em;\"><font color=\"RED\"><strike> An act to add Section 720 to the Public Resources Code, relating to</strike></font><font class=\"blue_text\" color=\"blue\"><i> An act to repeal and add Section 731 of the Public Resources Code, relating to</i></font> state government. </span></div><br clear=\"all\"/><br clear=\"all\"/><div align=\"center\"><h2>LEGISLATIVE COUNSEL'S DIGEST</h2></div><br/><div style=\"margin:0 0 1em 0\"><span id=\"subject\">AB 149, as amended, Jeffries.\n                           State government: board of forestry and fire protection<font color=\"RED\"><strike>: abolishment.</strike></font><font class=\"blue_text\" color=\"blue\"><i>: membership.</i></font></span></div><div><span id=\"digesttext\"><div style=\"margin:0 0 1em 0;\">Existing law requires the State Board of Forestry and Fire Protection to represent the state’s interest in the acquisition and management of state forests as provided by law and in federal land matters pertaining to forestry, and the protection of the state’s interests in forest resources on private lands. The board is required to determine, establish, and maintain an adequate forest policy. General policies for guidance of the Department of Forestry and Fire Protection are determined by the board.</div><font color=\"RED\"><strike><p style=\"display:inline;\"><strike>This bill would abolish the State Board of Forestry and Fire Protection and transfer its duties, responsibilities, powers, jurisdiction, liabilities, and functions to the Director of Forestry and Fire Protection.</strike></p><div style=\"margin:0 0 1em 0;\"></div></strike></font><font class=\"blue_text\" color=\"blue\"><i><div style=\"margin:0 0 1em 0;\">This bill would add 2 new members to the board. One member would be a currently serving county supervisor from a rural county that has entered into a cooperative agreement with the department to provide fire prevention and suppression services on lands within that county. In considering the appointment, the Governor would be required to give reasonable consideration to nominations by the Regional Council of Rural Counties. The other member would be a currently serving county supervisor from any county that has entered into a cooperative agreement with the department to provide fire prevention and suppression services on lands within that county. In considering the appointment, the Governor would be required to give reasonable consideration to nominations by the California State Association of Counties.</div></i></font><font class=\"blue_text\" color=\"blue\"><i><div style=\"margin:0 0 1em 0;\"> The bill would also make various technical, nonsubstantive changes.</div></i></font></span></div><span class=\"hidden\"><h2>Digest Key</h2></span><span id=\"vote\">\n       Vote:\n       <span style=\" text-transform: lowercase\">MAJORITY</span>  </span><span id=\"appropriation\">\n       Appropriation:\n       <span style=\" text-transform: lowercase\">NO</span>  </span><span id=\"fiscalcommittee\">\n       Fiscal Committee:\n       <span style=\" text-transform: lowercase\">YES</span>  </span><span id=\"localprogram\">\n       Local Program:\n       <span style=\" text-transform: lowercase\">NO</span>  </span></div><hr/><span class=\"hidden\"><h2>Bill Text</h2></span><div id=\"bill\"><div style=\" text-transform: uppercase\"><h2 style=\" text-align: left;\">The people of the State of California do enact as follows:</h2><br/></div><div id=\"s10.7203731388442622\"><div class=\"ActionLine\" style=\"margin:0 0 1em 0\"><h3 style=\"font-weight:bold; display:inline;\"><font class=\"blue_text\" color=\"blue\"><i>SECTION 1.</i></font></h3> <font class=\"blue_text\" color=\"blue\"><i>Section 731 of the Public Resources Code is repealed.</i></font></div><div><font color=\"RED\"><strike><caml:lawsection id=\"id_6CC10EE0-AD6E-482B-9071-91E81CE91A9F\"><div style=\"margin:0 0 0.5em 0;\"></div><caml:num>731.</caml:num><caml:lawsectionversion id=\"id_F4CC8BBC-02ED-47E6-B700-6A2B8BD643D9\"><caml:content><p style=\"display:inline;\"><strike>All members of the board shall be appointed and shall be selected and approved for appointment on the basis of their educational and professional qualifications and their general knowledge of, interest in, and experience with, problems relating to watershed management (including hydrology and soil science), forest management practices, fish and wildlife, range management, forest economics, or land use planning. Five members shall be selected from the general public, three members shall be selected from the forest products industry, and one member shall be selected from the range livestock industry. At no time shall a majority of the members, nor any of the members selected from the general public, be persons with a direct personal financial interest, within the meaning of Section 1120 of the Government Code, in timberlands. All members of the board shall represent the general public interest.</strike></p><div style=\"margin:0 0 1em 0;\"></div></caml:content></caml:lawsectionversion></caml:lawsection></strike></font></div></div><div id=\"s20.22824550520236664\"><div class=\"ActionLine\" style=\"margin:0 0 1em 0\"><h3 style=\"font-weight:bold; display:inline;\"><font class=\"blue_text\" color=\"blue\"><i>SEC. 2.</i></font></h3> <font class=\"blue_text\" color=\"blue\"><i>Section 731 is added to the Public Resources Code, to read:</i></font></div><div><font class=\"blue_text\" color=\"blue\"><i><div id=\"id_D26E2C0A-F8C4-4F38-9CE5-E9BC69360171\"><div><p><div style=\"margin:0 0 1em 0;\"><h6 style=\"display:inline;\">731.</h6> (a) (1) All of the following members of the board shall be appointed and shall be selected and approved for appointment on the basis of their educational and professional qualifications and their general knowledge of, interest in, and experience with, problems relating to watershed management, including hydrology and soil science, forest management practices, fish and wildlife, range management, forest economics, or land use planning:</div><div style=\"margin:0 0 1em 0;\">(A) Five members shall be selected from the general public.</div><div style=\"margin:0 0 1em 0;\">(B) Three members shall be selected from the forest products industry.</div><div style=\"margin:0 0 1em 0;\">(C) One member shall be selected from the range livestock industry.</div><div style=\"margin:0 0 1em 0;\">(2) One member shall be a county supervisor, currently serving on the county board of\n \t\t\t\t  supervisors, from a rural county that has entered into a cooperative agreement with the department to provide fire prevention and suppression services on lands within that county pursuant to Section 4142. When considering the appointment, the Governor shall give reasonable consideration to nominations provided by the Regional Council of Rural Counties.</div><div style=\"margin:0 0 1em 0;\">(3) One member shall be a county supervisor, currently serving on the county board of supervisors, from a county that has entered into a cooperative agreement with the department to provide fire prevention and suppression services on lands within that county pursuant to Section 4142. When considering the appointment, the Governor shall give reasonable consideration to nominations provided by the California State Association of Counties.</div><div style=\"margin:0 0 1em 0;\">(b) At no time shall a majority of the members, nor any of the members selected from the general public, be persons with a direct personal financial interest in\n \t\t\t\t  timberlands.</div><div style=\"margin:0 0 1em 0;\">(c) All members of the board shall represent the general public interest.</div></p></div></div></i></font></div></div><font color=\"RED\"><strike><caml:billsection id=\"id_3C9A0AA0-213F-43CA-A06D-9EAA3FE0AA78\"><div style=\"margin:0 0 0.5em 0;\"></div><caml:num>SECTION 1.</caml:num><caml:actionline action=\"IS_ADDED\" xlink:href=\"urn:caml:codes:PRC:caml#xpointer(%2Fcaml%3ALawDoc%2Fcaml%3ACode%2F%2Fcaml%3ALawSection%5Bcaml%3ANum%3D'720'%5D)\" xlink:label=\"fractionType: LAW_SECTION\" xlink:type=\"locator\">Section 720 is added to the <caml:docname>Public Resources Code</caml:docname>, to read:</caml:actionline><caml:fragment><caml:lawsection id=\"id_6B3F222C-3A7F-4C46-B736-6A729BDC2F5E\"><div style=\"margin:0 0 0.5em 0;\"></div><caml:num>720.</caml:num><caml:lawsectionversion id=\"id_8F239219-95E4-4B2F-8AE4-D7641438E9CF\"><caml:content><p style=\"display:inline;\"><strike>(a)<span class=\"EnSpace\"></span>The director succeeds to and is vested with all duties, responsibilities, powers, jurisdiction, liabilities, and functions of the board, which is hereby abolished. Any reference in any law to the duties, responsibilities, powers, and functions of the board, shall be considered a reference to the director unless the context otherwise requires. The director shall have possession and control of all records, books, papers, and other property, real, personal and mixed, now or hereafter held for the benefit or use of the board.</strike></p><div style=\"margin:0 0 1em 0;\"></div><p style=\"display:inline;\"><strike>(b)<span class=\"EnSpace\"></span>All employees of the board who are serving in the state civil service, other than as temporary employees when this section becomes effective, shall continue to be employees of the department\n \t\t\t\t  pursuant to Section 19050.9 of the Government Code. The status, position, and rights of any employee of the board shall not be affected by the transfer and shall be retained by the person as an employee of the department, as the case may be, pursuant to the State Civil Service Act (Part 2 (commencing with Section 18500) of Division 5 of Title 2 of the Government Code), except as to a position that is exempt from civil service.</strike></p><div style=\"margin:0 0 1em 0;\"></div><p style=\"display:inline;\"><strike>(c)<span class=\"EnSpace\"></span>All money available, including money that becomes available after the effective date of this section, for expenditure by the board to be used in the administration of any function, the exercise of any right, or performance of any duty, which function, right, or duty is transferred by this section, shall be transferred to the director who is to administer the function, exercise the right, or perform the duty. </strike></p><div style=\"margin:0 0 1em 0;\"></div></caml:content></caml:lawsectionversion></caml:lawsection></caml:fragment></caml:billsection></strike></font></div></div>]"
     },
     "execution_count": 101,
     "metadata": {},
     "output_type": "execute_result"
    }
   ],
   "source": [
    "#Will need to run on datahub or colab to get the entire list filled (aka all of the bills)\n",
    "#It works, but only if I have more RAM to store the finished list\n",
    "#Could possibly optimize by cleaning each scraped bill and performing term-search or\n",
    "#context analysis prior to writing to a list (saves on memory)"
   ],
   "metadata": {
    "collapsed": false,
    "pycharm": {
     "name": "#%%\n"
    }
   }
  }
 ],
 "metadata": {
  "kernelspec": {
   "display_name": "Python 3",
   "language": "python",
   "name": "python3"
  },
  "language_info": {
   "codemirror_mode": {
    "name": "ipython",
    "version": 2
   },
   "file_extension": ".py",
   "mimetype": "text/x-python",
   "name": "python",
   "nbconvert_exporter": "python",
   "pygments_lexer": "ipython2",
   "version": "2.7.6"
  }
 },
 "nbformat": 4,
 "nbformat_minor": 0
}